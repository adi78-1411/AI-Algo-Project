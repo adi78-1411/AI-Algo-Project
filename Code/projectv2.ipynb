{
 "cells": [
  {
   "cell_type": "code",
   "execution_count": 1,
   "metadata": {},
   "outputs": [],
   "source": [
    "import pandas as pd\n",
    "\n",
    "# Matplot\n",
    "import matplotlib.pyplot as plt\n",
    "%matplotlib inline\n",
    "\n",
    "# Scikit-learn\n",
    "from sklearn.model_selection import train_test_split\n",
    "from sklearn.preprocessing import LabelEncoder\n",
    "from sklearn.metrics import confusion_matrix, classification_report, accuracy_score\n",
    "from sklearn.manifold import TSNE\n",
    "from sklearn.feature_extraction.text import TfidfVectorizer\n",
    "\n",
    "# Keras\n",
    "from keras.preprocessing.text import Tokenizer\n",
    "from keras.preprocessing.sequence import pad_sequences\n",
    "from keras.models import Sequential\n",
    "from keras.layers import Activation, Dense, Dropout, Embedding, Flatten, Conv1D, MaxPooling1D, LSTM\n",
    "from keras import utils\n",
    "from keras.callbacks import ReduceLROnPlateau, EarlyStopping\n",
    "\n",
    "# nltk\n",
    "import nltk\n",
    "from nltk.corpus import stopwords\n",
    "from  nltk.stem import SnowballStemmer\n",
    "\n",
    "# Word2vec\n",
    "import gensim\n",
    "\n",
    "# Utility\n",
    "import re\n",
    "import numpy as np\n",
    "import os\n",
    "from collections import Counter\n",
    "import logging\n",
    "import time\n",
    "import pickle\n",
    "import itertools\n",
    "\n",
    "# Set log\n",
    "logging.basicConfig(format='%(asctime)s : %(levelname)s : %(message)s', level=logging.INFO)"
   ]
  },
  {
   "cell_type": "code",
   "execution_count": 2,
   "metadata": {},
   "outputs": [
    {
     "name": "stderr",
     "output_type": "stream",
     "text": [
      "[nltk_data] Downloading package stopwords to\n",
      "[nltk_data]     C:\\Users\\adity\\AppData\\Roaming\\nltk_data...\n",
      "[nltk_data]   Unzipping corpora\\stopwords.zip.\n"
     ]
    },
    {
     "data": {
      "text/plain": [
       "True"
      ]
     },
     "execution_count": 2,
     "metadata": {},
     "output_type": "execute_result"
    }
   ],
   "source": [
    "nltk.download('stopwords')"
   ]
  },
  {
   "cell_type": "code",
   "execution_count": 3,
   "metadata": {},
   "outputs": [],
   "source": [
    "DATASET_COLUMNS = [\"target\", \"ids\", \"date\", \"flag\", \"user\", \"text\"]\n",
    "DATASET_ENCODING = \"ISO-8859-1\"\n",
    "TRAIN_SIZE = 0.8\n",
    "\n",
    "# TEXT CLENAING\n",
    "TEXT_CLEANING_RE = \"@\\S+|https?:\\S+|http?:\\S|[^A-Za-z0-9]+\"\n",
    "\n",
    "# WORD2VEC \n",
    "W2V_SIZE = 300\n",
    "W2V_WINDOW = 7\n",
    "W2V_EPOCH = 32\n",
    "W2V_MIN_COUNT = 10\n",
    "\n",
    "# KERAS\n",
    "SEQUENCE_LENGTH = 300\n",
    "EPOCHS = 8\n",
    "BATCH_SIZE = 1024\n",
    "\n",
    "# SENTIMENT\n",
    "POSITIVE = \"POSITIVE\"\n",
    "NEGATIVE = \"NEGATIVE\"\n",
    "NEUTRAL = \"NEUTRAL\"\n",
    "SENTIMENT_THRESHOLDS = (0.4, 0.7)\n",
    "\n",
    "# EXPORT\n",
    "KERAS_MODEL = \"model.h5\"\n",
    "WORD2VEC_MODEL = \"model.w2v\"\n",
    "TOKENIZER_MODEL = \"tokenizer.pkl\"\n",
    "ENCODER_MODEL = \"encoder.pkl\""
   ]
  },
  {
   "cell_type": "code",
   "execution_count": 28,
   "metadata": {},
   "outputs": [
    {
     "name": "stdout",
     "output_type": "stream",
     "text": [
      "Open file: D:Tweets.csv\n"
     ]
    }
   ],
   "source": [
    "dataset_filename = os.listdir(\"D:\")[0]\n",
    "dataset_path = os.path.join(\"D:\",\"Tweets.csv\")\n",
    "print(\"Open file:\", dataset_path)\n",
    "df = pd.read_csv(dataset_path, encoding =DATASET_ENCODING , names=DATASET_COLUMNS)"
   ]
  },
  {
   "cell_type": "code",
   "execution_count": 29,
   "metadata": {},
   "outputs": [
    {
     "name": "stdout",
     "output_type": "stream",
     "text": [
      "Dataset size: 1600000\n"
     ]
    }
   ],
   "source": [
    "print(\"Dataset size:\", len(df))"
   ]
  },
  {
   "cell_type": "code",
   "execution_count": 30,
   "metadata": {},
   "outputs": [
    {
     "data": {
      "text/html": [
       "<div>\n",
       "<style scoped>\n",
       "    .dataframe tbody tr th:only-of-type {\n",
       "        vertical-align: middle;\n",
       "    }\n",
       "\n",
       "    .dataframe tbody tr th {\n",
       "        vertical-align: top;\n",
       "    }\n",
       "\n",
       "    .dataframe thead th {\n",
       "        text-align: right;\n",
       "    }\n",
       "</style>\n",
       "<table border=\"1\" class=\"dataframe\">\n",
       "  <thead>\n",
       "    <tr style=\"text-align: right;\">\n",
       "      <th></th>\n",
       "      <th>target</th>\n",
       "      <th>ids</th>\n",
       "      <th>date</th>\n",
       "      <th>flag</th>\n",
       "      <th>user</th>\n",
       "      <th>text</th>\n",
       "    </tr>\n",
       "  </thead>\n",
       "  <tbody>\n",
       "    <tr>\n",
       "      <th>0</th>\n",
       "      <td>0</td>\n",
       "      <td>1467810369</td>\n",
       "      <td>Mon Apr 06 22:19:45 PDT 2009</td>\n",
       "      <td>NO_QUERY</td>\n",
       "      <td>_TheSpecialOne_</td>\n",
       "      <td>@switchfoot http://twitpic.com/2y1zl - Awww, t...</td>\n",
       "    </tr>\n",
       "    <tr>\n",
       "      <th>1</th>\n",
       "      <td>0</td>\n",
       "      <td>1467810672</td>\n",
       "      <td>Mon Apr 06 22:19:49 PDT 2009</td>\n",
       "      <td>NO_QUERY</td>\n",
       "      <td>scotthamilton</td>\n",
       "      <td>is upset that he can't update his Facebook by ...</td>\n",
       "    </tr>\n",
       "    <tr>\n",
       "      <th>2</th>\n",
       "      <td>0</td>\n",
       "      <td>1467810917</td>\n",
       "      <td>Mon Apr 06 22:19:53 PDT 2009</td>\n",
       "      <td>NO_QUERY</td>\n",
       "      <td>mattycus</td>\n",
       "      <td>@Kenichan I dived many times for the ball. Man...</td>\n",
       "    </tr>\n",
       "    <tr>\n",
       "      <th>3</th>\n",
       "      <td>0</td>\n",
       "      <td>1467811184</td>\n",
       "      <td>Mon Apr 06 22:19:57 PDT 2009</td>\n",
       "      <td>NO_QUERY</td>\n",
       "      <td>ElleCTF</td>\n",
       "      <td>my whole body feels itchy and like its on fire</td>\n",
       "    </tr>\n",
       "    <tr>\n",
       "      <th>4</th>\n",
       "      <td>0</td>\n",
       "      <td>1467811193</td>\n",
       "      <td>Mon Apr 06 22:19:57 PDT 2009</td>\n",
       "      <td>NO_QUERY</td>\n",
       "      <td>Karoli</td>\n",
       "      <td>@nationwideclass no, it's not behaving at all....</td>\n",
       "    </tr>\n",
       "  </tbody>\n",
       "</table>\n",
       "</div>"
      ],
      "text/plain": [
       "   target         ids                          date      flag  \\\n",
       "0       0  1467810369  Mon Apr 06 22:19:45 PDT 2009  NO_QUERY   \n",
       "1       0  1467810672  Mon Apr 06 22:19:49 PDT 2009  NO_QUERY   \n",
       "2       0  1467810917  Mon Apr 06 22:19:53 PDT 2009  NO_QUERY   \n",
       "3       0  1467811184  Mon Apr 06 22:19:57 PDT 2009  NO_QUERY   \n",
       "4       0  1467811193  Mon Apr 06 22:19:57 PDT 2009  NO_QUERY   \n",
       "\n",
       "              user                                               text  \n",
       "0  _TheSpecialOne_  @switchfoot http://twitpic.com/2y1zl - Awww, t...  \n",
       "1    scotthamilton  is upset that he can't update his Facebook by ...  \n",
       "2         mattycus  @Kenichan I dived many times for the ball. Man...  \n",
       "3          ElleCTF    my whole body feels itchy and like its on fire   \n",
       "4           Karoli  @nationwideclass no, it's not behaving at all....  "
      ]
     },
     "execution_count": 30,
     "metadata": {},
     "output_type": "execute_result"
    }
   ],
   "source": [
    "df.head(5)"
   ]
  },
  {
   "cell_type": "code",
   "execution_count": 31,
   "metadata": {},
   "outputs": [],
   "source": [
    "decode_map = {0: \"NEGATIVE\", 2: \"NEUTRAL\", 4: \"POSITIVE\"}\n",
    "def decode_sentiment(label):\n",
    "    return decode_map[int(label)]"
   ]
  },
  {
   "cell_type": "code",
   "execution_count": 32,
   "metadata": {},
   "outputs": [
    {
     "name": "stdout",
     "output_type": "stream",
     "text": [
      "Wall time: 446 ms\n"
     ]
    }
   ],
   "source": [
    "%%time\n",
    "df.target = df.target.apply(lambda x: decode_sentiment(x))"
   ]
  },
  {
   "cell_type": "code",
   "execution_count": 33,
   "metadata": {},
   "outputs": [
    {
     "data": {
      "text/plain": [
       "Text(0.5, 1.0, 'Dataset labels distribuition')"
      ]
     },
     "execution_count": 33,
     "metadata": {},
     "output_type": "execute_result"
    },
    {
     "data": {
      "image/png": "[encoded data removed]",
      "text/plain": [
       "<Figure size 1152x576 with 1 Axes>"
      ]
     },
     "metadata": {
      "needs_background": "light"
     },
     "output_type": "display_data"
    }
   ],
   "source": [
    "target_cnt = Counter(df.target)\n",
    "\n",
    "plt.figure(figsize=(16,8))\n",
    "plt.bar(target_cnt.keys(), target_cnt.values())\n",
    "plt.title(\"Dataset labels distribuition\")"
   ]
  },
  {
   "cell_type": "code",
   "execution_count": 34,
   "metadata": {},
   "outputs": [],
   "source": [
    "stop_words = stopwords.words(\"english\")\n",
    "stemmer = SnowballStemmer(\"english\")\n"
   ]
  },
  {
   "cell_type": "code",
   "execution_count": 35,
   "metadata": {},
   "outputs": [],
   "source": [
    "def preprocess(text, stem=False):\n",
    "    # Remove link,user and special characters\n",
    "    text = re.sub(TEXT_CLEANING_RE, ' ', str(text).lower()).strip()\n",
    "    tokens = []\n",
    "    for token in text.split():\n",
    "        if token not in stop_words:\n",
    "            if stem:\n",
    "                tokens.append(stemmer.stem(token))\n",
    "            else:\n",
    "                tokens.append(token)\n",
    "    return \" \".join(tokens)"
   ]
  },
  {
   "cell_type": "code",
   "execution_count": 36,
   "metadata": {},
   "outputs": [
    {
     "name": "stdout",
     "output_type": "stream",
     "text": [
      "Wall time: 42.7 s\n"
     ]
    }
   ],
   "source": [
    "%%time\n",
    "df.text = df.text.apply(lambda x: preprocess(x))"
   ]
  },
  {
   "cell_type": "code",
   "execution_count": 37,
   "metadata": {},
   "outputs": [
    {
     "name": "stdout",
     "output_type": "stream",
     "text": [
      "TRAIN size: 1280000\n",
      "TEST size: 320000\n"
     ]
    }
   ],
   "source": [
    "df_train, df_test = train_test_split(df, test_size=1-TRAIN_SIZE, random_state=42)\n",
    "print(\"TRAIN size:\", len(df_train))\n",
    "print(\"TEST size:\", len(df_test))"
   ]
  },
  {
   "cell_type": "code",
   "execution_count": 39,
   "metadata": {},
   "outputs": [
    {
     "name": "stdout",
     "output_type": "stream",
     "text": [
      "Wall time: 2.58 s\n"
     ]
    }
   ],
   "source": [
    "%%time\n",
    "documents = [_text.split() for _text in df_train.text] "
   ]
  },
  {
   "cell_type": "code",
   "execution_count": 40,
   "metadata": {},
   "outputs": [],
   "source": [
    "w2v_model = gensim.models.word2vec.Word2Vec(size=W2V_SIZE, \n",
    "                                            window=W2V_WINDOW, \n",
    "                                            min_count=W2V_MIN_COUNT, \n",
    "                                            workers=8)"
   ]
  },
  {
   "cell_type": "code",
   "execution_count": 41,
   "metadata": {},
   "outputs": [
    {
     "name": "stderr",
     "output_type": "stream",
     "text": [
      "2020-12-01 22:15:54,810 : INFO : collecting all words and their counts\n",
      "2020-12-01 22:15:54,811 : INFO : PROGRESS: at sentence #0, processed 0 words, keeping 0 word types\n",
      "2020-12-01 22:15:54,827 : INFO : PROGRESS: at sentence #10000, processed 72565 words, keeping 14005 word types\n",
      "2020-12-01 22:15:54,846 : INFO : PROGRESS: at sentence #20000, processed 144393 words, keeping 21587 word types\n",
      "2020-12-01 22:15:54,866 : INFO : PROGRESS: at sentence #30000, processed 215826 words, keeping 27541 word types\n",
      "2020-12-01 22:15:54,884 : INFO : PROGRESS: at sentence #40000, processed 288271 words, keeping 32764 word types\n",
      "2020-12-01 22:15:54,902 : INFO : PROGRESS: at sentence #50000, processed 359772 words, keeping 37587 word types\n",
      "2020-12-01 22:15:54,921 : INFO : PROGRESS: at sentence #60000, processed 431431 words, keeping 42198 word types\n",
      "2020-12-01 22:15:54,942 : INFO : PROGRESS: at sentence #70000, processed 503103 words, keeping 46458 word types\n",
      "2020-12-01 22:15:54,962 : INFO : PROGRESS: at sentence #80000, processed 575709 words, keeping 50476 word types\n",
      "2020-12-01 22:15:54,978 : INFO : PROGRESS: at sentence #90000, processed 647100 words, keeping 54140 word types\n",
      "2020-12-01 22:15:54,996 : INFO : PROGRESS: at sentence #100000, processed 718681 words, keeping 57777 word types\n",
      "2020-12-01 22:15:55,012 : INFO : PROGRESS: at sentence #110000, processed 790696 words, keeping 61207 word types\n",
      "2020-12-01 22:15:55,031 : INFO : PROGRESS: at sentence #120000, processed 863134 words, keeping 64583 word types\n",
      "2020-12-01 22:15:55,049 : INFO : PROGRESS: at sentence #130000, processed 935111 words, keeping 67865 word types\n",
      "2020-12-01 22:15:55,063 : INFO : PROGRESS: at sentence #140000, processed 1006668 words, keeping 70966 word types\n",
      "2020-12-01 22:15:55,082 : INFO : PROGRESS: at sentence #150000, processed 1078512 words, keeping 74119 word types\n",
      "2020-12-01 22:15:55,102 : INFO : PROGRESS: at sentence #160000, processed 1149914 words, keeping 77187 word types\n",
      "2020-12-01 22:15:55,119 : INFO : PROGRESS: at sentence #170000, processed 1222145 words, keeping 80267 word types\n",
      "2020-12-01 22:15:55,136 : INFO : PROGRESS: at sentence #180000, processed 1294708 words, keeping 83393 word types\n",
      "2020-12-01 22:15:55,153 : INFO : PROGRESS: at sentence #190000, processed 1367608 words, keeping 86329 word types\n",
      "2020-12-01 22:15:55,178 : INFO : PROGRESS: at sentence #200000, processed 1439469 words, keeping 89103 word types\n",
      "2020-12-01 22:15:55,200 : INFO : PROGRESS: at sentence #210000, processed 1512099 words, keeping 91840 word types\n",
      "2020-12-01 22:15:55,221 : INFO : PROGRESS: at sentence #220000, processed 1584149 words, keeping 94636 word types\n",
      "2020-12-01 22:15:55,248 : INFO : PROGRESS: at sentence #230000, processed 1656354 words, keeping 97353 word types\n",
      "2020-12-01 22:15:55,267 : INFO : PROGRESS: at sentence #240000, processed 1728573 words, keeping 99975 word types\n",
      "2020-12-01 22:15:55,289 : INFO : PROGRESS: at sentence #250000, processed 1801102 words, keeping 102594 word types\n",
      "2020-12-01 22:15:55,308 : INFO : PROGRESS: at sentence #260000, processed 1873103 words, keeping 105162 word types\n",
      "2020-12-01 22:15:55,328 : INFO : PROGRESS: at sentence #270000, processed 1945245 words, keeping 107626 word types\n",
      "2020-12-01 22:15:55,344 : INFO : PROGRESS: at sentence #280000, processed 2017163 words, keeping 110141 word types\n",
      "2020-12-01 22:15:55,364 : INFO : PROGRESS: at sentence #290000, processed 2089574 words, keeping 112539 word types\n",
      "2020-12-01 22:15:55,384 : INFO : PROGRESS: at sentence #300000, processed 2160996 words, keeping 114893 word types\n",
      "2020-12-01 22:15:55,402 : INFO : PROGRESS: at sentence #310000, processed 2232913 words, keeping 117298 word types\n",
      "2020-12-01 22:15:55,422 : INFO : PROGRESS: at sentence #320000, processed 2305039 words, keeping 119693 word types\n",
      "2020-12-01 22:15:55,438 : INFO : PROGRESS: at sentence #330000, processed 2377119 words, keeping 122131 word types\n",
      "2020-12-01 22:15:55,457 : INFO : PROGRESS: at sentence #340000, processed 2449370 words, keeping 124416 word types\n",
      "2020-12-01 22:15:55,477 : INFO : PROGRESS: at sentence #350000, processed 2521564 words, keeping 126669 word types\n",
      "2020-12-01 22:15:55,497 : INFO : PROGRESS: at sentence #360000, processed 2593681 words, keeping 128912 word types\n",
      "2020-12-01 22:15:55,513 : INFO : PROGRESS: at sentence #370000, processed 2665692 words, keeping 131135 word types\n",
      "2020-12-01 22:15:55,534 : INFO : PROGRESS: at sentence #380000, processed 2737859 words, keeping 133403 word types\n",
      "2020-12-01 22:15:55,555 : INFO : PROGRESS: at sentence #390000, processed 2809848 words, keeping 135551 word types\n",
      "2020-12-01 22:15:55,576 : INFO : PROGRESS: at sentence #400000, processed 2882438 words, keeping 137742 word types\n",
      "2020-12-01 22:15:55,594 : INFO : PROGRESS: at sentence #410000, processed 2954075 words, keeping 139909 word types\n",
      "2020-12-01 22:15:55,610 : INFO : PROGRESS: at sentence #420000, processed 3026247 words, keeping 142144 word types\n",
      "2020-12-01 22:15:55,630 : INFO : PROGRESS: at sentence #430000, processed 3098659 words, keeping 144364 word types\n",
      "2020-12-01 22:15:55,648 : INFO : PROGRESS: at sentence #440000, processed 3170663 words, keeping 146439 word types\n",
      "2020-12-01 22:15:55,666 : INFO : PROGRESS: at sentence #450000, processed 3243344 words, keeping 148526 word types\n",
      "2020-12-01 22:15:55,685 : INFO : PROGRESS: at sentence #460000, processed 3315466 words, keeping 150610 word types\n",
      "2020-12-01 22:15:55,705 : INFO : PROGRESS: at sentence #470000, processed 3388295 words, keeping 152737 word types\n",
      "2020-12-01 22:15:55,723 : INFO : PROGRESS: at sentence #480000, processed 3460120 words, keeping 154757 word types\n",
      "2020-12-01 22:15:55,742 : INFO : PROGRESS: at sentence #490000, processed 3531883 words, keeping 156825 word types\n",
      "2020-12-01 22:15:55,761 : INFO : PROGRESS: at sentence #500000, processed 3604217 words, keeping 158859 word types\n",
      "2020-12-01 22:15:55,781 : INFO : PROGRESS: at sentence #510000, processed 3676427 words, keeping 160852 word types\n",
      "2020-12-01 22:15:55,799 : INFO : PROGRESS: at sentence #520000, processed 3749045 words, keeping 162863 word types\n",
      "2020-12-01 22:15:55,815 : INFO : PROGRESS: at sentence #530000, processed 3821622 words, keeping 164929 word types\n",
      "2020-12-01 22:15:55,834 : INFO : PROGRESS: at sentence #540000, processed 3893627 words, keeping 166840 word types\n",
      "2020-12-01 22:15:55,851 : INFO : PROGRESS: at sentence #550000, processed 3965477 words, keeping 168799 word types\n",
      "2020-12-01 22:15:55,871 : INFO : PROGRESS: at sentence #560000, processed 4038050 words, keeping 170802 word types\n",
      "2020-12-01 22:15:55,889 : INFO : PROGRESS: at sentence #570000, processed 4110296 words, keeping 172760 word types\n",
      "2020-12-01 22:15:55,905 : INFO : PROGRESS: at sentence #580000, processed 4182385 words, keeping 174635 word types\n",
      "2020-12-01 22:15:55,930 : INFO : PROGRESS: at sentence #590000, processed 4254632 words, keeping 176470 word types\n",
      "2020-12-01 22:15:55,949 : INFO : PROGRESS: at sentence #600000, processed 4326859 words, keeping 178350 word types\n",
      "2020-12-01 22:15:55,969 : INFO : PROGRESS: at sentence #610000, processed 4399183 words, keeping 180290 word types\n",
      "2020-12-01 22:15:55,988 : INFO : PROGRESS: at sentence #620000, processed 4471343 words, keeping 182129 word types\n",
      "2020-12-01 22:15:56,008 : INFO : PROGRESS: at sentence #630000, processed 4543286 words, keeping 184005 word types\n",
      "2020-12-01 22:15:56,026 : INFO : PROGRESS: at sentence #640000, processed 4615780 words, keeping 185835 word types\n",
      "2020-12-01 22:15:56,044 : INFO : PROGRESS: at sentence #650000, processed 4688481 words, keeping 187705 word types\n",
      "2020-12-01 22:15:56,063 : INFO : PROGRESS: at sentence #660000, processed 4760481 words, keeping 189439 word types\n",
      "2020-12-01 22:15:56,082 : INFO : PROGRESS: at sentence #670000, processed 4833024 words, keeping 191232 word types\n",
      "2020-12-01 22:15:56,100 : INFO : PROGRESS: at sentence #680000, processed 4904516 words, keeping 193177 word types\n",
      "2020-12-01 22:15:56,119 : INFO : PROGRESS: at sentence #690000, processed 4976968 words, keeping 194960 word types\n",
      "2020-12-01 22:15:56,139 : INFO : PROGRESS: at sentence #700000, processed 5049412 words, keeping 196725 word types\n",
      "2020-12-01 22:15:56,158 : INFO : PROGRESS: at sentence #710000, processed 5121976 words, keeping 198516 word types\n"
     ]
    },
    {
     "name": "stderr",
     "output_type": "stream",
     "text": [
      "2020-12-01 22:15:56,178 : INFO : PROGRESS: at sentence #720000, processed 5193881 words, keeping 200325 word types\n",
      "2020-12-01 22:15:56,196 : INFO : PROGRESS: at sentence #730000, processed 5265467 words, keeping 202133 word types\n",
      "2020-12-01 22:15:56,211 : INFO : PROGRESS: at sentence #740000, processed 5337518 words, keeping 203818 word types\n",
      "2020-12-01 22:15:56,231 : INFO : PROGRESS: at sentence #750000, processed 5409321 words, keeping 205535 word types\n",
      "2020-12-01 22:15:56,253 : INFO : PROGRESS: at sentence #760000, processed 5481512 words, keeping 207282 word types\n",
      "2020-12-01 22:15:56,269 : INFO : PROGRESS: at sentence #770000, processed 5554093 words, keeping 209076 word types\n",
      "2020-12-01 22:15:56,285 : INFO : PROGRESS: at sentence #780000, processed 5625382 words, keeping 210805 word types\n",
      "2020-12-01 22:15:56,307 : INFO : PROGRESS: at sentence #790000, processed 5698066 words, keeping 212618 word types\n",
      "2020-12-01 22:15:56,325 : INFO : PROGRESS: at sentence #800000, processed 5770880 words, keeping 214374 word types\n",
      "2020-12-01 22:15:56,343 : INFO : PROGRESS: at sentence #810000, processed 5843418 words, keeping 216009 word types\n",
      "2020-12-01 22:15:56,362 : INFO : PROGRESS: at sentence #820000, processed 5915628 words, keeping 217804 word types\n",
      "2020-12-01 22:15:56,381 : INFO : PROGRESS: at sentence #830000, processed 5987499 words, keeping 219585 word types\n",
      "2020-12-01 22:15:56,398 : INFO : PROGRESS: at sentence #840000, processed 6058973 words, keeping 221344 word types\n",
      "2020-12-01 22:15:56,418 : INFO : PROGRESS: at sentence #850000, processed 6131125 words, keeping 223002 word types\n",
      "2020-12-01 22:15:56,437 : INFO : PROGRESS: at sentence #860000, processed 6202951 words, keeping 224643 word types\n",
      "2020-12-01 22:15:56,456 : INFO : PROGRESS: at sentence #870000, processed 6275461 words, keeping 226362 word types\n",
      "2020-12-01 22:15:56,475 : INFO : PROGRESS: at sentence #880000, processed 6347661 words, keeping 227986 word types\n",
      "2020-12-01 22:15:56,495 : INFO : PROGRESS: at sentence #890000, processed 6419806 words, keeping 229634 word types\n",
      "2020-12-01 22:15:56,513 : INFO : PROGRESS: at sentence #900000, processed 6491644 words, keeping 231389 word types\n",
      "2020-12-01 22:15:56,531 : INFO : PROGRESS: at sentence #910000, processed 6564022 words, keeping 233050 word types\n",
      "2020-12-01 22:15:56,548 : INFO : PROGRESS: at sentence #920000, processed 6636228 words, keeping 234686 word types\n",
      "2020-12-01 22:15:56,569 : INFO : PROGRESS: at sentence #930000, processed 6708573 words, keeping 236393 word types\n",
      "2020-12-01 22:15:56,588 : INFO : PROGRESS: at sentence #940000, processed 6779956 words, keeping 238052 word types\n",
      "2020-12-01 22:15:56,605 : INFO : PROGRESS: at sentence #950000, processed 6852599 words, keeping 239716 word types\n",
      "2020-12-01 22:15:56,624 : INFO : PROGRESS: at sentence #960000, processed 6924717 words, keeping 241354 word types\n",
      "2020-12-01 22:15:56,644 : INFO : PROGRESS: at sentence #970000, processed 6996992 words, keeping 242980 word types\n",
      "2020-12-01 22:15:56,661 : INFO : PROGRESS: at sentence #980000, processed 7068402 words, keeping 244646 word types\n",
      "2020-12-01 22:15:56,680 : INFO : PROGRESS: at sentence #990000, processed 7140346 words, keeping 246186 word types\n",
      "2020-12-01 22:15:56,700 : INFO : PROGRESS: at sentence #1000000, processed 7211757 words, keeping 247726 word types\n",
      "2020-12-01 22:15:56,720 : INFO : PROGRESS: at sentence #1010000, processed 7283267 words, keeping 249288 word types\n",
      "2020-12-01 22:15:56,737 : INFO : PROGRESS: at sentence #1020000, processed 7355299 words, keeping 250860 word types\n",
      "2020-12-01 22:15:56,754 : INFO : PROGRESS: at sentence #1030000, processed 7426918 words, keeping 252366 word types\n",
      "2020-12-01 22:15:56,774 : INFO : PROGRESS: at sentence #1040000, processed 7498815 words, keeping 253930 word types\n",
      "2020-12-01 22:15:56,793 : INFO : PROGRESS: at sentence #1050000, processed 7570499 words, keeping 255471 word types\n",
      "2020-12-01 22:15:56,813 : INFO : PROGRESS: at sentence #1060000, processed 7643251 words, keeping 257035 word types\n",
      "2020-12-01 22:15:56,836 : INFO : PROGRESS: at sentence #1070000, processed 7714721 words, keeping 258509 word types\n",
      "2020-12-01 22:15:56,856 : INFO : PROGRESS: at sentence #1080000, processed 7787371 words, keeping 260071 word types\n",
      "2020-12-01 22:15:56,876 : INFO : PROGRESS: at sentence #1090000, processed 7859336 words, keeping 261683 word types\n",
      "2020-12-01 22:15:56,895 : INFO : PROGRESS: at sentence #1100000, processed 7932029 words, keeping 263278 word types\n",
      "2020-12-01 22:15:56,911 : INFO : PROGRESS: at sentence #1110000, processed 8004146 words, keeping 264800 word types\n",
      "2020-12-01 22:15:56,932 : INFO : PROGRESS: at sentence #1120000, processed 8075880 words, keeping 266309 word types\n",
      "2020-12-01 22:15:56,951 : INFO : PROGRESS: at sentence #1130000, processed 8148163 words, keeping 267826 word types\n",
      "2020-12-01 22:15:56,970 : INFO : PROGRESS: at sentence #1140000, processed 8220487 words, keeping 269391 word types\n",
      "2020-12-01 22:15:56,988 : INFO : PROGRESS: at sentence #1150000, processed 8292498 words, keeping 270894 word types\n",
      "2020-12-01 22:15:57,005 : INFO : PROGRESS: at sentence #1160000, processed 8363838 words, keeping 272400 word types\n",
      "2020-12-01 22:15:57,025 : INFO : PROGRESS: at sentence #1170000, processed 8435510 words, keeping 273970 word types\n",
      "2020-12-01 22:15:57,046 : INFO : PROGRESS: at sentence #1180000, processed 8507795 words, keeping 275521 word types\n",
      "2020-12-01 22:15:57,064 : INFO : PROGRESS: at sentence #1190000, processed 8579080 words, keeping 277007 word types\n",
      "2020-12-01 22:15:57,084 : INFO : PROGRESS: at sentence #1200000, processed 8650606 words, keeping 278457 word types\n",
      "2020-12-01 22:15:57,105 : INFO : PROGRESS: at sentence #1210000, processed 8721893 words, keeping 279959 word types\n",
      "2020-12-01 22:15:57,124 : INFO : PROGRESS: at sentence #1220000, processed 8793795 words, keeping 281427 word types\n",
      "2020-12-01 22:15:57,141 : INFO : PROGRESS: at sentence #1230000, processed 8865726 words, keeping 282981 word types\n",
      "2020-12-01 22:15:57,162 : INFO : PROGRESS: at sentence #1240000, processed 8938173 words, keeping 284542 word types\n",
      "2020-12-01 22:15:57,183 : INFO : PROGRESS: at sentence #1250000, processed 9010842 words, keeping 286064 word types\n",
      "2020-12-01 22:15:57,201 : INFO : PROGRESS: at sentence #1260000, processed 9083261 words, keeping 287521 word types\n",
      "2020-12-01 22:15:57,218 : INFO : PROGRESS: at sentence #1270000, processed 9155616 words, keeping 288987 word types\n",
      "2020-12-01 22:15:57,239 : INFO : collected 290418 word types from a corpus of 9227204 raw words and 1280000 sentences\n",
      "2020-12-01 22:15:57,240 : INFO : Loading a fresh vocabulary\n",
      "2020-12-01 22:15:57,362 : INFO : effective_min_count=10 retains 30369 unique words (10% of original 290418, drops 260049)\n",
      "2020-12-01 22:15:57,363 : INFO : effective_min_count=10 leaves 8780739 word corpus (95% of original 9227204, drops 446465)\n",
      "2020-12-01 22:15:57,435 : INFO : deleting the raw counts dictionary of 290418 items\n",
      "2020-12-01 22:15:57,440 : INFO : sample=0.001 downsamples 45 most-common words\n",
      "2020-12-01 22:15:57,441 : INFO : downsampling leaves estimated 8222658 word corpus (93.6% of prior 8780739)\n",
      "2020-12-01 22:15:57,519 : INFO : estimated required memory for 30369 words and 300 dimensions: 88070100 bytes\n",
      "2020-12-01 22:15:57,519 : INFO : resetting layer weights\n"
     ]
    }
   ],
   "source": [
    "w2v_model.build_vocab(documents)"
   ]
  },
  {
   "cell_type": "code",
   "execution_count": 42,
   "metadata": {},
   "outputs": [
    {
     "name": "stdout",
     "output_type": "stream",
     "text": [
      "Vocab size 30369\n"
     ]
    }
   ],
   "source": [
    "words = w2v_model.wv.vocab.keys()\n",
    "vocab_size = len(words)\n",
    "print(\"Vocab size\", vocab_size)"
   ]
  },
  {
   "cell_type": "code",
   "execution_count": 43,
   "metadata": {},
   "outputs": [
    {
     "name": "stderr",
     "output_type": "stream",
     "text": [
      "2020-12-01 22:16:24,089 : INFO : training model with 8 workers on 30369 vocabulary and 300 features, using sg=0 hs=0 sample=0.001 negative=5 window=7\n",
      "2020-12-01 22:16:25,109 : INFO : EPOCH 1 - PROGRESS: at 17.24% examples, 1410636 words/s, in_qsize 16, out_qsize 1\n",
      "2020-12-01 22:16:26,109 : INFO : EPOCH 1 - PROGRESS: at 33.06% examples, 1355455 words/s, in_qsize 15, out_qsize 0\n",
      "2020-12-01 22:16:27,116 : INFO : EPOCH 1 - PROGRESS: at 46.46% examples, 1268622 words/s, in_qsize 16, out_qsize 1\n",
      "2020-12-01 22:16:28,128 : INFO : EPOCH 1 - PROGRESS: at 58.26% examples, 1191475 words/s, in_qsize 15, out_qsize 0\n",
      "2020-12-01 22:16:29,130 : INFO : EPOCH 1 - PROGRESS: at 67.66% examples, 1107983 words/s, in_qsize 15, out_qsize 0\n",
      "2020-12-01 22:16:30,139 : INFO : EPOCH 1 - PROGRESS: at 76.55% examples, 1043671 words/s, in_qsize 13, out_qsize 2\n",
      "2020-12-01 22:16:31,148 : INFO : EPOCH 1 - PROGRESS: at 86.21% examples, 1006737 words/s, in_qsize 15, out_qsize 0\n",
      "2020-12-01 22:16:31,989 : INFO : worker thread finished; awaiting finish of 7 more threads\n",
      "2020-12-01 22:16:32,013 : INFO : worker thread finished; awaiting finish of 6 more threads\n",
      "2020-12-01 22:16:32,015 : INFO : worker thread finished; awaiting finish of 5 more threads\n",
      "2020-12-01 22:16:32,026 : INFO : worker thread finished; awaiting finish of 4 more threads\n",
      "2020-12-01 22:16:32,032 : INFO : worker thread finished; awaiting finish of 3 more threads\n",
      "2020-12-01 22:16:32,034 : INFO : worker thread finished; awaiting finish of 2 more threads\n",
      "2020-12-01 22:16:32,051 : INFO : worker thread finished; awaiting finish of 1 more threads\n",
      "2020-12-01 22:16:32,052 : INFO : worker thread finished; awaiting finish of 0 more threads\n",
      "2020-12-01 22:16:32,053 : INFO : EPOCH - 1 : training on 9227204 raw words (8223624 effective words) took 7.9s, 1034562 effective words/s\n",
      "2020-12-01 22:16:33,074 : INFO : EPOCH 2 - PROGRESS: at 9.01% examples, 733612 words/s, in_qsize 14, out_qsize 1\n",
      "2020-12-01 22:16:34,100 : INFO : EPOCH 2 - PROGRESS: at 19.19% examples, 775455 words/s, in_qsize 16, out_qsize 1\n",
      "2020-12-01 22:16:35,101 : INFO : EPOCH 2 - PROGRESS: at 28.83% examples, 780939 words/s, in_qsize 16, out_qsize 0\n",
      "2020-12-01 22:16:36,116 : INFO : EPOCH 2 - PROGRESS: at 38.25% examples, 776500 words/s, in_qsize 16, out_qsize 1\n",
      "2020-12-01 22:16:37,137 : INFO : EPOCH 2 - PROGRESS: at 47.32% examples, 767776 words/s, in_qsize 16, out_qsize 0\n",
      "2020-12-01 22:16:38,189 : INFO : EPOCH 2 - PROGRESS: at 56.29% examples, 756714 words/s, in_qsize 13, out_qsize 2\n",
      "2020-12-01 22:16:39,194 : INFO : EPOCH 2 - PROGRESS: at 65.72% examples, 758767 words/s, in_qsize 16, out_qsize 0\n",
      "2020-12-01 22:16:40,213 : INFO : EPOCH 2 - PROGRESS: at 74.92% examples, 756705 words/s, in_qsize 15, out_qsize 0\n",
      "2020-12-01 22:16:41,242 : INFO : EPOCH 2 - PROGRESS: at 85.66% examples, 767988 words/s, in_qsize 15, out_qsize 0\n",
      "2020-12-01 22:16:42,054 : INFO : worker thread finished; awaiting finish of 7 more threads\n",
      "2020-12-01 22:16:42,060 : INFO : worker thread finished; awaiting finish of 6 more threads\n",
      "2020-12-01 22:16:42,064 : INFO : worker thread finished; awaiting finish of 5 more threads\n",
      "2020-12-01 22:16:42,069 : INFO : worker thread finished; awaiting finish of 4 more threads\n",
      "2020-12-01 22:16:42,075 : INFO : worker thread finished; awaiting finish of 3 more threads\n",
      "2020-12-01 22:16:42,076 : INFO : worker thread finished; awaiting finish of 2 more threads\n",
      "2020-12-01 22:16:42,077 : INFO : worker thread finished; awaiting finish of 1 more threads\n",
      "2020-12-01 22:16:42,082 : INFO : worker thread finished; awaiting finish of 0 more threads\n",
      "2020-12-01 22:16:42,083 : INFO : EPOCH - 2 : training on 9227204 raw words (8222076 effective words) took 10.0s, 820883 effective words/s\n",
      "2020-12-01 22:16:43,099 : INFO : EPOCH 3 - PROGRESS: at 17.13% examples, 1403788 words/s, in_qsize 14, out_qsize 1\n",
      "2020-12-01 22:16:44,101 : INFO : EPOCH 3 - PROGRESS: at 34.13% examples, 1399674 words/s, in_qsize 16, out_qsize 1\n",
      "2020-12-01 22:16:45,105 : INFO : EPOCH 3 - PROGRESS: at 51.97% examples, 1421121 words/s, in_qsize 15, out_qsize 0\n",
      "2020-12-01 22:16:46,107 : INFO : EPOCH 3 - PROGRESS: at 69.72% examples, 1430536 words/s, in_qsize 15, out_qsize 0\n",
      "2020-12-01 22:16:47,108 : INFO : EPOCH 3 - PROGRESS: at 86.75% examples, 1423722 words/s, in_qsize 15, out_qsize 0\n",
      "2020-12-01 22:16:47,880 : INFO : worker thread finished; awaiting finish of 7 more threads\n",
      "2020-12-01 22:16:47,881 : INFO : worker thread finished; awaiting finish of 6 more threads\n",
      "2020-12-01 22:16:47,883 : INFO : worker thread finished; awaiting finish of 5 more threads\n",
      "2020-12-01 22:16:47,886 : INFO : worker thread finished; awaiting finish of 4 more threads\n",
      "2020-12-01 22:16:47,890 : INFO : worker thread finished; awaiting finish of 3 more threads\n",
      "2020-12-01 22:16:47,897 : INFO : worker thread finished; awaiting finish of 2 more threads\n",
      "2020-12-01 22:16:47,899 : INFO : worker thread finished; awaiting finish of 1 more threads\n",
      "2020-12-01 22:16:47,904 : INFO : worker thread finished; awaiting finish of 0 more threads\n",
      "2020-12-01 22:16:47,904 : INFO : EPOCH - 3 : training on 9227204 raw words (8222984 effective words) took 5.8s, 1415791 effective words/s\n",
      "2020-12-01 22:16:48,933 : INFO : EPOCH 4 - PROGRESS: at 15.30% examples, 1233820 words/s, in_qsize 16, out_qsize 0\n",
      "2020-12-01 22:16:49,937 : INFO : EPOCH 4 - PROGRESS: at 26.02% examples, 1056830 words/s, in_qsize 15, out_qsize 0\n",
      "2020-12-01 22:16:50,939 : INFO : EPOCH 4 - PROGRESS: at 41.80% examples, 1137180 words/s, in_qsize 14, out_qsize 1\n",
      "2020-12-01 22:16:51,939 : INFO : EPOCH 4 - PROGRESS: at 58.47% examples, 1195314 words/s, in_qsize 15, out_qsize 4\n",
      "2020-12-01 22:16:52,947 : INFO : EPOCH 4 - PROGRESS: at 76.00% examples, 1242743 words/s, in_qsize 16, out_qsize 1\n",
      "2020-12-01 22:16:53,947 : INFO : EPOCH 4 - PROGRESS: at 92.94% examples, 1266980 words/s, in_qsize 15, out_qsize 0\n",
      "2020-12-01 22:16:54,329 : INFO : worker thread finished; awaiting finish of 7 more threads\n",
      "2020-12-01 22:16:54,342 : INFO : worker thread finished; awaiting finish of 6 more threads\n",
      "2020-12-01 22:16:54,347 : INFO : worker thread finished; awaiting finish of 5 more threads\n",
      "2020-12-01 22:16:54,349 : INFO : worker thread finished; awaiting finish of 4 more threads\n",
      "2020-12-01 22:16:54,355 : INFO : worker thread finished; awaiting finish of 3 more threads\n",
      "2020-12-01 22:16:54,357 : INFO : worker thread finished; awaiting finish of 2 more threads\n",
      "2020-12-01 22:16:54,370 : INFO : worker thread finished; awaiting finish of 1 more threads\n",
      "2020-12-01 22:16:54,374 : INFO : worker thread finished; awaiting finish of 0 more threads\n",
      "2020-12-01 22:16:54,375 : INFO : EPOCH - 4 : training on 9227204 raw words (8222467 effective words) took 6.5s, 1272690 effective words/s\n",
      "2020-12-01 22:16:55,391 : INFO : EPOCH 5 - PROGRESS: at 13.36% examples, 1094765 words/s, in_qsize 15, out_qsize 0\n",
      "2020-12-01 22:16:56,414 : INFO : EPOCH 5 - PROGRESS: at 27.31% examples, 1108682 words/s, in_qsize 15, out_qsize 3\n",
      "2020-12-01 22:16:57,418 : INFO : EPOCH 5 - PROGRESS: at 40.30% examples, 1094548 words/s, in_qsize 14, out_qsize 1\n",
      "2020-12-01 22:16:58,418 : INFO : EPOCH 5 - PROGRESS: at 52.29% examples, 1068074 words/s, in_qsize 15, out_qsize 0\n",
      "2020-12-01 22:16:59,428 : INFO : EPOCH 5 - PROGRESS: at 64.84% examples, 1059204 words/s, in_qsize 15, out_qsize 1\n",
      "2020-12-01 22:17:00,439 : INFO : EPOCH 5 - PROGRESS: at 78.40% examples, 1066236 words/s, in_qsize 14, out_qsize 1\n",
      "2020-12-01 22:17:01,442 : INFO : EPOCH 5 - PROGRESS: at 93.05% examples, 1084982 words/s, in_qsize 15, out_qsize 0\n",
      "2020-12-01 22:17:01,817 : INFO : worker thread finished; awaiting finish of 7 more threads\n",
      "2020-12-01 22:17:01,820 : INFO : worker thread finished; awaiting finish of 6 more threads\n",
      "2020-12-01 22:17:01,822 : INFO : worker thread finished; awaiting finish of 5 more threads\n",
      "2020-12-01 22:17:01,825 : INFO : worker thread finished; awaiting finish of 4 more threads\n",
      "2020-12-01 22:17:01,826 : INFO : worker thread finished; awaiting finish of 3 more threads\n",
      "2020-12-01 22:17:01,836 : INFO : worker thread finished; awaiting finish of 2 more threads\n",
      "2020-12-01 22:17:01,837 : INFO : worker thread finished; awaiting finish of 1 more threads\n",
      "2020-12-01 22:17:01,844 : INFO : worker thread finished; awaiting finish of 0 more threads\n"
     ]
    },
    {
     "name": "stderr",
     "output_type": "stream",
     "text": [
      "2020-12-01 22:17:01,845 : INFO : EPOCH - 5 : training on 9227204 raw words (8223031 effective words) took 7.5s, 1102876 effective words/s\n",
      "2020-12-01 22:17:02,869 : INFO : EPOCH 6 - PROGRESS: at 16.27% examples, 1324778 words/s, in_qsize 15, out_qsize 0\n",
      "2020-12-01 22:17:03,875 : INFO : EPOCH 6 - PROGRESS: at 33.48% examples, 1365515 words/s, in_qsize 13, out_qsize 2\n",
      "2020-12-01 22:17:04,880 : INFO : EPOCH 6 - PROGRESS: at 50.67% examples, 1380275 words/s, in_qsize 14, out_qsize 1\n",
      "2020-12-01 22:17:05,888 : INFO : EPOCH 6 - PROGRESS: at 67.99% examples, 1389083 words/s, in_qsize 15, out_qsize 0\n",
      "2020-12-01 22:17:06,889 : INFO : EPOCH 6 - PROGRESS: at 85.13% examples, 1392212 words/s, in_qsize 16, out_qsize 0\n",
      "2020-12-01 22:17:07,711 : INFO : worker thread finished; awaiting finish of 7 more threads\n",
      "2020-12-01 22:17:07,713 : INFO : worker thread finished; awaiting finish of 6 more threads\n",
      "2020-12-01 22:17:07,715 : INFO : worker thread finished; awaiting finish of 5 more threads\n",
      "2020-12-01 22:17:07,717 : INFO : worker thread finished; awaiting finish of 4 more threads\n",
      "2020-12-01 22:17:07,723 : INFO : worker thread finished; awaiting finish of 3 more threads\n",
      "2020-12-01 22:17:07,726 : INFO : worker thread finished; awaiting finish of 2 more threads\n",
      "2020-12-01 22:17:07,731 : INFO : worker thread finished; awaiting finish of 1 more threads\n",
      "2020-12-01 22:17:07,743 : INFO : worker thread finished; awaiting finish of 0 more threads\n",
      "2020-12-01 22:17:07,744 : INFO : EPOCH - 6 : training on 9227204 raw words (8222950 effective words) took 5.9s, 1397437 effective words/s\n",
      "2020-12-01 22:17:08,758 : INFO : EPOCH 7 - PROGRESS: at 16.81% examples, 1379558 words/s, in_qsize 15, out_qsize 0\n",
      "2020-12-01 22:17:09,768 : INFO : EPOCH 7 - PROGRESS: at 34.02% examples, 1391829 words/s, in_qsize 16, out_qsize 0\n",
      "2020-12-01 22:17:10,774 : INFO : EPOCH 7 - PROGRESS: at 51.10% examples, 1393682 words/s, in_qsize 15, out_qsize 0\n",
      "2020-12-01 22:17:11,776 : INFO : EPOCH 7 - PROGRESS: at 67.99% examples, 1392162 words/s, in_qsize 15, out_qsize 0\n",
      "2020-12-01 22:17:12,779 : INFO : EPOCH 7 - PROGRESS: at 85.23% examples, 1396175 words/s, in_qsize 15, out_qsize 0\n",
      "2020-12-01 22:17:13,613 : INFO : worker thread finished; awaiting finish of 7 more threads\n",
      "2020-12-01 22:17:13,616 : INFO : worker thread finished; awaiting finish of 6 more threads\n",
      "2020-12-01 22:17:13,618 : INFO : worker thread finished; awaiting finish of 5 more threads\n",
      "2020-12-01 22:17:13,619 : INFO : worker thread finished; awaiting finish of 4 more threads\n",
      "2020-12-01 22:17:13,633 : INFO : worker thread finished; awaiting finish of 3 more threads\n",
      "2020-12-01 22:17:13,635 : INFO : worker thread finished; awaiting finish of 2 more threads\n",
      "2020-12-01 22:17:13,636 : INFO : worker thread finished; awaiting finish of 1 more threads\n",
      "2020-12-01 22:17:13,637 : INFO : worker thread finished; awaiting finish of 0 more threads\n",
      "2020-12-01 22:17:13,637 : INFO : EPOCH - 7 : training on 9227204 raw words (8222880 effective words) took 5.9s, 1398459 effective words/s\n",
      "2020-12-01 22:17:14,652 : INFO : EPOCH 8 - PROGRESS: at 16.70% examples, 1369717 words/s, in_qsize 15, out_qsize 0\n",
      "2020-12-01 22:17:15,658 : INFO : EPOCH 8 - PROGRESS: at 33.81% examples, 1384156 words/s, in_qsize 15, out_qsize 0\n",
      "2020-12-01 22:17:16,659 : INFO : EPOCH 8 - PROGRESS: at 50.99% examples, 1394350 words/s, in_qsize 15, out_qsize 1\n",
      "2020-12-01 22:17:17,667 : INFO : EPOCH 8 - PROGRESS: at 67.99% examples, 1392800 words/s, in_qsize 16, out_qsize 0\n",
      "2020-12-01 22:17:18,669 : INFO : EPOCH 8 - PROGRESS: at 85.13% examples, 1395245 words/s, in_qsize 15, out_qsize 0\n",
      "2020-12-01 22:17:19,485 : INFO : worker thread finished; awaiting finish of 7 more threads\n",
      "2020-12-01 22:17:19,488 : INFO : worker thread finished; awaiting finish of 6 more threads\n",
      "2020-12-01 22:17:19,491 : INFO : worker thread finished; awaiting finish of 5 more threads\n",
      "2020-12-01 22:17:19,493 : INFO : worker thread finished; awaiting finish of 4 more threads\n",
      "2020-12-01 22:17:19,494 : INFO : worker thread finished; awaiting finish of 3 more threads\n",
      "2020-12-01 22:17:19,508 : INFO : worker thread finished; awaiting finish of 2 more threads\n",
      "2020-12-01 22:17:19,509 : INFO : worker thread finished; awaiting finish of 1 more threads\n",
      "2020-12-01 22:17:19,513 : INFO : worker thread finished; awaiting finish of 0 more threads\n",
      "2020-12-01 22:17:19,514 : INFO : EPOCH - 8 : training on 9227204 raw words (8222450 effective words) took 5.9s, 1402324 effective words/s\n",
      "2020-12-01 22:17:20,537 : INFO : EPOCH 9 - PROGRESS: at 16.59% examples, 1351838 words/s, in_qsize 14, out_qsize 1\n",
      "2020-12-01 22:17:21,543 : INFO : EPOCH 9 - PROGRESS: at 33.48% examples, 1366790 words/s, in_qsize 16, out_qsize 1\n",
      "2020-12-01 22:17:22,551 : INFO : EPOCH 9 - PROGRESS: at 50.78% examples, 1382330 words/s, in_qsize 15, out_qsize 0\n",
      "2020-12-01 22:17:23,566 : INFO : EPOCH 9 - PROGRESS: at 67.66% examples, 1379093 words/s, in_qsize 15, out_qsize 4\n",
      "2020-12-01 22:17:24,577 : INFO : EPOCH 9 - PROGRESS: at 85.23% examples, 1388606 words/s, in_qsize 15, out_qsize 0\n",
      "2020-12-01 22:17:25,392 : INFO : worker thread finished; awaiting finish of 7 more threads\n",
      "2020-12-01 22:17:25,400 : INFO : worker thread finished; awaiting finish of 6 more threads\n",
      "2020-12-01 22:17:25,401 : INFO : worker thread finished; awaiting finish of 5 more threads\n",
      "2020-12-01 22:17:25,403 : INFO : worker thread finished; awaiting finish of 4 more threads\n",
      "2020-12-01 22:17:25,405 : INFO : worker thread finished; awaiting finish of 3 more threads\n",
      "2020-12-01 22:17:25,416 : INFO : worker thread finished; awaiting finish of 2 more threads\n",
      "2020-12-01 22:17:25,422 : INFO : worker thread finished; awaiting finish of 1 more threads\n",
      "2020-12-01 22:17:25,424 : INFO : worker thread finished; awaiting finish of 0 more threads\n",
      "2020-12-01 22:17:25,425 : INFO : EPOCH - 9 : training on 9227204 raw words (8221891 effective words) took 5.9s, 1394540 effective words/s\n",
      "2020-12-01 22:17:26,442 : INFO : EPOCH 10 - PROGRESS: at 16.70% examples, 1368208 words/s, in_qsize 15, out_qsize 0\n",
      "2020-12-01 22:17:27,452 : INFO : EPOCH 10 - PROGRESS: at 33.48% examples, 1367643 words/s, in_qsize 15, out_qsize 0\n",
      "2020-12-01 22:17:28,459 : INFO : EPOCH 10 - PROGRESS: at 50.78% examples, 1383938 words/s, in_qsize 13, out_qsize 2\n",
      "2020-12-01 22:17:29,461 : INFO : EPOCH 10 - PROGRESS: at 68.21% examples, 1395895 words/s, in_qsize 15, out_qsize 0\n",
      "2020-12-01 22:17:30,476 : INFO : EPOCH 10 - PROGRESS: at 81.12% examples, 1324738 words/s, in_qsize 14, out_qsize 1\n",
      "2020-12-01 22:17:31,493 : INFO : EPOCH 10 - PROGRESS: at 95.89% examples, 1302474 words/s, in_qsize 14, out_qsize 1\n",
      "2020-12-01 22:17:31,755 : INFO : worker thread finished; awaiting finish of 7 more threads\n",
      "2020-12-01 22:17:31,763 : INFO : worker thread finished; awaiting finish of 6 more threads\n",
      "2020-12-01 22:17:31,765 : INFO : worker thread finished; awaiting finish of 5 more threads\n",
      "2020-12-01 22:17:31,772 : INFO : worker thread finished; awaiting finish of 4 more threads\n",
      "2020-12-01 22:17:31,775 : INFO : worker thread finished; awaiting finish of 3 more threads\n",
      "2020-12-01 22:17:31,779 : INFO : worker thread finished; awaiting finish of 2 more threads\n",
      "2020-12-01 22:17:31,781 : INFO : worker thread finished; awaiting finish of 1 more threads\n",
      "2020-12-01 22:17:31,787 : INFO : worker thread finished; awaiting finish of 0 more threads\n",
      "2020-12-01 22:17:31,788 : INFO : EPOCH - 10 : training on 9227204 raw words (8222682 effective words) took 6.3s, 1295332 effective words/s\n",
      "2020-12-01 22:17:32,810 : INFO : EPOCH 11 - PROGRESS: at 15.19% examples, 1234829 words/s, in_qsize 16, out_qsize 1\n",
      "2020-12-01 22:17:33,828 : INFO : EPOCH 11 - PROGRESS: at 28.72% examples, 1164056 words/s, in_qsize 13, out_qsize 2\n",
      "2020-12-01 22:17:34,829 : INFO : EPOCH 11 - PROGRESS: at 41.81% examples, 1135203 words/s, in_qsize 15, out_qsize 0\n",
      "2020-12-01 22:17:35,840 : INFO : EPOCH 11 - PROGRESS: at 54.89% examples, 1118189 words/s, in_qsize 16, out_qsize 1\n",
      "2020-12-01 22:17:36,842 : INFO : EPOCH 11 - PROGRESS: at 68.10% examples, 1111367 words/s, in_qsize 15, out_qsize 0\n",
      "2020-12-01 22:17:37,850 : INFO : EPOCH 11 - PROGRESS: at 82.21% examples, 1117745 words/s, in_qsize 15, out_qsize 0\n",
      "2020-12-01 22:17:38,861 : INFO : EPOCH 11 - PROGRESS: at 97.82% examples, 1139254 words/s, in_qsize 13, out_qsize 2\n"
     ]
    },
    {
     "name": "stderr",
     "output_type": "stream",
     "text": [
      "2020-12-01 22:17:38,941 : INFO : worker thread finished; awaiting finish of 7 more threads\n",
      "2020-12-01 22:17:38,942 : INFO : worker thread finished; awaiting finish of 6 more threads\n",
      "2020-12-01 22:17:38,943 : INFO : worker thread finished; awaiting finish of 5 more threads\n",
      "2020-12-01 22:17:38,944 : INFO : worker thread finished; awaiting finish of 4 more threads\n",
      "2020-12-01 22:17:38,949 : INFO : worker thread finished; awaiting finish of 3 more threads\n",
      "2020-12-01 22:17:38,951 : INFO : worker thread finished; awaiting finish of 2 more threads\n",
      "2020-12-01 22:17:38,959 : INFO : worker thread finished; awaiting finish of 1 more threads\n",
      "2020-12-01 22:17:38,963 : INFO : worker thread finished; awaiting finish of 0 more threads\n",
      "2020-12-01 22:17:38,965 : INFO : EPOCH - 11 : training on 9227204 raw words (8222712 effective words) took 7.2s, 1147830 effective words/s\n",
      "2020-12-01 22:17:39,990 : INFO : EPOCH 12 - PROGRESS: at 16.59% examples, 1348638 words/s, in_qsize 15, out_qsize 0\n",
      "2020-12-01 22:17:40,995 : INFO : EPOCH 12 - PROGRESS: at 30.89% examples, 1259322 words/s, in_qsize 15, out_qsize 0\n",
      "2020-12-01 22:17:42,023 : INFO : EPOCH 12 - PROGRESS: at 44.94% examples, 1214737 words/s, in_qsize 16, out_qsize 0\n",
      "2020-12-01 22:17:43,044 : INFO : EPOCH 12 - PROGRESS: at 57.06% examples, 1155133 words/s, in_qsize 16, out_qsize 0\n",
      "2020-12-01 22:17:44,050 : INFO : EPOCH 12 - PROGRESS: at 73.30% examples, 1189361 words/s, in_qsize 16, out_qsize 2\n",
      "2020-12-01 22:17:45,072 : INFO : EPOCH 12 - PROGRESS: at 90.65% examples, 1223777 words/s, in_qsize 15, out_qsize 0\n",
      "2020-12-01 22:17:45,577 : INFO : worker thread finished; awaiting finish of 7 more threads\n",
      "2020-12-01 22:17:45,583 : INFO : worker thread finished; awaiting finish of 6 more threads\n",
      "2020-12-01 22:17:45,584 : INFO : worker thread finished; awaiting finish of 5 more threads\n",
      "2020-12-01 22:17:45,588 : INFO : worker thread finished; awaiting finish of 4 more threads\n",
      "2020-12-01 22:17:45,590 : INFO : worker thread finished; awaiting finish of 3 more threads\n",
      "2020-12-01 22:17:45,591 : INFO : worker thread finished; awaiting finish of 2 more threads\n",
      "2020-12-01 22:17:45,595 : INFO : worker thread finished; awaiting finish of 1 more threads\n",
      "2020-12-01 22:17:45,604 : INFO : worker thread finished; awaiting finish of 0 more threads\n",
      "2020-12-01 22:17:45,606 : INFO : EPOCH - 12 : training on 9227204 raw words (8222388 effective words) took 6.6s, 1240881 effective words/s\n",
      "2020-12-01 22:17:46,622 : INFO : EPOCH 13 - PROGRESS: at 16.48% examples, 1352066 words/s, in_qsize 15, out_qsize 0\n",
      "2020-12-01 22:17:47,628 : INFO : EPOCH 13 - PROGRESS: at 33.49% examples, 1371755 words/s, in_qsize 15, out_qsize 0\n",
      "2020-12-01 22:17:48,631 : INFO : EPOCH 13 - PROGRESS: at 50.67% examples, 1385113 words/s, in_qsize 16, out_qsize 0\n",
      "2020-12-01 22:17:49,632 : INFO : EPOCH 13 - PROGRESS: at 67.12% examples, 1377044 words/s, in_qsize 14, out_qsize 1\n",
      "2020-12-01 22:17:50,639 : INFO : EPOCH 13 - PROGRESS: at 82.21% examples, 1347455 words/s, in_qsize 14, out_qsize 1\n",
      "2020-12-01 22:17:51,645 : INFO : EPOCH 13 - PROGRESS: at 93.26% examples, 1273019 words/s, in_qsize 15, out_qsize 0\n",
      "2020-12-01 22:17:52,091 : INFO : worker thread finished; awaiting finish of 7 more threads\n",
      "2020-12-01 22:17:52,096 : INFO : worker thread finished; awaiting finish of 6 more threads\n",
      "2020-12-01 22:17:52,098 : INFO : worker thread finished; awaiting finish of 5 more threads\n",
      "2020-12-01 22:17:52,100 : INFO : worker thread finished; awaiting finish of 4 more threads\n",
      "2020-12-01 22:17:52,102 : INFO : worker thread finished; awaiting finish of 3 more threads\n",
      "2020-12-01 22:17:52,118 : INFO : worker thread finished; awaiting finish of 2 more threads\n",
      "2020-12-01 22:17:52,120 : INFO : worker thread finished; awaiting finish of 1 more threads\n",
      "2020-12-01 22:17:52,121 : INFO : worker thread finished; awaiting finish of 0 more threads\n",
      "2020-12-01 22:17:52,121 : INFO : EPOCH - 13 : training on 9227204 raw words (8223358 effective words) took 6.5s, 1264923 effective words/s\n",
      "2020-12-01 22:17:53,147 : INFO : EPOCH 14 - PROGRESS: at 15.95% examples, 1295866 words/s, in_qsize 16, out_qsize 0\n",
      "2020-12-01 22:17:54,154 : INFO : EPOCH 14 - PROGRESS: at 31.21% examples, 1271981 words/s, in_qsize 14, out_qsize 1\n",
      "2020-12-01 22:17:55,154 : INFO : EPOCH 14 - PROGRESS: at 47.97% examples, 1307897 words/s, in_qsize 15, out_qsize 0\n",
      "2020-12-01 22:17:56,162 : INFO : EPOCH 14 - PROGRESS: at 64.51% examples, 1318877 words/s, in_qsize 16, out_qsize 0\n",
      "2020-12-01 22:17:57,184 : INFO : EPOCH 14 - PROGRESS: at 81.23% examples, 1323760 words/s, in_qsize 13, out_qsize 2\n",
      "2020-12-01 22:17:58,187 : INFO : EPOCH 14 - PROGRESS: at 97.82% examples, 1329465 words/s, in_qsize 15, out_qsize 0\n",
      "2020-12-01 22:17:58,273 : INFO : worker thread finished; awaiting finish of 7 more threads\n",
      "2020-12-01 22:17:58,277 : INFO : worker thread finished; awaiting finish of 6 more threads\n",
      "2020-12-01 22:17:58,279 : INFO : worker thread finished; awaiting finish of 5 more threads\n",
      "2020-12-01 22:17:58,288 : INFO : worker thread finished; awaiting finish of 4 more threads\n",
      "2020-12-01 22:17:58,290 : INFO : worker thread finished; awaiting finish of 3 more threads\n",
      "2020-12-01 22:17:58,290 : INFO : worker thread finished; awaiting finish of 2 more threads\n",
      "2020-12-01 22:17:58,301 : INFO : worker thread finished; awaiting finish of 1 more threads\n",
      "2020-12-01 22:17:58,303 : INFO : worker thread finished; awaiting finish of 0 more threads\n",
      "2020-12-01 22:17:58,303 : INFO : EPOCH - 14 : training on 9227204 raw words (8222535 effective words) took 6.2s, 1333492 effective words/s\n",
      "2020-12-01 22:17:59,324 : INFO : EPOCH 15 - PROGRESS: at 16.27% examples, 1326626 words/s, in_qsize 15, out_qsize 0\n",
      "2020-12-01 22:18:00,331 : INFO : EPOCH 15 - PROGRESS: at 32.95% examples, 1344512 words/s, in_qsize 14, out_qsize 1\n",
      "2020-12-01 22:18:01,335 : INFO : EPOCH 15 - PROGRESS: at 49.38% examples, 1346330 words/s, in_qsize 15, out_qsize 0\n",
      "2020-12-01 22:18:02,341 : INFO : EPOCH 15 - PROGRESS: at 66.15% examples, 1352856 words/s, in_qsize 16, out_qsize 1\n",
      "2020-12-01 22:18:03,344 : INFO : EPOCH 15 - PROGRESS: at 82.96% examples, 1357286 words/s, in_qsize 16, out_qsize 0\n",
      "2020-12-01 22:18:04,316 : INFO : worker thread finished; awaiting finish of 7 more threads\n",
      "2020-12-01 22:18:04,317 : INFO : worker thread finished; awaiting finish of 6 more threads\n",
      "2020-12-01 22:18:04,318 : INFO : worker thread finished; awaiting finish of 5 more threads\n",
      "2020-12-01 22:18:04,322 : INFO : worker thread finished; awaiting finish of 4 more threads\n",
      "2020-12-01 22:18:04,326 : INFO : worker thread finished; awaiting finish of 3 more threads\n",
      "2020-12-01 22:18:04,333 : INFO : worker thread finished; awaiting finish of 2 more threads\n",
      "2020-12-01 22:18:04,335 : INFO : worker thread finished; awaiting finish of 1 more threads\n",
      "2020-12-01 22:18:04,339 : INFO : worker thread finished; awaiting finish of 0 more threads\n",
      "2020-12-01 22:18:04,340 : INFO : EPOCH - 15 : training on 9227204 raw words (8221624 effective words) took 6.0s, 1365267 effective words/s\n",
      "2020-12-01 22:18:05,356 : INFO : EPOCH 16 - PROGRESS: at 16.16% examples, 1324054 words/s, in_qsize 16, out_qsize 1\n",
      "2020-12-01 22:18:06,367 : INFO : EPOCH 16 - PROGRESS: at 33.06% examples, 1349493 words/s, in_qsize 15, out_qsize 0\n",
      "2020-12-01 22:18:07,371 : INFO : EPOCH 16 - PROGRESS: at 50.02% examples, 1363832 words/s, in_qsize 15, out_qsize 0\n",
      "2020-12-01 22:18:08,384 : INFO : EPOCH 16 - PROGRESS: at 66.91% examples, 1366145 words/s, in_qsize 14, out_qsize 1\n",
      "2020-12-01 22:18:09,391 : INFO : EPOCH 16 - PROGRESS: at 83.51% examples, 1363674 words/s, in_qsize 15, out_qsize 0\n",
      "2020-12-01 22:18:10,320 : INFO : worker thread finished; awaiting finish of 7 more threads\n",
      "2020-12-01 22:18:10,325 : INFO : worker thread finished; awaiting finish of 6 more threads\n",
      "2020-12-01 22:18:10,331 : INFO : worker thread finished; awaiting finish of 5 more threads\n",
      "2020-12-01 22:18:10,336 : INFO : worker thread finished; awaiting finish of 4 more threads\n",
      "2020-12-01 22:18:10,338 : INFO : worker thread finished; awaiting finish of 3 more threads\n",
      "2020-12-01 22:18:10,339 : INFO : worker thread finished; awaiting finish of 2 more threads\n",
      "2020-12-01 22:18:10,347 : INFO : worker thread finished; awaiting finish of 1 more threads\n"
     ]
    },
    {
     "name": "stderr",
     "output_type": "stream",
     "text": [
      "2020-12-01 22:18:10,350 : INFO : worker thread finished; awaiting finish of 0 more threads\n",
      "2020-12-01 22:18:10,351 : INFO : EPOCH - 16 : training on 9227204 raw words (8223999 effective words) took 6.0s, 1371098 effective words/s\n",
      "2020-12-01 22:18:11,367 : INFO : EPOCH 17 - PROGRESS: at 16.27% examples, 1333345 words/s, in_qsize 12, out_qsize 3\n",
      "2020-12-01 22:18:12,368 : INFO : EPOCH 17 - PROGRESS: at 32.94% examples, 1351750 words/s, in_qsize 15, out_qsize 0\n",
      "2020-12-01 22:18:13,370 : INFO : EPOCH 17 - PROGRESS: at 49.59% examples, 1357483 words/s, in_qsize 15, out_qsize 0\n",
      "2020-12-01 22:18:14,372 : INFO : EPOCH 17 - PROGRESS: at 65.17% examples, 1338725 words/s, in_qsize 15, out_qsize 0\n",
      "2020-12-01 22:18:15,378 : INFO : EPOCH 17 - PROGRESS: at 81.23% examples, 1332670 words/s, in_qsize 14, out_qsize 1\n",
      "2020-12-01 22:18:16,378 : INFO : EPOCH 17 - PROGRESS: at 98.04% examples, 1340503 words/s, in_qsize 16, out_qsize 1\n",
      "2020-12-01 22:18:16,446 : INFO : worker thread finished; awaiting finish of 7 more threads\n",
      "2020-12-01 22:18:16,453 : INFO : worker thread finished; awaiting finish of 6 more threads\n",
      "2020-12-01 22:18:16,455 : INFO : worker thread finished; awaiting finish of 5 more threads\n",
      "2020-12-01 22:18:16,456 : INFO : worker thread finished; awaiting finish of 4 more threads\n",
      "2020-12-01 22:18:16,457 : INFO : worker thread finished; awaiting finish of 3 more threads\n",
      "2020-12-01 22:18:16,467 : INFO : worker thread finished; awaiting finish of 2 more threads\n",
      "2020-12-01 22:18:16,472 : INFO : worker thread finished; awaiting finish of 1 more threads\n",
      "2020-12-01 22:18:16,477 : INFO : worker thread finished; awaiting finish of 0 more threads\n",
      "2020-12-01 22:18:16,478 : INFO : EPOCH - 17 : training on 9227204 raw words (8222896 effective words) took 6.1s, 1345132 effective words/s\n",
      "2020-12-01 22:18:17,494 : INFO : EPOCH 18 - PROGRESS: at 16.27% examples, 1333661 words/s, in_qsize 13, out_qsize 2\n",
      "2020-12-01 22:18:18,503 : INFO : EPOCH 18 - PROGRESS: at 33.06% examples, 1351948 words/s, in_qsize 15, out_qsize 0\n",
      "2020-12-01 22:18:19,512 : INFO : EPOCH 18 - PROGRESS: at 50.02% examples, 1363297 words/s, in_qsize 16, out_qsize 2\n",
      "2020-12-01 22:18:20,528 : INFO : EPOCH 18 - PROGRESS: at 67.13% examples, 1368654 words/s, in_qsize 16, out_qsize 2\n",
      "2020-12-01 22:18:21,537 : INFO : EPOCH 18 - PROGRESS: at 83.94% examples, 1368760 words/s, in_qsize 16, out_qsize 1\n",
      "2020-12-01 22:18:22,433 : INFO : worker thread finished; awaiting finish of 7 more threads\n",
      "2020-12-01 22:18:22,438 : INFO : worker thread finished; awaiting finish of 6 more threads\n",
      "2020-12-01 22:18:22,440 : INFO : worker thread finished; awaiting finish of 5 more threads\n",
      "2020-12-01 22:18:22,448 : INFO : worker thread finished; awaiting finish of 4 more threads\n",
      "2020-12-01 22:18:22,452 : INFO : worker thread finished; awaiting finish of 3 more threads\n",
      "2020-12-01 22:18:22,453 : INFO : worker thread finished; awaiting finish of 2 more threads\n",
      "2020-12-01 22:18:22,463 : INFO : worker thread finished; awaiting finish of 1 more threads\n",
      "2020-12-01 22:18:22,466 : INFO : worker thread finished; awaiting finish of 0 more threads\n",
      "2020-12-01 22:18:22,467 : INFO : EPOCH - 18 : training on 9227204 raw words (8221967 effective words) took 6.0s, 1376174 effective words/s\n",
      "2020-12-01 22:18:23,486 : INFO : EPOCH 19 - PROGRESS: at 16.38% examples, 1339848 words/s, in_qsize 14, out_qsize 1\n",
      "2020-12-01 22:18:24,490 : INFO : EPOCH 19 - PROGRESS: at 33.06% examples, 1353997 words/s, in_qsize 15, out_qsize 0\n",
      "2020-12-01 22:18:25,493 : INFO : EPOCH 19 - PROGRESS: at 49.81% examples, 1361160 words/s, in_qsize 14, out_qsize 1\n",
      "2020-12-01 22:18:26,497 : INFO : EPOCH 19 - PROGRESS: at 66.80% examples, 1369045 words/s, in_qsize 15, out_qsize 0\n",
      "2020-12-01 22:18:27,504 : INFO : EPOCH 19 - PROGRESS: at 83.61% examples, 1369575 words/s, in_qsize 14, out_qsize 1\n",
      "2020-12-01 22:18:28,443 : INFO : worker thread finished; awaiting finish of 7 more threads\n",
      "2020-12-01 22:18:28,449 : INFO : worker thread finished; awaiting finish of 6 more threads\n",
      "2020-12-01 22:18:28,451 : INFO : worker thread finished; awaiting finish of 5 more threads\n",
      "2020-12-01 22:18:28,456 : INFO : worker thread finished; awaiting finish of 4 more threads\n",
      "2020-12-01 22:18:28,457 : INFO : worker thread finished; awaiting finish of 3 more threads\n",
      "2020-12-01 22:18:28,464 : INFO : worker thread finished; awaiting finish of 2 more threads\n",
      "2020-12-01 22:18:28,469 : INFO : worker thread finished; awaiting finish of 1 more threads\n",
      "2020-12-01 22:18:28,476 : INFO : worker thread finished; awaiting finish of 0 more threads\n",
      "2020-12-01 22:18:28,477 : INFO : EPOCH - 19 : training on 9227204 raw words (8222020 effective words) took 6.0s, 1371622 effective words/s\n",
      "2020-12-01 22:18:29,493 : INFO : EPOCH 20 - PROGRESS: at 16.37% examples, 1341808 words/s, in_qsize 15, out_qsize 0\n",
      "2020-12-01 22:18:30,494 : INFO : EPOCH 20 - PROGRESS: at 33.06% examples, 1356567 words/s, in_qsize 15, out_qsize 0\n",
      "2020-12-01 22:18:31,499 : INFO : EPOCH 20 - PROGRESS: at 49.59% examples, 1356260 words/s, in_qsize 15, out_qsize 0\n",
      "2020-12-01 22:18:32,505 : INFO : EPOCH 20 - PROGRESS: at 66.25% examples, 1358082 words/s, in_qsize 16, out_qsize 0\n",
      "2020-12-01 22:18:33,515 : INFO : EPOCH 20 - PROGRESS: at 81.34% examples, 1331663 words/s, in_qsize 13, out_qsize 2\n",
      "2020-12-01 22:18:34,519 : INFO : EPOCH 20 - PROGRESS: at 93.05% examples, 1269408 words/s, in_qsize 16, out_qsize 0\n",
      "2020-12-01 22:18:34,899 : INFO : worker thread finished; awaiting finish of 7 more threads\n",
      "2020-12-01 22:18:34,905 : INFO : worker thread finished; awaiting finish of 6 more threads\n",
      "2020-12-01 22:18:34,908 : INFO : worker thread finished; awaiting finish of 5 more threads\n",
      "2020-12-01 22:18:34,911 : INFO : worker thread finished; awaiting finish of 4 more threads\n",
      "2020-12-01 22:18:34,917 : INFO : worker thread finished; awaiting finish of 3 more threads\n",
      "2020-12-01 22:18:34,925 : INFO : worker thread finished; awaiting finish of 2 more threads\n",
      "2020-12-01 22:18:34,929 : INFO : worker thread finished; awaiting finish of 1 more threads\n",
      "2020-12-01 22:18:34,931 : INFO : worker thread finished; awaiting finish of 0 more threads\n",
      "2020-12-01 22:18:34,932 : INFO : EPOCH - 20 : training on 9227204 raw words (8222695 effective words) took 6.4s, 1276728 effective words/s\n",
      "2020-12-01 22:18:35,953 : INFO : EPOCH 21 - PROGRESS: at 14.86% examples, 1211967 words/s, in_qsize 14, out_qsize 1\n",
      "2020-12-01 22:18:36,954 : INFO : EPOCH 21 - PROGRESS: at 25.26% examples, 1033563 words/s, in_qsize 15, out_qsize 0\n",
      "2020-12-01 22:18:37,982 : INFO : EPOCH 21 - PROGRESS: at 37.27% examples, 1009779 words/s, in_qsize 14, out_qsize 1\n",
      "2020-12-01 22:18:38,983 : INFO : EPOCH 21 - PROGRESS: at 51.10% examples, 1042008 words/s, in_qsize 15, out_qsize 0\n",
      "2020-12-01 22:18:39,989 : INFO : EPOCH 21 - PROGRESS: at 67.45% examples, 1100888 words/s, in_qsize 15, out_qsize 0\n",
      "2020-12-01 22:18:41,006 : INFO : EPOCH 21 - PROGRESS: at 84.37% examples, 1145586 words/s, in_qsize 16, out_qsize 0\n",
      "2020-12-01 22:18:41,897 : INFO : worker thread finished; awaiting finish of 7 more threads\n",
      "2020-12-01 22:18:41,902 : INFO : worker thread finished; awaiting finish of 6 more threads\n",
      "2020-12-01 22:18:41,903 : INFO : worker thread finished; awaiting finish of 5 more threads\n",
      "2020-12-01 22:18:41,904 : INFO : worker thread finished; awaiting finish of 4 more threads\n",
      "2020-12-01 22:18:41,907 : INFO : worker thread finished; awaiting finish of 3 more threads\n",
      "2020-12-01 22:18:41,912 : INFO : worker thread finished; awaiting finish of 2 more threads\n",
      "2020-12-01 22:18:41,922 : INFO : worker thread finished; awaiting finish of 1 more threads\n",
      "2020-12-01 22:18:41,924 : INFO : worker thread finished; awaiting finish of 0 more threads\n",
      "2020-12-01 22:18:41,924 : INFO : EPOCH - 21 : training on 9227204 raw words (8224698 effective words) took 7.0s, 1178573 effective words/s\n",
      "2020-12-01 22:18:42,949 : INFO : EPOCH 22 - PROGRESS: at 16.05% examples, 1303570 words/s, in_qsize 14, out_qsize 1\n",
      "2020-12-01 22:18:43,954 : INFO : EPOCH 22 - PROGRESS: at 33.06% examples, 1347466 words/s, in_qsize 15, out_qsize 0\n",
      "2020-12-01 22:18:44,955 : INFO : EPOCH 22 - PROGRESS: at 49.38% examples, 1346346 words/s, in_qsize 13, out_qsize 2\n",
      "2020-12-01 22:18:45,956 : INFO : EPOCH 22 - PROGRESS: at 66.04% examples, 1352277 words/s, in_qsize 15, out_qsize 0\n"
     ]
    },
    {
     "name": "stderr",
     "output_type": "stream",
     "text": [
      "2020-12-01 22:18:46,957 : INFO : EPOCH 22 - PROGRESS: at 82.10% examples, 1345315 words/s, in_qsize 14, out_qsize 1\n",
      "2020-12-01 22:18:47,969 : INFO : EPOCH 22 - PROGRESS: at 94.79% examples, 1292188 words/s, in_qsize 15, out_qsize 0\n",
      "2020-12-01 22:18:48,286 : INFO : worker thread finished; awaiting finish of 7 more threads\n",
      "2020-12-01 22:18:48,288 : INFO : worker thread finished; awaiting finish of 6 more threads\n",
      "2020-12-01 22:18:48,291 : INFO : worker thread finished; awaiting finish of 5 more threads\n",
      "2020-12-01 22:18:48,293 : INFO : worker thread finished; awaiting finish of 4 more threads\n",
      "2020-12-01 22:18:48,301 : INFO : worker thread finished; awaiting finish of 3 more threads\n",
      "2020-12-01 22:18:48,303 : INFO : worker thread finished; awaiting finish of 2 more threads\n",
      "2020-12-01 22:18:48,312 : INFO : worker thread finished; awaiting finish of 1 more threads\n",
      "2020-12-01 22:18:48,318 : INFO : worker thread finished; awaiting finish of 0 more threads\n",
      "2020-12-01 22:18:48,318 : INFO : EPOCH - 22 : training on 9227204 raw words (8222193 effective words) took 6.4s, 1288637 effective words/s\n",
      "2020-12-01 22:18:49,345 : INFO : EPOCH 23 - PROGRESS: at 11.84% examples, 960282 words/s, in_qsize 15, out_qsize 0\n",
      "2020-12-01 22:18:50,350 : INFO : EPOCH 23 - PROGRESS: at 25.69% examples, 1046559 words/s, in_qsize 15, out_qsize 0\n",
      "2020-12-01 22:18:51,360 : INFO : EPOCH 23 - PROGRESS: at 40.51% examples, 1100631 words/s, in_qsize 15, out_qsize 0\n",
      "2020-12-01 22:18:52,365 : INFO : EPOCH 23 - PROGRESS: at 55.97% examples, 1142397 words/s, in_qsize 16, out_qsize 1\n",
      "2020-12-01 22:18:53,377 : INFO : EPOCH 23 - PROGRESS: at 71.99% examples, 1174588 words/s, in_qsize 16, out_qsize 0\n",
      "2020-12-01 22:18:54,382 : INFO : EPOCH 23 - PROGRESS: at 88.26% examples, 1200437 words/s, in_qsize 16, out_qsize 2\n",
      "2020-12-01 22:18:55,051 : INFO : worker thread finished; awaiting finish of 7 more threads\n",
      "2020-12-01 22:18:55,053 : INFO : worker thread finished; awaiting finish of 6 more threads\n",
      "2020-12-01 22:18:55,054 : INFO : worker thread finished; awaiting finish of 5 more threads\n",
      "2020-12-01 22:18:55,055 : INFO : worker thread finished; awaiting finish of 4 more threads\n",
      "2020-12-01 22:18:55,063 : INFO : worker thread finished; awaiting finish of 3 more threads\n",
      "2020-12-01 22:18:55,068 : INFO : worker thread finished; awaiting finish of 2 more threads\n",
      "2020-12-01 22:18:55,076 : INFO : worker thread finished; awaiting finish of 1 more threads\n",
      "2020-12-01 22:18:55,079 : INFO : worker thread finished; awaiting finish of 0 more threads\n",
      "2020-12-01 22:18:55,080 : INFO : EPOCH - 23 : training on 9227204 raw words (8222782 effective words) took 6.7s, 1218863 effective words/s\n",
      "2020-12-01 22:18:56,103 : INFO : EPOCH 24 - PROGRESS: at 15.62% examples, 1272691 words/s, in_qsize 15, out_qsize 0\n",
      "2020-12-01 22:18:57,104 : INFO : EPOCH 24 - PROGRESS: at 31.75% examples, 1299026 words/s, in_qsize 15, out_qsize 0\n",
      "2020-12-01 22:18:58,114 : INFO : EPOCH 24 - PROGRESS: at 48.08% examples, 1309929 words/s, in_qsize 15, out_qsize 0\n",
      "2020-12-01 22:18:59,116 : INFO : EPOCH 24 - PROGRESS: at 64.30% examples, 1315827 words/s, in_qsize 13, out_qsize 2\n",
      "2020-12-01 22:19:00,125 : INFO : EPOCH 24 - PROGRESS: at 80.79% examples, 1321196 words/s, in_qsize 15, out_qsize 0\n",
      "2020-12-01 22:19:01,131 : INFO : EPOCH 24 - PROGRESS: at 97.39% examples, 1326558 words/s, in_qsize 16, out_qsize 0\n",
      "2020-12-01 22:19:01,243 : INFO : worker thread finished; awaiting finish of 7 more threads\n",
      "2020-12-01 22:19:01,246 : INFO : worker thread finished; awaiting finish of 6 more threads\n",
      "2020-12-01 22:19:01,247 : INFO : worker thread finished; awaiting finish of 5 more threads\n",
      "2020-12-01 22:19:01,255 : INFO : worker thread finished; awaiting finish of 4 more threads\n",
      "2020-12-01 22:19:01,257 : INFO : worker thread finished; awaiting finish of 3 more threads\n",
      "2020-12-01 22:19:01,258 : INFO : worker thread finished; awaiting finish of 2 more threads\n",
      "2020-12-01 22:19:01,265 : INFO : worker thread finished; awaiting finish of 1 more threads\n",
      "2020-12-01 22:19:01,269 : INFO : worker thread finished; awaiting finish of 0 more threads\n",
      "2020-12-01 22:19:01,269 : INFO : EPOCH - 24 : training on 9227204 raw words (8221793 effective words) took 6.2s, 1331699 effective words/s\n",
      "2020-12-01 22:19:02,283 : INFO : EPOCH 25 - PROGRESS: at 16.27% examples, 1335220 words/s, in_qsize 15, out_qsize 0\n",
      "2020-12-01 22:19:03,285 : INFO : EPOCH 25 - PROGRESS: at 32.84% examples, 1347636 words/s, in_qsize 16, out_qsize 1\n",
      "2020-12-01 22:19:04,291 : INFO : EPOCH 25 - PROGRESS: at 49.16% examples, 1344093 words/s, in_qsize 15, out_qsize 0\n",
      "2020-12-01 22:19:05,301 : INFO : EPOCH 25 - PROGRESS: at 65.83% examples, 1348189 words/s, in_qsize 14, out_qsize 1\n",
      "2020-12-01 22:19:06,311 : INFO : EPOCH 25 - PROGRESS: at 82.64% examples, 1351859 words/s, in_qsize 15, out_qsize 0\n",
      "2020-12-01 22:19:07,319 : INFO : EPOCH 25 - PROGRESS: at 99.33% examples, 1353096 words/s, in_qsize 7, out_qsize 1\n",
      "2020-12-01 22:19:07,323 : INFO : worker thread finished; awaiting finish of 7 more threads\n",
      "2020-12-01 22:19:07,324 : INFO : worker thread finished; awaiting finish of 6 more threads\n",
      "2020-12-01 22:19:07,325 : INFO : worker thread finished; awaiting finish of 5 more threads\n",
      "2020-12-01 22:19:07,326 : INFO : worker thread finished; awaiting finish of 4 more threads\n",
      "2020-12-01 22:19:07,335 : INFO : worker thread finished; awaiting finish of 3 more threads\n",
      "2020-12-01 22:19:07,337 : INFO : worker thread finished; awaiting finish of 2 more threads\n",
      "2020-12-01 22:19:07,345 : INFO : worker thread finished; awaiting finish of 1 more threads\n",
      "2020-12-01 22:19:07,346 : INFO : worker thread finished; awaiting finish of 0 more threads\n",
      "2020-12-01 22:19:07,347 : INFO : EPOCH - 25 : training on 9227204 raw words (8223447 effective words) took 6.1s, 1355883 effective words/s\n",
      "2020-12-01 22:19:08,363 : INFO : EPOCH 26 - PROGRESS: at 16.05% examples, 1317309 words/s, in_qsize 14, out_qsize 1\n",
      "2020-12-01 22:19:09,370 : INFO : EPOCH 26 - PROGRESS: at 32.41% examples, 1326826 words/s, in_qsize 14, out_qsize 1\n",
      "2020-12-01 22:19:10,371 : INFO : EPOCH 26 - PROGRESS: at 48.95% examples, 1337953 words/s, in_qsize 15, out_qsize 0\n",
      "2020-12-01 22:19:11,388 : INFO : EPOCH 26 - PROGRESS: at 65.39% examples, 1336368 words/s, in_qsize 15, out_qsize 0\n",
      "2020-12-01 22:19:12,407 : INFO : EPOCH 26 - PROGRESS: at 82.10% examples, 1338439 words/s, in_qsize 15, out_qsize 0\n",
      "2020-12-01 22:19:13,411 : INFO : EPOCH 26 - PROGRESS: at 99.01% examples, 1345775 words/s, in_qsize 10, out_qsize 0\n",
      "2020-12-01 22:19:13,432 : INFO : worker thread finished; awaiting finish of 7 more threads\n",
      "2020-12-01 22:19:13,435 : INFO : worker thread finished; awaiting finish of 6 more threads\n",
      "2020-12-01 22:19:13,436 : INFO : worker thread finished; awaiting finish of 5 more threads\n",
      "2020-12-01 22:19:13,438 : INFO : worker thread finished; awaiting finish of 4 more threads\n",
      "2020-12-01 22:19:13,445 : INFO : worker thread finished; awaiting finish of 3 more threads\n",
      "2020-12-01 22:19:13,446 : INFO : worker thread finished; awaiting finish of 2 more threads\n",
      "2020-12-01 22:19:13,454 : INFO : worker thread finished; awaiting finish of 1 more threads\n",
      "2020-12-01 22:19:13,457 : INFO : worker thread finished; awaiting finish of 0 more threads\n",
      "2020-12-01 22:19:13,458 : INFO : EPOCH - 26 : training on 9227204 raw words (8222602 effective words) took 6.1s, 1348744 effective words/s\n",
      "2020-12-01 22:19:14,488 : INFO : EPOCH 27 - PROGRESS: at 16.16% examples, 1307688 words/s, in_qsize 15, out_qsize 0\n",
      "2020-12-01 22:19:15,489 : INFO : EPOCH 27 - PROGRESS: at 32.62% examples, 1329758 words/s, in_qsize 15, out_qsize 0\n",
      "2020-12-01 22:19:16,495 : INFO : EPOCH 27 - PROGRESS: at 48.95% examples, 1332624 words/s, in_qsize 16, out_qsize 0\n",
      "2020-12-01 22:19:17,496 : INFO : EPOCH 27 - PROGRESS: at 65.17% examples, 1332836 words/s, in_qsize 15, out_qsize 0\n",
      "2020-12-01 22:19:18,508 : INFO : EPOCH 27 - PROGRESS: at 79.71% examples, 1301897 words/s, in_qsize 13, out_qsize 2\n",
      "2020-12-01 22:19:19,511 : INFO : EPOCH 27 - PROGRESS: at 95.99% examples, 1307035 words/s, in_qsize 14, out_qsize 1\n",
      "2020-12-01 22:19:19,700 : INFO : worker thread finished; awaiting finish of 7 more threads\n",
      "2020-12-01 22:19:19,703 : INFO : worker thread finished; awaiting finish of 6 more threads\n"
     ]
    },
    {
     "name": "stderr",
     "output_type": "stream",
     "text": [
      "2020-12-01 22:19:19,704 : INFO : worker thread finished; awaiting finish of 5 more threads\n",
      "2020-12-01 22:19:19,705 : INFO : worker thread finished; awaiting finish of 4 more threads\n",
      "2020-12-01 22:19:19,713 : INFO : worker thread finished; awaiting finish of 3 more threads\n",
      "2020-12-01 22:19:19,717 : INFO : worker thread finished; awaiting finish of 2 more threads\n",
      "2020-12-01 22:19:19,721 : INFO : worker thread finished; awaiting finish of 1 more threads\n",
      "2020-12-01 22:19:19,725 : INFO : worker thread finished; awaiting finish of 0 more threads\n",
      "2020-12-01 22:19:19,726 : INFO : EPOCH - 27 : training on 9227204 raw words (8222038 effective words) took 6.3s, 1314885 effective words/s\n",
      "2020-12-01 22:19:20,749 : INFO : EPOCH 28 - PROGRESS: at 15.73% examples, 1279090 words/s, in_qsize 12, out_qsize 3\n",
      "2020-12-01 22:19:21,752 : INFO : EPOCH 28 - PROGRESS: at 31.97% examples, 1306577 words/s, in_qsize 15, out_qsize 0\n",
      "2020-12-01 22:19:22,761 : INFO : EPOCH 28 - PROGRESS: at 48.30% examples, 1315176 words/s, in_qsize 15, out_qsize 0\n",
      "2020-12-01 22:19:23,763 : INFO : EPOCH 28 - PROGRESS: at 64.52% examples, 1319657 words/s, in_qsize 15, out_qsize 0\n",
      "2020-12-01 22:19:24,766 : INFO : EPOCH 28 - PROGRESS: at 80.68% examples, 1320491 words/s, in_qsize 14, out_qsize 1\n",
      "2020-12-01 22:19:25,773 : INFO : EPOCH 28 - PROGRESS: at 96.75% examples, 1318496 words/s, in_qsize 15, out_qsize 0\n",
      "2020-12-01 22:19:25,917 : INFO : worker thread finished; awaiting finish of 7 more threads\n",
      "2020-12-01 22:19:25,921 : INFO : worker thread finished; awaiting finish of 6 more threads\n",
      "2020-12-01 22:19:25,922 : INFO : worker thread finished; awaiting finish of 5 more threads\n",
      "2020-12-01 22:19:25,923 : INFO : worker thread finished; awaiting finish of 4 more threads\n",
      "2020-12-01 22:19:25,927 : INFO : worker thread finished; awaiting finish of 3 more threads\n",
      "2020-12-01 22:19:25,929 : INFO : worker thread finished; awaiting finish of 2 more threads\n",
      "2020-12-01 22:19:25,936 : INFO : worker thread finished; awaiting finish of 1 more threads\n",
      "2020-12-01 22:19:25,945 : INFO : worker thread finished; awaiting finish of 0 more threads\n",
      "2020-12-01 22:19:25,946 : INFO : EPOCH - 28 : training on 9227204 raw words (8222787 effective words) took 6.2s, 1324964 effective words/s\n",
      "2020-12-01 22:19:26,966 : INFO : EPOCH 29 - PROGRESS: at 15.95% examples, 1303224 words/s, in_qsize 15, out_qsize 0\n",
      "2020-12-01 22:19:27,968 : INFO : EPOCH 29 - PROGRESS: at 32.19% examples, 1318319 words/s, in_qsize 15, out_qsize 0\n",
      "2020-12-01 22:19:28,973 : INFO : EPOCH 29 - PROGRESS: at 48.40% examples, 1322059 words/s, in_qsize 15, out_qsize 0\n",
      "2020-12-01 22:19:29,984 : INFO : EPOCH 29 - PROGRESS: at 64.52% examples, 1320129 words/s, in_qsize 15, out_qsize 0\n",
      "2020-12-01 22:19:31,000 : INFO : EPOCH 29 - PROGRESS: at 80.79% examples, 1319133 words/s, in_qsize 13, out_qsize 2\n",
      "2020-12-01 22:19:32,007 : INFO : EPOCH 29 - PROGRESS: at 97.28% examples, 1323042 words/s, in_qsize 16, out_qsize 0\n",
      "2020-12-01 22:19:32,116 : INFO : worker thread finished; awaiting finish of 7 more threads\n",
      "2020-12-01 22:19:32,127 : INFO : worker thread finished; awaiting finish of 6 more threads\n",
      "2020-12-01 22:19:32,128 : INFO : worker thread finished; awaiting finish of 5 more threads\n",
      "2020-12-01 22:19:32,130 : INFO : worker thread finished; awaiting finish of 4 more threads\n",
      "2020-12-01 22:19:32,142 : INFO : worker thread finished; awaiting finish of 3 more threads\n",
      "2020-12-01 22:19:32,144 : INFO : worker thread finished; awaiting finish of 2 more threads\n",
      "2020-12-01 22:19:32,150 : INFO : worker thread finished; awaiting finish of 1 more threads\n",
      "2020-12-01 22:19:32,152 : INFO : worker thread finished; awaiting finish of 0 more threads\n",
      "2020-12-01 22:19:32,153 : INFO : EPOCH - 29 : training on 9227204 raw words (8223972 effective words) took 6.2s, 1328205 effective words/s\n",
      "2020-12-01 22:19:33,181 : INFO : EPOCH 30 - PROGRESS: at 15.95% examples, 1290332 words/s, in_qsize 15, out_qsize 0\n",
      "2020-12-01 22:19:34,187 : INFO : EPOCH 30 - PROGRESS: at 32.30% examples, 1313641 words/s, in_qsize 15, out_qsize 0\n",
      "2020-12-01 22:19:35,194 : INFO : EPOCH 30 - PROGRESS: at 48.62% examples, 1321207 words/s, in_qsize 15, out_qsize 0\n",
      "2020-12-01 22:19:36,198 : INFO : EPOCH 30 - PROGRESS: at 64.84% examples, 1323551 words/s, in_qsize 13, out_qsize 2\n",
      "2020-12-01 22:19:37,198 : INFO : EPOCH 30 - PROGRESS: at 80.90% examples, 1322407 words/s, in_qsize 14, out_qsize 1\n",
      "2020-12-01 22:19:38,212 : INFO : EPOCH 30 - PROGRESS: at 97.18% examples, 1321682 words/s, in_qsize 15, out_qsize 0\n",
      "2020-12-01 22:19:38,328 : INFO : worker thread finished; awaiting finish of 7 more threads\n",
      "2020-12-01 22:19:38,336 : INFO : worker thread finished; awaiting finish of 6 more threads\n",
      "2020-12-01 22:19:38,338 : INFO : worker thread finished; awaiting finish of 5 more threads\n",
      "2020-12-01 22:19:38,347 : INFO : worker thread finished; awaiting finish of 4 more threads\n",
      "2020-12-01 22:19:38,354 : INFO : worker thread finished; awaiting finish of 3 more threads\n",
      "2020-12-01 22:19:38,357 : INFO : worker thread finished; awaiting finish of 2 more threads\n",
      "2020-12-01 22:19:38,358 : INFO : worker thread finished; awaiting finish of 1 more threads\n",
      "2020-12-01 22:19:38,361 : INFO : worker thread finished; awaiting finish of 0 more threads\n",
      "2020-12-01 22:19:38,362 : INFO : EPOCH - 30 : training on 9227204 raw words (8223110 effective words) took 6.2s, 1327123 effective words/s\n",
      "2020-12-01 22:19:39,382 : INFO : EPOCH 31 - PROGRESS: at 13.47% examples, 1100376 words/s, in_qsize 15, out_qsize 0\n",
      "2020-12-01 22:19:40,387 : INFO : EPOCH 31 - PROGRESS: at 28.94% examples, 1183979 words/s, in_qsize 15, out_qsize 0\n",
      "2020-12-01 22:19:41,394 : INFO : EPOCH 31 - PROGRESS: at 43.54% examples, 1187295 words/s, in_qsize 16, out_qsize 0\n",
      "2020-12-01 22:19:42,395 : INFO : EPOCH 31 - PROGRESS: at 57.16% examples, 1171283 words/s, in_qsize 16, out_qsize 1\n",
      "2020-12-01 22:19:43,396 : INFO : EPOCH 31 - PROGRESS: at 72.32% examples, 1185890 words/s, in_qsize 15, out_qsize 0\n",
      "2020-12-01 22:19:44,406 : INFO : EPOCH 31 - PROGRESS: at 86.64% examples, 1182160 words/s, in_qsize 14, out_qsize 1\n",
      "2020-12-01 22:19:45,312 : INFO : worker thread finished; awaiting finish of 7 more threads\n",
      "2020-12-01 22:19:45,316 : INFO : worker thread finished; awaiting finish of 6 more threads\n",
      "2020-12-01 22:19:45,319 : INFO : worker thread finished; awaiting finish of 5 more threads\n",
      "2020-12-01 22:19:45,321 : INFO : worker thread finished; awaiting finish of 4 more threads\n",
      "2020-12-01 22:19:45,333 : INFO : worker thread finished; awaiting finish of 3 more threads\n",
      "2020-12-01 22:19:45,336 : INFO : worker thread finished; awaiting finish of 2 more threads\n",
      "2020-12-01 22:19:45,343 : INFO : worker thread finished; awaiting finish of 1 more threads\n",
      "2020-12-01 22:19:45,345 : INFO : worker thread finished; awaiting finish of 0 more threads\n",
      "2020-12-01 22:19:45,345 : INFO : EPOCH - 31 : training on 9227204 raw words (8223583 effective words) took 7.0s, 1180335 effective words/s\n",
      "2020-12-01 22:19:46,367 : INFO : EPOCH 32 - PROGRESS: at 12.82% examples, 1044192 words/s, in_qsize 16, out_qsize 0\n",
      "2020-12-01 22:19:47,382 : INFO : EPOCH 32 - PROGRESS: at 25.04% examples, 1017445 words/s, in_qsize 15, out_qsize 0\n",
      "2020-12-01 22:19:48,390 : INFO : EPOCH 32 - PROGRESS: at 39.00% examples, 1057985 words/s, in_qsize 16, out_qsize 0\n",
      "2020-12-01 22:19:49,405 : INFO : EPOCH 32 - PROGRESS: at 47.65% examples, 968833 words/s, in_qsize 14, out_qsize 1\n",
      "2020-12-01 22:19:50,408 : INFO : EPOCH 32 - PROGRESS: at 56.19% examples, 915676 words/s, in_qsize 16, out_qsize 1\n",
      "2020-12-01 22:19:51,422 : INFO : EPOCH 32 - PROGRESS: at 64.62% examples, 877046 words/s, in_qsize 15, out_qsize 0\n",
      "2020-12-01 22:19:52,440 : INFO : EPOCH 32 - PROGRESS: at 74.59% examples, 866733 words/s, in_qsize 15, out_qsize 0\n",
      "2020-12-01 22:19:53,445 : INFO : EPOCH 32 - PROGRESS: at 86.42% examples, 879109 words/s, in_qsize 16, out_qsize 1\n",
      "2020-12-01 22:19:54,450 : INFO : EPOCH 32 - PROGRESS: at 94.91% examples, 858239 words/s, in_qsize 16, out_qsize 0\n",
      "2020-12-01 22:19:54,961 : INFO : worker thread finished; awaiting finish of 7 more threads\n",
      "2020-12-01 22:19:54,965 : INFO : worker thread finished; awaiting finish of 6 more threads\n",
      "2020-12-01 22:19:54,967 : INFO : worker thread finished; awaiting finish of 5 more threads\n"
     ]
    },
    {
     "name": "stderr",
     "output_type": "stream",
     "text": [
      "2020-12-01 22:19:54,989 : INFO : worker thread finished; awaiting finish of 4 more threads\n",
      "2020-12-01 22:19:54,991 : INFO : worker thread finished; awaiting finish of 3 more threads\n",
      "2020-12-01 22:19:54,995 : INFO : worker thread finished; awaiting finish of 2 more threads\n",
      "2020-12-01 22:19:55,005 : INFO : worker thread finished; awaiting finish of 1 more threads\n",
      "2020-12-01 22:19:55,006 : INFO : worker thread finished; awaiting finish of 0 more threads\n",
      "2020-12-01 22:19:55,007 : INFO : EPOCH - 32 : training on 9227204 raw words (8221792 effective words) took 9.6s, 852186 effective words/s\n",
      "2020-12-01 22:19:55,009 : INFO : training on a 295270528 raw words (263128026 effective words) took 210.9s, 1247533 effective words/s\n"
     ]
    },
    {
     "name": "stdout",
     "output_type": "stream",
     "text": [
      "Wall time: 3min 30s\n"
     ]
    },
    {
     "data": {
      "text/plain": [
       "(263128026, 295270528)"
      ]
     },
     "execution_count": 43,
     "metadata": {},
     "output_type": "execute_result"
    }
   ],
   "source": [
    "%%time\n",
    "w2v_model.train(documents, total_examples=len(documents), epochs=W2V_EPOCH)"
   ]
  },
  {
   "cell_type": "code",
   "execution_count": 44,
   "metadata": {},
   "outputs": [
    {
     "name": "stderr",
     "output_type": "stream",
     "text": [
      "C:\\Users\\adity\\Anaconda3\\lib\\site-packages\\ipykernel_launcher.py:1: DeprecationWarning: Call to deprecated `most_similar` (Method will be removed in 4.0.0, use self.wv.most_similar() instead).\n",
      "  \"\"\"Entry point for launching an IPython kernel.\n",
      "2020-12-01 22:20:39,481 : INFO : precomputing L2-norms of word weight vectors\n"
     ]
    },
    {
     "data": {
      "text/plain": [
       "[('luv', 0.5773587226867676),\n",
       " ('loves', 0.5746666193008423),\n",
       " ('loved', 0.5297864675521851),\n",
       " ('amazing', 0.5061787366867065),\n",
       " ('adore', 0.5031328797340393),\n",
       " ('looove', 0.4756856858730316),\n",
       " ('awesome', 0.4613794684410095),\n",
       " ('loveee', 0.4592064321041107),\n",
       " ('lovee', 0.4511285424232483),\n",
       " ('loooove', 0.44009190797805786)]"
      ]
     },
     "execution_count": 44,
     "metadata": {},
     "output_type": "execute_result"
    }
   ],
   "source": [
    "w2v_model.most_similar(\"love\")"
   ]
  },
  {
   "cell_type": "code",
   "execution_count": 46,
   "metadata": {},
   "outputs": [
    {
     "name": "stdout",
     "output_type": "stream",
     "text": [
      "Total words 290419\n",
      "Wall time: 12.7 s\n"
     ]
    }
   ],
   "source": [
    "%%time\n",
    "tokenizer = Tokenizer()\n",
    "tokenizer.fit_on_texts(df_train.text)\n",
    "\n",
    "vocab_size = len(tokenizer.word_index) + 1\n",
    "print(\"Total words\", vocab_size)"
   ]
  },
  {
   "cell_type": "code",
   "execution_count": 47,
   "metadata": {},
   "outputs": [
    {
     "name": "stdout",
     "output_type": "stream",
     "text": [
      "Wall time: 20.4 s\n"
     ]
    }
   ],
   "source": [
    "%%time\n",
    "x_train = pad_sequences(tokenizer.texts_to_sequences(df_train.text), maxlen=SEQUENCE_LENGTH)\n",
    "x_test = pad_sequences(tokenizer.texts_to_sequences(df_test.text), maxlen=SEQUENCE_LENGTH)"
   ]
  },
  {
   "cell_type": "code",
   "execution_count": 48,
   "metadata": {},
   "outputs": [
    {
     "data": {
      "text/plain": [
       "['POSITIVE', 'NEGATIVE', 'NEUTRAL']"
      ]
     },
     "execution_count": 48,
     "metadata": {},
     "output_type": "execute_result"
    }
   ],
   "source": [
    "labels = df_train.target.unique().tolist()\n",
    "labels.append(NEUTRAL)\n",
    "labels"
   ]
  },
  {
   "cell_type": "code",
   "execution_count": 49,
   "metadata": {},
   "outputs": [
    {
     "name": "stdout",
     "output_type": "stream",
     "text": [
      "y_train (1280000, 1)\n",
      "y_test (320000, 1)\n"
     ]
    }
   ],
   "source": [
    "encoder = LabelEncoder()\n",
    "encoder.fit(df_train.target.tolist())\n",
    "\n",
    "y_train = encoder.transform(df_train.target.tolist())\n",
    "y_test = encoder.transform(df_test.target.tolist())\n",
    "\n",
    "y_train = y_train.reshape(-1,1)\n",
    "y_test = y_test.reshape(-1,1)\n",
    "\n",
    "print(\"y_train\",y_train.shape)\n",
    "print(\"y_test\",y_test.shape)"
   ]
  },
  {
   "cell_type": "code",
   "execution_count": 50,
   "metadata": {},
   "outputs": [
    {
     "name": "stdout",
     "output_type": "stream",
     "text": [
      "x_train (1280000, 300)\n",
      "y_train (1280000, 1)\n",
      "\n",
      "x_test (320000, 300)\n",
      "y_test (320000, 1)\n"
     ]
    }
   ],
   "source": [
    "print(\"x_train\", x_train.shape)\n",
    "print(\"y_train\", y_train.shape)\n",
    "print()\n",
    "print(\"x_test\", x_test.shape)\n",
    "print(\"y_test\", y_test.shape)"
   ]
  },
  {
   "cell_type": "code",
   "execution_count": 51,
   "metadata": {},
   "outputs": [
    {
     "data": {
      "text/plain": [
       "array([[1],\n",
       "       [1],\n",
       "       [1],\n",
       "       [0],\n",
       "       [1],\n",
       "       [1],\n",
       "       [1],\n",
       "       [1],\n",
       "       [1],\n",
       "       [1]], dtype=int64)"
      ]
     },
     "execution_count": 51,
     "metadata": {},
     "output_type": "execute_result"
    }
   ],
   "source": [
    "y_train[:10]"
   ]
  },
  {
   "cell_type": "code",
   "execution_count": 52,
   "metadata": {},
   "outputs": [],
   "source": [
    "# Embedding layer"
   ]
  },
  {
   "cell_type": "code",
   "execution_count": 53,
   "metadata": {},
   "outputs": [
    {
     "name": "stdout",
     "output_type": "stream",
     "text": [
      "(290419, 300)\n"
     ]
    }
   ],
   "source": [
    "embedding_matrix = np.zeros((vocab_size, W2V_SIZE))\n",
    "for word, i in tokenizer.word_index.items():\n",
    "  if word in w2v_model.wv:\n",
    "    embedding_matrix[i] = w2v_model.wv[word]\n",
    "print(embedding_matrix.shape)"
   ]
  },
  {
   "cell_type": "code",
   "execution_count": 54,
   "metadata": {},
   "outputs": [],
   "source": [
    "embedding_layer = Embedding(vocab_size, W2V_SIZE, weights=[embedding_matrix], input_length=SEQUENCE_LENGTH, trainable=False)"
   ]
  },
  {
   "cell_type": "code",
   "execution_count": 55,
   "metadata": {},
   "outputs": [],
   "source": [
    "# Bulding model"
   ]
  },
  {
   "cell_type": "code",
   "execution_count": 56,
   "metadata": {},
   "outputs": [
    {
     "name": "stdout",
     "output_type": "stream",
     "text": [
      "Model: \"sequential\"\n",
      "_________________________________________________________________\n",
      "Layer (type)                 Output Shape              Param #   \n",
      "=================================================================\n",
      "embedding (Embedding)        (None, 300, 300)          87125700  \n",
      "_________________________________________________________________\n",
      "dropout (Dropout)            (None, 300, 300)          0         \n",
      "_________________________________________________________________\n",
      "lstm (LSTM)                  (None, 100)               160400    \n",
      "_________________________________________________________________\n",
      "dense (Dense)                (None, 1)                 101       \n",
      "=================================================================\n",
      "Total params: 87,286,201\n",
      "Trainable params: 160,501\n",
      "Non-trainable params: 87,125,700\n",
      "_________________________________________________________________\n"
     ]
    }
   ],
   "source": [
    "model = Sequential()\n",
    "model.add(embedding_layer)\n",
    "model.add(Dropout(0.5))\n",
    "model.add(LSTM(100, dropout=0.2, recurrent_dropout=0.2))\n",
    "model.add(Dense(1, activation='sigmoid'))\n",
    "\n",
    "model.summary()"
   ]
  },
  {
   "cell_type": "code",
   "execution_count": null,
   "metadata": {},
   "outputs": [],
   "source": []
  }
 ],
 "metadata": {
  "kernelspec": {
   "display_name": "Python 3",
   "language": "python",
   "name": "python3"
  },
  "language_info": {
   "codemirror_mode": {
    "name": "ipython",
    "version": 3
   },
   "file_extension": ".py",
   "mimetype": "text/x-python",
   "name": "python",
   "nbconvert_exporter": "python",
   "pygments_lexer": "ipython3",
   "version": "3.7.4"
  }
 },
 "nbformat": 4,
 "nbformat_minor": 2
}
