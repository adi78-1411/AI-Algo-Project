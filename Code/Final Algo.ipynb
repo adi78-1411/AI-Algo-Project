{
 "cells": [
  {
   "cell_type": "code",
   "execution_count": 2,
   "metadata": {},
   "outputs": [],
   "source": [
    "# Importing required Liberaries"
   ]
  },
  {
   "cell_type": "code",
   "execution_count": 3,
   "metadata": {},
   "outputs": [],
   "source": [
    "import pandas as pd\n",
    "\n",
    "# Matplot\n",
    "import matplotlib.pyplot as plt\n",
    "%matplotlib inline\n",
    "\n",
    "# Scikit-learn\n",
    "from sklearn.model_selection import train_test_split\n",
    "from sklearn.preprocessing import LabelEncoder\n",
    "from sklearn.metrics import confusion_matrix, classification_report, accuracy_score\n",
    "from sklearn.manifold import TSNE\n",
    "from sklearn.feature_extraction.text import TfidfVectorizer\n",
    "\n",
    "# Keras\n",
    "from keras.preprocessing.text import Tokenizer\n",
    "from keras.preprocessing.sequence import pad_sequences\n",
    "from keras.models import Sequential\n",
    "from keras.layers import Activation, Dense, Dropout, Embedding, Flatten, Conv1D, MaxPooling1D, LSTM\n",
    "from keras import utils\n",
    "from keras.callbacks import ReduceLROnPlateau, EarlyStopping\n",
    "\n",
    "# nltk\n",
    "import nltk\n",
    "from nltk.corpus import stopwords\n",
    "from  nltk.stem import SnowballStemmer\n",
    "\n",
    "# Word2vec\n",
    "import gensim\n",
    "\n",
    "# Utility\n",
    "import re\n",
    "import numpy as np\n",
    "import os\n",
    "from collections import Counter\n",
    "import logging\n",
    "import time\n",
    "import pickle\n",
    "import itertools\n",
    "\n",
    "# Set log\n",
    "logging.basicConfig(format='%(asctime)s : %(levelname)s : %(message)s', level=logging.INFO)"
   ]
  },
  {
   "cell_type": "code",
   "execution_count": 4,
   "metadata": {},
   "outputs": [
    {
     "name": "stderr",
     "output_type": "stream",
     "text": [
      "[nltk_data] Downloading package stopwords to\n",
      "[nltk_data]     C:\\Users\\adity\\AppData\\Roaming\\nltk_data...\n",
      "[nltk_data]   Package stopwords is already up-to-date!\n"
     ]
    },
    {
     "data": {
      "text/plain": [
       "True"
      ]
     },
     "execution_count": 4,
     "metadata": {},
     "output_type": "execute_result"
    }
   ],
   "source": [
    "nltk.download('stopwords')"
   ]
  },
  {
   "cell_type": "code",
   "execution_count": 5,
   "metadata": {},
   "outputs": [],
   "source": [
    "# Settings"
   ]
  },
  {
   "cell_type": "code",
   "execution_count": 6,
   "metadata": {},
   "outputs": [],
   "source": [
    "DATASET_COLUMNS = [\"target\", \"ids\", \"date\", \"flag\", \"user\", \"text\"]\n",
    "DATASET_ENCODING = \"ISO-8859-1\"\n",
    "TRAIN_SIZE = 0.8\n",
    "\n",
    "# TEXT CLENAING\n",
    "TEXT_CLEANING_RE = \"@\\S+|https?:\\S+|http?:\\S|[^A-Za-z0-9]+\"\n",
    "\n",
    "# WORD2VEC \n",
    "W2V_SIZE = 300\n",
    "W2V_WINDOW = 7\n",
    "W2V_EPOCH = 32\n",
    "W2V_MIN_COUNT = 10\n",
    "\n",
    "# KERAS\n",
    "SEQUENCE_LENGTH = 300\n",
    "EPOCHS = 8\n",
    "BATCH_SIZE = 1024\n",
    "\n",
    "# SENTIMENT\n",
    "POSITIVE = \"POSITIVE\"\n",
    "NEGATIVE = \"NEGATIVE\"\n",
    "NEUTRAL = \"NEUTRAL\"\n",
    "SENTIMENT_THRESHOLDS = (0.4, 0.7)\n",
    "\n",
    "# EXPORT\n",
    "KERAS_MODEL = \"model.h5\"\n",
    "WORD2VEC_MODEL = \"model.w2v\"\n",
    "TOKENIZER_MODEL = \"tokenizer.pkl\"\n",
    "ENCODER_MODEL = \"encoder.pkl\""
   ]
  },
  {
   "cell_type": "code",
   "execution_count": 7,
   "metadata": {},
   "outputs": [],
   "source": [
    "# Read Dataset"
   ]
  },
  {
   "cell_type": "code",
   "execution_count": 8,
   "metadata": {},
   "outputs": [
    {
     "name": "stdout",
     "output_type": "stream",
     "text": [
      "Open file: D:Tweets.csv\n"
     ]
    }
   ],
   "source": [
    "dataset_filename = os.listdir(\"D:\")[0]\n",
    "dataset_path = os.path.join(\"D:\",\"Tweets.csv\")\n",
    "print(\"Open file:\", dataset_path)\n",
    "df = pd.read_csv(dataset_path, encoding =DATASET_ENCODING , names=DATASET_COLUMNS)"
   ]
  },
  {
   "cell_type": "code",
   "execution_count": 9,
   "metadata": {},
   "outputs": [
    {
     "name": "stdout",
     "output_type": "stream",
     "text": [
      "Dataset size: 1600000\n"
     ]
    }
   ],
   "source": [
    "print(\"Dataset size:\", len(df))"
   ]
  },
  {
   "cell_type": "code",
   "execution_count": 10,
   "metadata": {},
   "outputs": [
    {
     "data": {
      "text/html": [
       "<div>\n",
       "<style scoped>\n",
       "    .dataframe tbody tr th:only-of-type {\n",
       "        vertical-align: middle;\n",
       "    }\n",
       "\n",
       "    .dataframe tbody tr th {\n",
       "        vertical-align: top;\n",
       "    }\n",
       "\n",
       "    .dataframe thead th {\n",
       "        text-align: right;\n",
       "    }\n",
       "</style>\n",
       "<table border=\"1\" class=\"dataframe\">\n",
       "  <thead>\n",
       "    <tr style=\"text-align: right;\">\n",
       "      <th></th>\n",
       "      <th>target</th>\n",
       "      <th>ids</th>\n",
       "      <th>date</th>\n",
       "      <th>flag</th>\n",
       "      <th>user</th>\n",
       "      <th>text</th>\n",
       "    </tr>\n",
       "  </thead>\n",
       "  <tbody>\n",
       "    <tr>\n",
       "      <th>0</th>\n",
       "      <td>0</td>\n",
       "      <td>1467810369</td>\n",
       "      <td>Mon Apr 06 22:19:45 PDT 2009</td>\n",
       "      <td>NO_QUERY</td>\n",
       "      <td>_TheSpecialOne_</td>\n",
       "      <td>@switchfoot http://twitpic.com/2y1zl - Awww, t...</td>\n",
       "    </tr>\n",
       "    <tr>\n",
       "      <th>1</th>\n",
       "      <td>0</td>\n",
       "      <td>1467810672</td>\n",
       "      <td>Mon Apr 06 22:19:49 PDT 2009</td>\n",
       "      <td>NO_QUERY</td>\n",
       "      <td>scotthamilton</td>\n",
       "      <td>is upset that he can't update his Facebook by ...</td>\n",
       "    </tr>\n",
       "    <tr>\n",
       "      <th>2</th>\n",
       "      <td>0</td>\n",
       "      <td>1467810917</td>\n",
       "      <td>Mon Apr 06 22:19:53 PDT 2009</td>\n",
       "      <td>NO_QUERY</td>\n",
       "      <td>mattycus</td>\n",
       "      <td>@Kenichan I dived many times for the ball. Man...</td>\n",
       "    </tr>\n",
       "    <tr>\n",
       "      <th>3</th>\n",
       "      <td>0</td>\n",
       "      <td>1467811184</td>\n",
       "      <td>Mon Apr 06 22:19:57 PDT 2009</td>\n",
       "      <td>NO_QUERY</td>\n",
       "      <td>ElleCTF</td>\n",
       "      <td>my whole body feels itchy and like its on fire</td>\n",
       "    </tr>\n",
       "    <tr>\n",
       "      <th>4</th>\n",
       "      <td>0</td>\n",
       "      <td>1467811193</td>\n",
       "      <td>Mon Apr 06 22:19:57 PDT 2009</td>\n",
       "      <td>NO_QUERY</td>\n",
       "      <td>Karoli</td>\n",
       "      <td>@nationwideclass no, it's not behaving at all....</td>\n",
       "    </tr>\n",
       "  </tbody>\n",
       "</table>\n",
       "</div>"
      ],
      "text/plain": [
       "   target         ids                          date      flag  \\\n",
       "0       0  1467810369  Mon Apr 06 22:19:45 PDT 2009  NO_QUERY   \n",
       "1       0  1467810672  Mon Apr 06 22:19:49 PDT 2009  NO_QUERY   \n",
       "2       0  1467810917  Mon Apr 06 22:19:53 PDT 2009  NO_QUERY   \n",
       "3       0  1467811184  Mon Apr 06 22:19:57 PDT 2009  NO_QUERY   \n",
       "4       0  1467811193  Mon Apr 06 22:19:57 PDT 2009  NO_QUERY   \n",
       "\n",
       "              user                                               text  \n",
       "0  _TheSpecialOne_  @switchfoot http://twitpic.com/2y1zl - Awww, t...  \n",
       "1    scotthamilton  is upset that he can't update his Facebook by ...  \n",
       "2         mattycus  @Kenichan I dived many times for the ball. Man...  \n",
       "3          ElleCTF    my whole body feels itchy and like its on fire   \n",
       "4           Karoli  @nationwideclass no, it's not behaving at all....  "
      ]
     },
     "execution_count": 10,
     "metadata": {},
     "output_type": "execute_result"
    }
   ],
   "source": [
    "df.head(5)"
   ]
  },
  {
   "cell_type": "code",
   "execution_count": 11,
   "metadata": {},
   "outputs": [],
   "source": [
    "# Map target label to String"
   ]
  },
  {
   "cell_type": "code",
   "execution_count": 12,
   "metadata": {},
   "outputs": [],
   "source": [
    "decode_map = {0: \"NEGATIVE\", 2: \"NEUTRAL\", 4: \"POSITIVE\"}\n",
    "def decode_sentiment(label):\n",
    "    return decode_map[int(label)]"
   ]
  },
  {
   "cell_type": "code",
   "execution_count": 13,
   "metadata": {},
   "outputs": [
    {
     "name": "stdout",
     "output_type": "stream",
     "text": [
      "Wall time: 517 ms\n"
     ]
    }
   ],
   "source": [
    "%%time\n",
    "df.target = df.target.apply(lambda x: decode_sentiment(x))"
   ]
  },
  {
   "cell_type": "code",
   "execution_count": 14,
   "metadata": {},
   "outputs": [
    {
     "data": {
      "text/plain": [
       "Text(0.5, 1.0, 'Dataset labels distribuition')"
      ]
     },
     "execution_count": 14,
     "metadata": {},
     "output_type": "execute_result"
    },
    {
     "data": {
      "image/png": "[encoded data removed]",
      "text/plain": [
       "<Figure size 1152x576 with 1 Axes>"
      ]
     },
     "metadata": {
      "needs_background": "light"
     },
     "output_type": "display_data"
    }
   ],
   "source": [
    "target_cnt = Counter(df.target)\n",
    "\n",
    "plt.figure(figsize=(16,8))\n",
    "plt.bar(target_cnt.keys(), target_cnt.values())\n",
    "plt.title(\"Dataset labels distribuition\")"
   ]
  },
  {
   "cell_type": "code",
   "execution_count": 15,
   "metadata": {},
   "outputs": [],
   "source": [
    "# Pre-Process dataset"
   ]
  },
  {
   "cell_type": "code",
   "execution_count": 16,
   "metadata": {},
   "outputs": [],
   "source": [
    "stop_words = stopwords.words(\"english\")\n",
    "stemmer = SnowballStemmer(\"english\")\n"
   ]
  },
  {
   "cell_type": "code",
   "execution_count": 17,
   "metadata": {},
   "outputs": [],
   "source": [
    "def preprocess(text, stem=False):\n",
    "    # Remove link,user and special characters\n",
    "    text = re.sub(TEXT_CLEANING_RE, ' ', str(text).lower()).strip()\n",
    "    tokens = []\n",
    "    for token in text.split():\n",
    "        if token not in stop_words:\n",
    "            if stem:\n",
    "                tokens.append(stemmer.stem(token))\n",
    "            else:\n",
    "                tokens.append(token)\n",
    "    return \" \".join(tokens)"
   ]
  },
  {
   "cell_type": "code",
   "execution_count": 18,
   "metadata": {},
   "outputs": [
    {
     "name": "stdout",
     "output_type": "stream",
     "text": [
      "Wall time: 52.8 s\n"
     ]
    }
   ],
   "source": [
    "%%time\n",
    "df.text = df.text.apply(lambda x: preprocess(x))"
   ]
  },
  {
   "cell_type": "code",
   "execution_count": 19,
   "metadata": {},
   "outputs": [],
   "source": [
    "# Split train and test"
   ]
  },
  {
   "cell_type": "code",
   "execution_count": 20,
   "metadata": {},
   "outputs": [
    {
     "name": "stdout",
     "output_type": "stream",
     "text": [
      "TRAIN size: 1280000\n",
      "TEST size: 320000\n"
     ]
    }
   ],
   "source": [
    "df_train, df_test = train_test_split(df, test_size=1-TRAIN_SIZE, random_state=42)\n",
    "print(\"TRAIN size:\", len(df_train))\n",
    "print(\"TEST size:\", len(df_test))"
   ]
  },
  {
   "cell_type": "code",
   "execution_count": 21,
   "metadata": {},
   "outputs": [],
   "source": [
    "# Word2Vec"
   ]
  },
  {
   "cell_type": "code",
   "execution_count": 22,
   "metadata": {},
   "outputs": [
    {
     "name": "stdout",
     "output_type": "stream",
     "text": [
      "Wall time: 3.63 s\n"
     ]
    }
   ],
   "source": [
    "%%time\n",
    "documents = [_text.split() for _text in df_train.text] "
   ]
  },
  {
   "cell_type": "code",
   "execution_count": 23,
   "metadata": {},
   "outputs": [],
   "source": [
    "w2v_model = gensim.models.word2vec.Word2Vec(size=W2V_SIZE, \n",
    "                                            window=W2V_WINDOW, \n",
    "                                            min_count=W2V_MIN_COUNT, \n",
    "                                            workers=8)"
   ]
  },
  {
   "cell_type": "code",
   "execution_count": 24,
   "metadata": {},
   "outputs": [
    {
     "name": "stderr",
     "output_type": "stream",
     "text": [
      "2020-12-20 20:08:52,055 : INFO : collecting all words and their counts\n",
      "2020-12-20 20:08:52,057 : INFO : PROGRESS: at sentence #0, processed 0 words, keeping 0 word types\n",
      "2020-12-20 20:08:52,082 : INFO : PROGRESS: at sentence #10000, processed 72565 words, keeping 14005 word types\n",
      "2020-12-20 20:08:52,108 : INFO : PROGRESS: at sentence #20000, processed 144393 words, keeping 21587 word types\n",
      "2020-12-20 20:08:52,136 : INFO : PROGRESS: at sentence #30000, processed 215826 words, keeping 27541 word types\n",
      "2020-12-20 20:08:52,166 : INFO : PROGRESS: at sentence #40000, processed 288271 words, keeping 32764 word types\n",
      "2020-12-20 20:08:52,202 : INFO : PROGRESS: at sentence #50000, processed 359772 words, keeping 37587 word types\n",
      "2020-12-20 20:08:52,233 : INFO : PROGRESS: at sentence #60000, processed 431431 words, keeping 42198 word types\n",
      "2020-12-20 20:08:52,267 : INFO : PROGRESS: at sentence #70000, processed 503103 words, keeping 46458 word types\n",
      "2020-12-20 20:08:52,302 : INFO : PROGRESS: at sentence #80000, processed 575709 words, keeping 50476 word types\n",
      "2020-12-20 20:08:52,330 : INFO : PROGRESS: at sentence #90000, processed 647100 words, keeping 54140 word types\n",
      "2020-12-20 20:08:52,362 : INFO : PROGRESS: at sentence #100000, processed 718681 words, keeping 57777 word types\n",
      "2020-12-20 20:08:52,390 : INFO : PROGRESS: at sentence #110000, processed 790696 words, keeping 61207 word types\n",
      "2020-12-20 20:08:52,421 : INFO : PROGRESS: at sentence #120000, processed 863134 words, keeping 64583 word types\n",
      "2020-12-20 20:08:52,457 : INFO : PROGRESS: at sentence #130000, processed 935111 words, keeping 67865 word types\n",
      "2020-12-20 20:08:52,506 : INFO : PROGRESS: at sentence #140000, processed 1006668 words, keeping 70966 word types\n",
      "2020-12-20 20:08:52,541 : INFO : PROGRESS: at sentence #150000, processed 1078512 words, keeping 74119 word types\n",
      "2020-12-20 20:08:52,570 : INFO : PROGRESS: at sentence #160000, processed 1149914 words, keeping 77187 word types\n",
      "2020-12-20 20:08:52,603 : INFO : PROGRESS: at sentence #170000, processed 1222145 words, keeping 80267 word types\n",
      "2020-12-20 20:08:52,641 : INFO : PROGRESS: at sentence #180000, processed 1294708 words, keeping 83393 word types\n",
      "2020-12-20 20:08:52,674 : INFO : PROGRESS: at sentence #190000, processed 1367608 words, keeping 86329 word types\n",
      "2020-12-20 20:08:52,710 : INFO : PROGRESS: at sentence #200000, processed 1439469 words, keeping 89103 word types\n",
      "2020-12-20 20:08:52,740 : INFO : PROGRESS: at sentence #210000, processed 1512099 words, keeping 91840 word types\n",
      "2020-12-20 20:08:52,769 : INFO : PROGRESS: at sentence #220000, processed 1584149 words, keeping 94636 word types\n",
      "2020-12-20 20:08:52,799 : INFO : PROGRESS: at sentence #230000, processed 1656354 words, keeping 97353 word types\n",
      "2020-12-20 20:08:52,832 : INFO : PROGRESS: at sentence #240000, processed 1728573 words, keeping 99975 word types\n",
      "2020-12-20 20:08:52,862 : INFO : PROGRESS: at sentence #250000, processed 1801102 words, keeping 102594 word types\n",
      "2020-12-20 20:08:52,888 : INFO : PROGRESS: at sentence #260000, processed 1873103 words, keeping 105162 word types\n",
      "2020-12-20 20:08:52,914 : INFO : PROGRESS: at sentence #270000, processed 1945245 words, keeping 107626 word types\n",
      "2020-12-20 20:08:52,937 : INFO : PROGRESS: at sentence #280000, processed 2017163 words, keeping 110141 word types\n",
      "2020-12-20 20:08:52,966 : INFO : PROGRESS: at sentence #290000, processed 2089574 words, keeping 112539 word types\n",
      "2020-12-20 20:08:52,993 : INFO : PROGRESS: at sentence #300000, processed 2160996 words, keeping 114893 word types\n",
      "2020-12-20 20:08:53,023 : INFO : PROGRESS: at sentence #310000, processed 2232913 words, keeping 117298 word types\n",
      "2020-12-20 20:08:53,056 : INFO : PROGRESS: at sentence #320000, processed 2305039 words, keeping 119693 word types\n",
      "2020-12-20 20:08:53,089 : INFO : PROGRESS: at sentence #330000, processed 2377119 words, keeping 122131 word types\n",
      "2020-12-20 20:08:53,120 : INFO : PROGRESS: at sentence #340000, processed 2449370 words, keeping 124416 word types\n",
      "2020-12-20 20:08:53,147 : INFO : PROGRESS: at sentence #350000, processed 2521564 words, keeping 126669 word types\n",
      "2020-12-20 20:08:53,174 : INFO : PROGRESS: at sentence #360000, processed 2593681 words, keeping 128912 word types\n",
      "2020-12-20 20:08:53,205 : INFO : PROGRESS: at sentence #370000, processed 2665692 words, keeping 131135 word types\n",
      "2020-12-20 20:08:53,233 : INFO : PROGRESS: at sentence #380000, processed 2737859 words, keeping 133403 word types\n",
      "2020-12-20 20:08:53,266 : INFO : PROGRESS: at sentence #390000, processed 2809848 words, keeping 135551 word types\n",
      "2020-12-20 20:08:53,295 : INFO : PROGRESS: at sentence #400000, processed 2882438 words, keeping 137742 word types\n",
      "2020-12-20 20:08:53,328 : INFO : PROGRESS: at sentence #410000, processed 2954075 words, keeping 139909 word types\n",
      "2020-12-20 20:08:53,357 : INFO : PROGRESS: at sentence #420000, processed 3026247 words, keeping 142144 word types\n",
      "2020-12-20 20:08:53,392 : INFO : PROGRESS: at sentence #430000, processed 3098659 words, keeping 144364 word types\n",
      "2020-12-20 20:08:53,429 : INFO : PROGRESS: at sentence #440000, processed 3170663 words, keeping 146439 word types\n",
      "2020-12-20 20:08:53,468 : INFO : PROGRESS: at sentence #450000, processed 3243344 words, keeping 148526 word types\n",
      "2020-12-20 20:08:53,495 : INFO : PROGRESS: at sentence #460000, processed 3315466 words, keeping 150610 word types\n",
      "2020-12-20 20:08:53,521 : INFO : PROGRESS: at sentence #470000, processed 3388295 words, keeping 152737 word types\n",
      "2020-12-20 20:08:53,566 : INFO : PROGRESS: at sentence #480000, processed 3460120 words, keeping 154757 word types\n",
      "2020-12-20 20:08:53,601 : INFO : PROGRESS: at sentence #490000, processed 3531883 words, keeping 156825 word types\n",
      "2020-12-20 20:08:53,633 : INFO : PROGRESS: at sentence #500000, processed 3604217 words, keeping 158859 word types\n",
      "2020-12-20 20:08:53,662 : INFO : PROGRESS: at sentence #510000, processed 3676427 words, keeping 160852 word types\n",
      "2020-12-20 20:08:53,691 : INFO : PROGRESS: at sentence #520000, processed 3749045 words, keeping 162863 word types\n",
      "2020-12-20 20:08:53,726 : INFO : PROGRESS: at sentence #530000, processed 3821622 words, keeping 164929 word types\n",
      "2020-12-20 20:08:53,749 : INFO : PROGRESS: at sentence #540000, processed 3893627 words, keeping 166840 word types\n",
      "2020-12-20 20:08:53,780 : INFO : PROGRESS: at sentence #550000, processed 3965477 words, keeping 168799 word types\n",
      "2020-12-20 20:08:53,812 : INFO : PROGRESS: at sentence #560000, processed 4038050 words, keeping 170802 word types\n",
      "2020-12-20 20:08:53,838 : INFO : PROGRESS: at sentence #570000, processed 4110296 words, keeping 172760 word types\n",
      "2020-12-20 20:08:53,868 : INFO : PROGRESS: at sentence #580000, processed 4182385 words, keeping 174635 word types\n",
      "2020-12-20 20:08:53,912 : INFO : PROGRESS: at sentence #590000, processed 4254632 words, keeping 176470 word types\n",
      "2020-12-20 20:08:53,943 : INFO : PROGRESS: at sentence #600000, processed 4326859 words, keeping 178350 word types\n",
      "2020-12-20 20:08:53,981 : INFO : PROGRESS: at sentence #610000, processed 4399183 words, keeping 180290 word types\n",
      "2020-12-20 20:08:54,016 : INFO : PROGRESS: at sentence #620000, processed 4471343 words, keeping 182129 word types\n",
      "2020-12-20 20:08:54,048 : INFO : PROGRESS: at sentence #630000, processed 4543286 words, keeping 184005 word types\n",
      "2020-12-20 20:08:54,084 : INFO : PROGRESS: at sentence #640000, processed 4615780 words, keeping 185835 word types\n",
      "2020-12-20 20:08:54,116 : INFO : PROGRESS: at sentence #650000, processed 4688481 words, keeping 187705 word types\n",
      "2020-12-20 20:08:54,142 : INFO : PROGRESS: at sentence #660000, processed 4760481 words, keeping 189439 word types\n",
      "2020-12-20 20:08:54,178 : INFO : PROGRESS: at sentence #670000, processed 4833024 words, keeping 191232 word types\n",
      "2020-12-20 20:08:54,212 : INFO : PROGRESS: at sentence #680000, processed 4904516 words, keeping 193177 word types\n",
      "2020-12-20 20:08:54,253 : INFO : PROGRESS: at sentence #690000, processed 4976968 words, keeping 194960 word types\n",
      "2020-12-20 20:08:54,286 : INFO : PROGRESS: at sentence #700000, processed 5049412 words, keeping 196725 word types\n",
      "2020-12-20 20:08:54,315 : INFO : PROGRESS: at sentence #710000, processed 5121976 words, keeping 198516 word types\n"
     ]
    },
    {
     "name": "stderr",
     "output_type": "stream",
     "text": [
      "2020-12-20 20:08:54,354 : INFO : PROGRESS: at sentence #720000, processed 5193881 words, keeping 200325 word types\n",
      "2020-12-20 20:08:54,387 : INFO : PROGRESS: at sentence #730000, processed 5265467 words, keeping 202133 word types\n",
      "2020-12-20 20:08:54,417 : INFO : PROGRESS: at sentence #740000, processed 5337518 words, keeping 203818 word types\n",
      "2020-12-20 20:08:54,448 : INFO : PROGRESS: at sentence #750000, processed 5409321 words, keeping 205535 word types\n",
      "2020-12-20 20:08:54,484 : INFO : PROGRESS: at sentence #760000, processed 5481512 words, keeping 207282 word types\n",
      "2020-12-20 20:08:54,527 : INFO : PROGRESS: at sentence #770000, processed 5554093 words, keeping 209076 word types\n",
      "2020-12-20 20:08:54,563 : INFO : PROGRESS: at sentence #780000, processed 5625382 words, keeping 210805 word types\n",
      "2020-12-20 20:08:54,608 : INFO : PROGRESS: at sentence #790000, processed 5698066 words, keeping 212618 word types\n",
      "2020-12-20 20:08:54,642 : INFO : PROGRESS: at sentence #800000, processed 5770880 words, keeping 214374 word types\n",
      "2020-12-20 20:08:54,674 : INFO : PROGRESS: at sentence #810000, processed 5843418 words, keeping 216009 word types\n",
      "2020-12-20 20:08:54,711 : INFO : PROGRESS: at sentence #820000, processed 5915628 words, keeping 217804 word types\n",
      "2020-12-20 20:08:54,749 : INFO : PROGRESS: at sentence #830000, processed 5987499 words, keeping 219585 word types\n",
      "2020-12-20 20:08:54,784 : INFO : PROGRESS: at sentence #840000, processed 6058973 words, keeping 221344 word types\n",
      "2020-12-20 20:08:54,816 : INFO : PROGRESS: at sentence #850000, processed 6131125 words, keeping 223002 word types\n",
      "2020-12-20 20:08:54,841 : INFO : PROGRESS: at sentence #860000, processed 6202951 words, keeping 224643 word types\n",
      "2020-12-20 20:08:54,875 : INFO : PROGRESS: at sentence #870000, processed 6275461 words, keeping 226362 word types\n",
      "2020-12-20 20:08:54,905 : INFO : PROGRESS: at sentence #880000, processed 6347661 words, keeping 227986 word types\n",
      "2020-12-20 20:08:54,936 : INFO : PROGRESS: at sentence #890000, processed 6419806 words, keeping 229634 word types\n",
      "2020-12-20 20:08:54,964 : INFO : PROGRESS: at sentence #900000, processed 6491644 words, keeping 231389 word types\n",
      "2020-12-20 20:08:55,000 : INFO : PROGRESS: at sentence #910000, processed 6564022 words, keeping 233050 word types\n",
      "2020-12-20 20:08:55,032 : INFO : PROGRESS: at sentence #920000, processed 6636228 words, keeping 234686 word types\n",
      "2020-12-20 20:08:55,060 : INFO : PROGRESS: at sentence #930000, processed 6708573 words, keeping 236393 word types\n",
      "2020-12-20 20:08:55,096 : INFO : PROGRESS: at sentence #940000, processed 6779956 words, keeping 238052 word types\n",
      "2020-12-20 20:08:55,123 : INFO : PROGRESS: at sentence #950000, processed 6852599 words, keeping 239716 word types\n",
      "2020-12-20 20:08:55,151 : INFO : PROGRESS: at sentence #960000, processed 6924717 words, keeping 241354 word types\n",
      "2020-12-20 20:08:55,178 : INFO : PROGRESS: at sentence #970000, processed 6996992 words, keeping 242980 word types\n",
      "2020-12-20 20:08:55,210 : INFO : PROGRESS: at sentence #980000, processed 7068402 words, keeping 244646 word types\n",
      "2020-12-20 20:08:55,243 : INFO : PROGRESS: at sentence #990000, processed 7140346 words, keeping 246186 word types\n",
      "2020-12-20 20:08:55,268 : INFO : PROGRESS: at sentence #1000000, processed 7211757 words, keeping 247726 word types\n",
      "2020-12-20 20:08:55,297 : INFO : PROGRESS: at sentence #1010000, processed 7283267 words, keeping 249288 word types\n",
      "2020-12-20 20:08:55,325 : INFO : PROGRESS: at sentence #1020000, processed 7355299 words, keeping 250860 word types\n",
      "2020-12-20 20:08:55,358 : INFO : PROGRESS: at sentence #1030000, processed 7426918 words, keeping 252366 word types\n",
      "2020-12-20 20:08:55,387 : INFO : PROGRESS: at sentence #1040000, processed 7498815 words, keeping 253930 word types\n",
      "2020-12-20 20:08:55,417 : INFO : PROGRESS: at sentence #1050000, processed 7570499 words, keeping 255471 word types\n",
      "2020-12-20 20:08:55,455 : INFO : PROGRESS: at sentence #1060000, processed 7643251 words, keeping 257035 word types\n",
      "2020-12-20 20:08:55,491 : INFO : PROGRESS: at sentence #1070000, processed 7714721 words, keeping 258509 word types\n",
      "2020-12-20 20:08:55,528 : INFO : PROGRESS: at sentence #1080000, processed 7787371 words, keeping 260071 word types\n",
      "2020-12-20 20:08:55,554 : INFO : PROGRESS: at sentence #1090000, processed 7859336 words, keeping 261683 word types\n",
      "2020-12-20 20:08:55,599 : INFO : PROGRESS: at sentence #1100000, processed 7932029 words, keeping 263278 word types\n",
      "2020-12-20 20:08:55,633 : INFO : PROGRESS: at sentence #1110000, processed 8004146 words, keeping 264800 word types\n",
      "2020-12-20 20:08:55,662 : INFO : PROGRESS: at sentence #1120000, processed 8075880 words, keeping 266309 word types\n",
      "2020-12-20 20:08:55,689 : INFO : PROGRESS: at sentence #1130000, processed 8148163 words, keeping 267826 word types\n",
      "2020-12-20 20:08:55,720 : INFO : PROGRESS: at sentence #1140000, processed 8220487 words, keeping 269391 word types\n",
      "2020-12-20 20:08:55,750 : INFO : PROGRESS: at sentence #1150000, processed 8292498 words, keeping 270894 word types\n",
      "2020-12-20 20:08:55,774 : INFO : PROGRESS: at sentence #1160000, processed 8363838 words, keeping 272400 word types\n",
      "2020-12-20 20:08:55,809 : INFO : PROGRESS: at sentence #1170000, processed 8435510 words, keeping 273970 word types\n",
      "2020-12-20 20:08:55,838 : INFO : PROGRESS: at sentence #1180000, processed 8507795 words, keeping 275521 word types\n",
      "2020-12-20 20:08:55,871 : INFO : PROGRESS: at sentence #1190000, processed 8579080 words, keeping 277007 word types\n",
      "2020-12-20 20:08:55,899 : INFO : PROGRESS: at sentence #1200000, processed 8650606 words, keeping 278457 word types\n",
      "2020-12-20 20:08:55,933 : INFO : PROGRESS: at sentence #1210000, processed 8721893 words, keeping 279959 word types\n",
      "2020-12-20 20:08:55,957 : INFO : PROGRESS: at sentence #1220000, processed 8793795 words, keeping 281427 word types\n",
      "2020-12-20 20:08:55,986 : INFO : PROGRESS: at sentence #1230000, processed 8865726 words, keeping 282981 word types\n",
      "2020-12-20 20:08:56,016 : INFO : PROGRESS: at sentence #1240000, processed 8938173 words, keeping 284542 word types\n",
      "2020-12-20 20:08:56,050 : INFO : PROGRESS: at sentence #1250000, processed 9010842 words, keeping 286064 word types\n",
      "2020-12-20 20:08:56,079 : INFO : PROGRESS: at sentence #1260000, processed 9083261 words, keeping 287521 word types\n",
      "2020-12-20 20:08:56,106 : INFO : PROGRESS: at sentence #1270000, processed 9155616 words, keeping 288987 word types\n",
      "2020-12-20 20:08:56,140 : INFO : collected 290418 word types from a corpus of 9227204 raw words and 1280000 sentences\n",
      "2020-12-20 20:08:56,142 : INFO : Loading a fresh vocabulary\n",
      "2020-12-20 20:08:56,375 : INFO : effective_min_count=10 retains 30369 unique words (10% of original 290418, drops 260049)\n",
      "2020-12-20 20:08:56,376 : INFO : effective_min_count=10 leaves 8780739 word corpus (95% of original 9227204, drops 446465)\n",
      "2020-12-20 20:08:56,527 : INFO : deleting the raw counts dictionary of 290418 items\n",
      "2020-12-20 20:08:56,537 : INFO : sample=0.001 downsamples 45 most-common words\n",
      "2020-12-20 20:08:56,538 : INFO : downsampling leaves estimated 8222658 word corpus (93.6% of prior 8780739)\n",
      "2020-12-20 20:08:56,665 : INFO : estimated required memory for 30369 words and 300 dimensions: 88070100 bytes\n",
      "2020-12-20 20:08:56,667 : INFO : resetting layer weights\n"
     ]
    }
   ],
   "source": [
    "w2v_model.build_vocab(documents)"
   ]
  },
  {
   "cell_type": "code",
   "execution_count": 25,
   "metadata": {},
   "outputs": [
    {
     "name": "stdout",
     "output_type": "stream",
     "text": [
      "Vocab size 30369\n"
     ]
    }
   ],
   "source": [
    "words = w2v_model.wv.vocab.keys()\n",
    "vocab_size = len(words)\n",
    "print(\"Vocab size\", vocab_size)"
   ]
  },
  {
   "cell_type": "code",
   "execution_count": 26,
   "metadata": {},
   "outputs": [
    {
     "name": "stderr",
     "output_type": "stream",
     "text": [
      "2020-12-20 20:08:57,290 : INFO : training model with 8 workers on 30369 vocabulary and 300 features, using sg=0 hs=0 sample=0.001 negative=5 window=7\n",
      "2020-12-20 20:08:58,317 : INFO : EPOCH 1 - PROGRESS: at 8.69% examples, 707626 words/s, in_qsize 16, out_qsize 0\n",
      "2020-12-20 20:08:59,320 : INFO : EPOCH 1 - PROGRESS: at 17.13% examples, 699980 words/s, in_qsize 15, out_qsize 0\n",
      "2020-12-20 20:09:00,344 : INFO : EPOCH 1 - PROGRESS: at 26.67% examples, 722283 words/s, in_qsize 14, out_qsize 1\n",
      "2020-12-20 20:09:01,349 : INFO : EPOCH 1 - PROGRESS: at 36.61% examples, 745465 words/s, in_qsize 14, out_qsize 1\n",
      "2020-12-20 20:09:02,351 : INFO : EPOCH 1 - PROGRESS: at 46.67% examples, 761638 words/s, in_qsize 16, out_qsize 0\n",
      "2020-12-20 20:09:03,355 : INFO : EPOCH 1 - PROGRESS: at 56.62% examples, 770905 words/s, in_qsize 14, out_qsize 1\n",
      "2020-12-20 20:09:04,390 : INFO : EPOCH 1 - PROGRESS: at 67.45% examples, 783940 words/s, in_qsize 15, out_qsize 3\n",
      "2020-12-20 20:09:05,397 : INFO : EPOCH 1 - PROGRESS: at 79.60% examples, 809640 words/s, in_qsize 15, out_qsize 0\n",
      "2020-12-20 20:09:06,424 : INFO : EPOCH 1 - PROGRESS: at 91.20% examples, 822938 words/s, in_qsize 15, out_qsize 0\n",
      "2020-12-20 20:09:07,119 : INFO : worker thread finished; awaiting finish of 7 more threads\n",
      "2020-12-20 20:09:07,124 : INFO : worker thread finished; awaiting finish of 6 more threads\n",
      "2020-12-20 20:09:07,137 : INFO : worker thread finished; awaiting finish of 5 more threads\n",
      "2020-12-20 20:09:07,142 : INFO : worker thread finished; awaiting finish of 4 more threads\n",
      "2020-12-20 20:09:07,145 : INFO : worker thread finished; awaiting finish of 3 more threads\n",
      "2020-12-20 20:09:07,147 : INFO : worker thread finished; awaiting finish of 2 more threads\n",
      "2020-12-20 20:09:07,149 : INFO : worker thread finished; awaiting finish of 1 more threads\n",
      "2020-12-20 20:09:07,157 : INFO : worker thread finished; awaiting finish of 0 more threads\n",
      "2020-12-20 20:09:07,158 : INFO : EPOCH - 1 : training on 9227204 raw words (8223131 effective words) took 9.8s, 835048 effective words/s\n",
      "2020-12-20 20:09:08,183 : INFO : EPOCH 2 - PROGRESS: at 10.42% examples, 844691 words/s, in_qsize 13, out_qsize 2\n",
      "2020-12-20 20:09:09,198 : INFO : EPOCH 2 - PROGRESS: at 22.11% examples, 896154 words/s, in_qsize 14, out_qsize 1\n",
      "2020-12-20 20:09:10,203 : INFO : EPOCH 2 - PROGRESS: at 32.95% examples, 892745 words/s, in_qsize 14, out_qsize 1\n",
      "2020-12-20 20:09:11,211 : INFO : EPOCH 2 - PROGRESS: at 45.26% examples, 921479 words/s, in_qsize 15, out_qsize 0\n",
      "2020-12-20 20:09:12,218 : INFO : EPOCH 2 - PROGRESS: at 55.97% examples, 912512 words/s, in_qsize 16, out_qsize 1\n",
      "2020-12-20 20:09:13,230 : INFO : EPOCH 2 - PROGRESS: at 67.99% examples, 923162 words/s, in_qsize 14, out_qsize 1\n",
      "2020-12-20 20:09:14,239 : INFO : EPOCH 2 - PROGRESS: at 77.96% examples, 907401 words/s, in_qsize 15, out_qsize 0\n",
      "2020-12-20 20:09:15,246 : INFO : EPOCH 2 - PROGRESS: at 88.26% examples, 899055 words/s, in_qsize 16, out_qsize 1\n",
      "2020-12-20 20:09:16,156 : INFO : worker thread finished; awaiting finish of 7 more threads\n",
      "2020-12-20 20:09:16,164 : INFO : worker thread finished; awaiting finish of 6 more threads\n",
      "2020-12-20 20:09:16,169 : INFO : worker thread finished; awaiting finish of 5 more threads\n",
      "2020-12-20 20:09:16,171 : INFO : worker thread finished; awaiting finish of 4 more threads\n",
      "2020-12-20 20:09:16,185 : INFO : worker thread finished; awaiting finish of 3 more threads\n",
      "2020-12-20 20:09:16,186 : INFO : worker thread finished; awaiting finish of 2 more threads\n",
      "2020-12-20 20:09:16,190 : INFO : worker thread finished; awaiting finish of 1 more threads\n",
      "2020-12-20 20:09:16,198 : INFO : worker thread finished; awaiting finish of 0 more threads\n",
      "2020-12-20 20:09:16,199 : INFO : EPOCH - 2 : training on 9227204 raw words (8222452 effective words) took 9.0s, 910697 effective words/s\n",
      "2020-12-20 20:09:17,232 : INFO : EPOCH 3 - PROGRESS: at 11.29% examples, 911682 words/s, in_qsize 13, out_qsize 2\n",
      "2020-12-20 20:09:18,239 : INFO : EPOCH 3 - PROGRESS: at 20.92% examples, 849301 words/s, in_qsize 15, out_qsize 0\n",
      "2020-12-20 20:09:19,264 : INFO : EPOCH 3 - PROGRESS: at 32.84% examples, 885330 words/s, in_qsize 15, out_qsize 0\n",
      "2020-12-20 20:09:20,280 : INFO : EPOCH 3 - PROGRESS: at 44.51% examples, 900670 words/s, in_qsize 15, out_qsize 0\n",
      "2020-12-20 20:09:21,304 : INFO : EPOCH 3 - PROGRESS: at 56.62% examples, 915792 words/s, in_qsize 15, out_qsize 0\n",
      "2020-12-20 20:09:22,308 : INFO : EPOCH 3 - PROGRESS: at 68.43% examples, 924105 words/s, in_qsize 16, out_qsize 0\n",
      "2020-12-20 20:09:23,325 : INFO : EPOCH 3 - PROGRESS: at 80.25% examples, 928372 words/s, in_qsize 15, out_qsize 0\n",
      "2020-12-20 20:09:24,332 : INFO : EPOCH 3 - PROGRESS: at 92.39% examples, 936098 words/s, in_qsize 15, out_qsize 0\n",
      "2020-12-20 20:09:24,889 : INFO : worker thread finished; awaiting finish of 7 more threads\n",
      "2020-12-20 20:09:24,896 : INFO : worker thread finished; awaiting finish of 6 more threads\n",
      "2020-12-20 20:09:24,900 : INFO : worker thread finished; awaiting finish of 5 more threads\n",
      "2020-12-20 20:09:24,914 : INFO : worker thread finished; awaiting finish of 4 more threads\n",
      "2020-12-20 20:09:24,920 : INFO : worker thread finished; awaiting finish of 3 more threads\n",
      "2020-12-20 20:09:24,924 : INFO : worker thread finished; awaiting finish of 2 more threads\n",
      "2020-12-20 20:09:24,934 : INFO : worker thread finished; awaiting finish of 1 more threads\n",
      "2020-12-20 20:09:24,939 : INFO : worker thread finished; awaiting finish of 0 more threads\n",
      "2020-12-20 20:09:24,941 : INFO : EPOCH - 3 : training on 9227204 raw words (8222626 effective words) took 8.7s, 942389 effective words/s\n",
      "2020-12-20 20:09:25,960 : INFO : EPOCH 4 - PROGRESS: at 10.64% examples, 868752 words/s, in_qsize 14, out_qsize 1\n",
      "2020-12-20 20:09:26,969 : INFO : EPOCH 4 - PROGRESS: at 21.35% examples, 871575 words/s, in_qsize 16, out_qsize 0\n",
      "2020-12-20 20:09:27,987 : INFO : EPOCH 4 - PROGRESS: at 33.17% examples, 899249 words/s, in_qsize 12, out_qsize 3\n",
      "2020-12-20 20:09:28,991 : INFO : EPOCH 4 - PROGRESS: at 45.05% examples, 918281 words/s, in_qsize 15, out_qsize 0\n",
      "2020-12-20 20:09:29,992 : INFO : EPOCH 4 - PROGRESS: at 56.08% examples, 916178 words/s, in_qsize 15, out_qsize 0\n",
      "2020-12-20 20:09:30,996 : INFO : EPOCH 4 - PROGRESS: at 67.88% examples, 924851 words/s, in_qsize 16, out_qsize 0\n",
      "2020-12-20 20:09:31,996 : INFO : EPOCH 4 - PROGRESS: at 79.59% examples, 930129 words/s, in_qsize 15, out_qsize 0\n",
      "2020-12-20 20:09:32,996 : INFO : EPOCH 4 - PROGRESS: at 91.85% examples, 939463 words/s, in_qsize 16, out_qsize 0\n",
      "2020-12-20 20:09:33,795 : INFO : worker thread finished; awaiting finish of 7 more threads\n",
      "2020-12-20 20:09:33,799 : INFO : worker thread finished; awaiting finish of 6 more threads\n",
      "2020-12-20 20:09:33,802 : INFO : worker thread finished; awaiting finish of 5 more threads\n",
      "2020-12-20 20:09:33,809 : INFO : worker thread finished; awaiting finish of 4 more threads\n",
      "2020-12-20 20:09:33,812 : INFO : worker thread finished; awaiting finish of 3 more threads\n",
      "2020-12-20 20:09:33,822 : INFO : worker thread finished; awaiting finish of 2 more threads\n",
      "2020-12-20 20:09:33,830 : INFO : worker thread finished; awaiting finish of 1 more threads\n",
      "2020-12-20 20:09:33,833 : INFO : worker thread finished; awaiting finish of 0 more threads\n",
      "2020-12-20 20:09:33,834 : INFO : EPOCH - 4 : training on 9227204 raw words (8223525 effective words) took 8.9s, 926195 effective words/s\n",
      "2020-12-20 20:09:34,858 : INFO : EPOCH 5 - PROGRESS: at 11.08% examples, 899377 words/s, in_qsize 15, out_qsize 0\n",
      "2020-12-20 20:09:35,870 : INFO : EPOCH 5 - PROGRESS: at 21.79% examples, 885709 words/s, in_qsize 14, out_qsize 1\n",
      "2020-12-20 20:09:36,877 : INFO : EPOCH 5 - PROGRESS: at 32.52% examples, 882163 words/s, in_qsize 15, out_qsize 0\n",
      "2020-12-20 20:09:37,900 : INFO : EPOCH 5 - PROGRESS: at 41.59% examples, 844089 words/s, in_qsize 13, out_qsize 2\n",
      "2020-12-20 20:09:38,916 : INFO : EPOCH 5 - PROGRESS: at 53.70% examples, 872001 words/s, in_qsize 15, out_qsize 0\n",
      "2020-12-20 20:09:39,922 : INFO : EPOCH 5 - PROGRESS: at 65.50% examples, 887338 words/s, in_qsize 15, out_qsize 0\n",
      "2020-12-20 20:09:40,922 : INFO : EPOCH 5 - PROGRESS: at 77.31% examples, 899060 words/s, in_qsize 13, out_qsize 2\n",
      "2020-12-20 20:09:41,923 : INFO : EPOCH 5 - PROGRESS: at 89.02% examples, 906773 words/s, in_qsize 16, out_qsize 0\n"
     ]
    },
    {
     "name": "stderr",
     "output_type": "stream",
     "text": [
      "2020-12-20 20:09:42,906 : INFO : worker thread finished; awaiting finish of 7 more threads\n",
      "2020-12-20 20:09:42,908 : INFO : worker thread finished; awaiting finish of 6 more threads\n",
      "2020-12-20 20:09:42,910 : INFO : worker thread finished; awaiting finish of 5 more threads\n",
      "2020-12-20 20:09:42,922 : INFO : worker thread finished; awaiting finish of 4 more threads\n",
      "2020-12-20 20:09:42,925 : INFO : EPOCH 5 - PROGRESS: at 99.67% examples, 902976 words/s, in_qsize 3, out_qsize 1\n",
      "2020-12-20 20:09:42,926 : INFO : worker thread finished; awaiting finish of 3 more threads\n",
      "2020-12-20 20:09:42,927 : INFO : worker thread finished; awaiting finish of 2 more threads\n",
      "2020-12-20 20:09:42,939 : INFO : worker thread finished; awaiting finish of 1 more threads\n",
      "2020-12-20 20:09:42,941 : INFO : worker thread finished; awaiting finish of 0 more threads\n",
      "2020-12-20 20:09:42,942 : INFO : EPOCH - 5 : training on 9227204 raw words (8222293 effective words) took 9.1s, 904192 effective words/s\n",
      "2020-12-20 20:09:43,968 : INFO : EPOCH 6 - PROGRESS: at 9.99% examples, 810045 words/s, in_qsize 15, out_qsize 0\n",
      "2020-12-20 20:09:44,972 : INFO : EPOCH 6 - PROGRESS: at 21.46% examples, 874503 words/s, in_qsize 14, out_qsize 1\n",
      "2020-12-20 20:09:45,981 : INFO : EPOCH 6 - PROGRESS: at 31.21% examples, 848171 words/s, in_qsize 13, out_qsize 2\n",
      "2020-12-20 20:09:46,990 : INFO : EPOCH 6 - PROGRESS: at 42.89% examples, 874354 words/s, in_qsize 15, out_qsize 0\n",
      "2020-12-20 20:09:48,016 : INFO : EPOCH 6 - PROGRESS: at 52.73% examples, 857242 words/s, in_qsize 13, out_qsize 2\n",
      "2020-12-20 20:09:49,022 : INFO : EPOCH 6 - PROGRESS: at 63.65% examples, 863516 words/s, in_qsize 14, out_qsize 1\n",
      "2020-12-20 20:09:50,026 : INFO : EPOCH 6 - PROGRESS: at 75.24% examples, 875655 words/s, in_qsize 15, out_qsize 0\n",
      "2020-12-20 20:09:51,039 : INFO : EPOCH 6 - PROGRESS: at 86.64% examples, 881608 words/s, in_qsize 14, out_qsize 1\n",
      "2020-12-20 20:09:52,039 : INFO : EPOCH 6 - PROGRESS: at 98.47% examples, 891301 words/s, in_qsize 15, out_qsize 0\n",
      "2020-12-20 20:09:52,101 : INFO : worker thread finished; awaiting finish of 7 more threads\n",
      "2020-12-20 20:09:52,112 : INFO : worker thread finished; awaiting finish of 6 more threads\n",
      "2020-12-20 20:09:52,114 : INFO : worker thread finished; awaiting finish of 5 more threads\n",
      "2020-12-20 20:09:52,118 : INFO : worker thread finished; awaiting finish of 4 more threads\n",
      "2020-12-20 20:09:52,135 : INFO : worker thread finished; awaiting finish of 3 more threads\n",
      "2020-12-20 20:09:52,138 : INFO : worker thread finished; awaiting finish of 2 more threads\n",
      "2020-12-20 20:09:52,146 : INFO : worker thread finished; awaiting finish of 1 more threads\n",
      "2020-12-20 20:09:52,150 : INFO : worker thread finished; awaiting finish of 0 more threads\n",
      "2020-12-20 20:09:52,151 : INFO : EPOCH - 6 : training on 9227204 raw words (8222172 effective words) took 9.2s, 894148 effective words/s\n",
      "2020-12-20 20:09:53,172 : INFO : EPOCH 7 - PROGRESS: at 10.97% examples, 895219 words/s, in_qsize 13, out_qsize 2\n",
      "2020-12-20 20:09:54,186 : INFO : EPOCH 7 - PROGRESS: at 20.05% examples, 816669 words/s, in_qsize 14, out_qsize 1\n",
      "2020-12-20 20:09:55,192 : INFO : EPOCH 7 - PROGRESS: at 26.56% examples, 721558 words/s, in_qsize 15, out_qsize 0\n",
      "2020-12-20 20:09:56,197 : INFO : EPOCH 7 - PROGRESS: at 34.68% examples, 707502 words/s, in_qsize 14, out_qsize 1\n",
      "2020-12-20 20:09:57,200 : INFO : EPOCH 7 - PROGRESS: at 46.57% examples, 761239 words/s, in_qsize 15, out_qsize 0\n",
      "2020-12-20 20:09:58,209 : INFO : EPOCH 7 - PROGRESS: at 57.71% examples, 786032 words/s, in_qsize 14, out_qsize 1\n",
      "2020-12-20 20:09:59,212 : INFO : EPOCH 7 - PROGRESS: at 69.72% examples, 814471 words/s, in_qsize 15, out_qsize 0\n",
      "2020-12-20 20:10:00,214 : INFO : EPOCH 7 - PROGRESS: at 81.34% examples, 831486 words/s, in_qsize 15, out_qsize 0\n",
      "2020-12-20 20:10:01,232 : INFO : EPOCH 7 - PROGRESS: at 93.48% examples, 848119 words/s, in_qsize 15, out_qsize 0\n",
      "2020-12-20 20:10:01,735 : INFO : worker thread finished; awaiting finish of 7 more threads\n",
      "2020-12-20 20:10:01,737 : INFO : worker thread finished; awaiting finish of 6 more threads\n",
      "2020-12-20 20:10:01,741 : INFO : worker thread finished; awaiting finish of 5 more threads\n",
      "2020-12-20 20:10:01,741 : INFO : worker thread finished; awaiting finish of 4 more threads\n",
      "2020-12-20 20:10:01,748 : INFO : worker thread finished; awaiting finish of 3 more threads\n",
      "2020-12-20 20:10:01,756 : INFO : worker thread finished; awaiting finish of 2 more threads\n",
      "2020-12-20 20:10:01,760 : INFO : worker thread finished; awaiting finish of 1 more threads\n",
      "2020-12-20 20:10:01,766 : INFO : worker thread finished; awaiting finish of 0 more threads\n",
      "2020-12-20 20:10:01,767 : INFO : EPOCH - 7 : training on 9227204 raw words (8223178 effective words) took 9.6s, 856560 effective words/s\n",
      "2020-12-20 20:10:02,799 : INFO : EPOCH 8 - PROGRESS: at 10.75% examples, 867434 words/s, in_qsize 16, out_qsize 0\n",
      "2020-12-20 20:10:03,801 : INFO : EPOCH 8 - PROGRESS: at 20.16% examples, 820388 words/s, in_qsize 15, out_qsize 0\n",
      "2020-12-20 20:10:04,807 : INFO : EPOCH 8 - PROGRESS: at 31.86% examples, 865910 words/s, in_qsize 15, out_qsize 0\n",
      "2020-12-20 20:10:05,812 : INFO : EPOCH 8 - PROGRESS: at 43.54% examples, 888703 words/s, in_qsize 13, out_qsize 2\n",
      "2020-12-20 20:10:06,815 : INFO : EPOCH 8 - PROGRESS: at 54.78% examples, 895708 words/s, in_qsize 14, out_qsize 1\n",
      "2020-12-20 20:10:07,833 : INFO : EPOCH 8 - PROGRESS: at 64.08% examples, 871687 words/s, in_qsize 14, out_qsize 1\n",
      "2020-12-20 20:10:08,888 : INFO : EPOCH 8 - PROGRESS: at 69.07% examples, 799836 words/s, in_qsize 15, out_qsize 0\n",
      "2020-12-20 20:10:09,918 : INFO : EPOCH 8 - PROGRESS: at 75.13% examples, 759954 words/s, in_qsize 14, out_qsize 1\n",
      "2020-12-20 20:10:10,920 : INFO : EPOCH 8 - PROGRESS: at 84.69% examples, 762452 words/s, in_qsize 16, out_qsize 0\n",
      "2020-12-20 20:10:11,927 : INFO : EPOCH 8 - PROGRESS: at 95.78% examples, 776229 words/s, in_qsize 14, out_qsize 1\n",
      "2020-12-20 20:10:12,212 : INFO : worker thread finished; awaiting finish of 7 more threads\n",
      "2020-12-20 20:10:12,218 : INFO : worker thread finished; awaiting finish of 6 more threads\n",
      "2020-12-20 20:10:12,222 : INFO : worker thread finished; awaiting finish of 5 more threads\n",
      "2020-12-20 20:10:12,224 : INFO : worker thread finished; awaiting finish of 4 more threads\n",
      "2020-12-20 20:10:12,235 : INFO : worker thread finished; awaiting finish of 3 more threads\n",
      "2020-12-20 20:10:12,241 : INFO : worker thread finished; awaiting finish of 2 more threads\n",
      "2020-12-20 20:10:12,245 : INFO : worker thread finished; awaiting finish of 1 more threads\n",
      "2020-12-20 20:10:12,259 : INFO : worker thread finished; awaiting finish of 0 more threads\n",
      "2020-12-20 20:10:12,261 : INFO : EPOCH - 8 : training on 9227204 raw words (8223789 effective words) took 10.5s, 784782 effective words/s\n",
      "2020-12-20 20:10:13,282 : INFO : EPOCH 9 - PROGRESS: at 10.21% examples, 833864 words/s, in_qsize 14, out_qsize 1\n",
      "2020-12-20 20:10:14,290 : INFO : EPOCH 9 - PROGRESS: at 19.51% examples, 796534 words/s, in_qsize 16, out_qsize 1\n",
      "2020-12-20 20:10:15,307 : INFO : EPOCH 9 - PROGRESS: at 29.27% examples, 793656 words/s, in_qsize 15, out_qsize 0\n",
      "2020-12-20 20:10:16,313 : INFO : EPOCH 9 - PROGRESS: at 40.51% examples, 825098 words/s, in_qsize 15, out_qsize 0\n",
      "2020-12-20 20:10:17,315 : INFO : EPOCH 9 - PROGRESS: at 49.05% examples, 800907 words/s, in_qsize 14, out_qsize 2\n",
      "2020-12-20 20:10:18,320 : INFO : EPOCH 9 - PROGRESS: at 59.44% examples, 809194 words/s, in_qsize 15, out_qsize 1\n",
      "2020-12-20 20:10:19,326 : INFO : EPOCH 9 - PROGRESS: at 70.16% examples, 818715 words/s, in_qsize 15, out_qsize 0\n",
      "2020-12-20 20:10:20,339 : INFO : EPOCH 9 - PROGRESS: at 81.12% examples, 827492 words/s, in_qsize 14, out_qsize 1\n",
      "2020-12-20 20:10:21,361 : INFO : EPOCH 9 - PROGRESS: at 92.39% examples, 836258 words/s, in_qsize 16, out_qsize 1\n",
      "2020-12-20 20:10:22,091 : INFO : worker thread finished; awaiting finish of 7 more threads\n",
      "2020-12-20 20:10:22,098 : INFO : worker thread finished; awaiting finish of 6 more threads\n",
      "2020-12-20 20:10:22,101 : INFO : worker thread finished; awaiting finish of 5 more threads\n",
      "2020-12-20 20:10:22,104 : INFO : worker thread finished; awaiting finish of 4 more threads\n",
      "2020-12-20 20:10:22,122 : INFO : worker thread finished; awaiting finish of 3 more threads\n"
     ]
    },
    {
     "name": "stderr",
     "output_type": "stream",
     "text": [
      "2020-12-20 20:10:22,124 : INFO : worker thread finished; awaiting finish of 2 more threads\n",
      "2020-12-20 20:10:22,133 : INFO : worker thread finished; awaiting finish of 1 more threads\n",
      "2020-12-20 20:10:22,135 : INFO : worker thread finished; awaiting finish of 0 more threads\n",
      "2020-12-20 20:10:22,136 : INFO : EPOCH - 9 : training on 9227204 raw words (8220932 effective words) took 9.9s, 833882 effective words/s\n",
      "2020-12-20 20:10:23,162 : INFO : EPOCH 10 - PROGRESS: at 9.88% examples, 802022 words/s, in_qsize 15, out_qsize 0\n",
      "2020-12-20 20:10:24,171 : INFO : EPOCH 10 - PROGRESS: at 21.90% examples, 890661 words/s, in_qsize 14, out_qsize 1\n",
      "2020-12-20 20:10:25,172 : INFO : EPOCH 10 - PROGRESS: at 33.48% examples, 911130 words/s, in_qsize 15, out_qsize 0\n",
      "2020-12-20 20:10:26,188 : INFO : EPOCH 10 - PROGRESS: at 45.48% examples, 926616 words/s, in_qsize 15, out_qsize 0\n",
      "2020-12-20 20:10:27,199 : INFO : EPOCH 10 - PROGRESS: at 57.60% examples, 938825 words/s, in_qsize 14, out_qsize 1\n",
      "2020-12-20 20:10:28,203 : INFO : EPOCH 10 - PROGRESS: at 69.72% examples, 948071 words/s, in_qsize 15, out_qsize 0\n",
      "2020-12-20 20:10:29,207 : INFO : EPOCH 10 - PROGRESS: at 81.23% examples, 946932 words/s, in_qsize 15, out_qsize 0\n",
      "2020-12-20 20:10:30,213 : INFO : EPOCH 10 - PROGRESS: at 93.16% examples, 950167 words/s, in_qsize 15, out_qsize 2\n",
      "2020-12-20 20:10:30,828 : INFO : worker thread finished; awaiting finish of 7 more threads\n",
      "2020-12-20 20:10:30,851 : INFO : worker thread finished; awaiting finish of 6 more threads\n",
      "2020-12-20 20:10:30,853 : INFO : worker thread finished; awaiting finish of 5 more threads\n",
      "2020-12-20 20:10:30,858 : INFO : worker thread finished; awaiting finish of 4 more threads\n",
      "2020-12-20 20:10:30,864 : INFO : worker thread finished; awaiting finish of 3 more threads\n",
      "2020-12-20 20:10:30,877 : INFO : worker thread finished; awaiting finish of 2 more threads\n",
      "2020-12-20 20:10:30,879 : INFO : worker thread finished; awaiting finish of 1 more threads\n",
      "2020-12-20 20:10:30,885 : INFO : worker thread finished; awaiting finish of 0 more threads\n",
      "2020-12-20 20:10:30,886 : INFO : EPOCH - 10 : training on 9227204 raw words (8223034 effective words) took 8.7s, 941369 effective words/s\n",
      "2020-12-20 20:10:31,904 : INFO : EPOCH 11 - PROGRESS: at 10.21% examples, 834794 words/s, in_qsize 15, out_qsize 0\n",
      "2020-12-20 20:10:32,917 : INFO : EPOCH 11 - PROGRESS: at 20.81% examples, 848435 words/s, in_qsize 14, out_qsize 1\n",
      "2020-12-20 20:10:33,920 : INFO : EPOCH 11 - PROGRESS: at 30.78% examples, 837885 words/s, in_qsize 14, out_qsize 1\n",
      "2020-12-20 20:10:34,937 : INFO : EPOCH 11 - PROGRESS: at 41.48% examples, 845380 words/s, in_qsize 15, out_qsize 0\n",
      "2020-12-20 20:10:35,960 : INFO : EPOCH 11 - PROGRESS: at 51.64% examples, 839983 words/s, in_qsize 14, out_qsize 1\n",
      "2020-12-20 20:10:36,965 : INFO : EPOCH 11 - PROGRESS: at 61.28% examples, 831575 words/s, in_qsize 14, out_qsize 1\n",
      "2020-12-20 20:10:37,966 : INFO : EPOCH 11 - PROGRESS: at 71.56% examples, 833631 words/s, in_qsize 15, out_qsize 0\n",
      "2020-12-20 20:10:38,967 : INFO : EPOCH 11 - PROGRESS: at 82.21% examples, 838312 words/s, in_qsize 15, out_qsize 0\n",
      "2020-12-20 20:10:39,967 : INFO : EPOCH 11 - PROGRESS: at 93.26% examples, 845983 words/s, in_qsize 15, out_qsize 0\n",
      "2020-12-20 20:10:40,467 : INFO : worker thread finished; awaiting finish of 7 more threads\n",
      "2020-12-20 20:10:40,469 : INFO : worker thread finished; awaiting finish of 6 more threads\n",
      "2020-12-20 20:10:40,472 : INFO : worker thread finished; awaiting finish of 5 more threads\n",
      "2020-12-20 20:10:40,484 : INFO : worker thread finished; awaiting finish of 4 more threads\n",
      "2020-12-20 20:10:40,490 : INFO : worker thread finished; awaiting finish of 3 more threads\n",
      "2020-12-20 20:10:40,493 : INFO : worker thread finished; awaiting finish of 2 more threads\n",
      "2020-12-20 20:10:40,497 : INFO : worker thread finished; awaiting finish of 1 more threads\n",
      "2020-12-20 20:10:40,501 : INFO : worker thread finished; awaiting finish of 0 more threads\n",
      "2020-12-20 20:10:40,502 : INFO : EPOCH - 11 : training on 9227204 raw words (8223252 effective words) took 9.6s, 856490 effective words/s\n",
      "2020-12-20 20:10:41,544 : INFO : EPOCH 12 - PROGRESS: at 9.99% examples, 797734 words/s, in_qsize 14, out_qsize 1\n",
      "2020-12-20 20:10:42,559 : INFO : EPOCH 12 - PROGRESS: at 21.68% examples, 872249 words/s, in_qsize 15, out_qsize 0\n",
      "2020-12-20 20:10:43,587 : INFO : EPOCH 12 - PROGRESS: at 33.16% examples, 888069 words/s, in_qsize 14, out_qsize 1\n",
      "2020-12-20 20:10:44,600 : INFO : EPOCH 12 - PROGRESS: at 44.83% examples, 903274 words/s, in_qsize 15, out_qsize 0\n",
      "2020-12-20 20:10:45,615 : INFO : EPOCH 12 - PROGRESS: at 56.18% examples, 906935 words/s, in_qsize 14, out_qsize 1\n",
      "2020-12-20 20:10:46,623 : INFO : EPOCH 12 - PROGRESS: at 67.88% examples, 914688 words/s, in_qsize 15, out_qsize 0\n",
      "2020-12-20 20:10:47,652 : INFO : EPOCH 12 - PROGRESS: at 79.60% examples, 917760 words/s, in_qsize 14, out_qsize 1\n",
      "2020-12-20 20:10:48,666 : INFO : EPOCH 12 - PROGRESS: at 91.74% examples, 925844 words/s, in_qsize 14, out_qsize 1\n",
      "2020-12-20 20:10:49,313 : INFO : worker thread finished; awaiting finish of 7 more threads\n",
      "2020-12-20 20:10:49,317 : INFO : worker thread finished; awaiting finish of 6 more threads\n",
      "2020-12-20 20:10:49,319 : INFO : worker thread finished; awaiting finish of 5 more threads\n",
      "2020-12-20 20:10:49,320 : INFO : worker thread finished; awaiting finish of 4 more threads\n",
      "2020-12-20 20:10:49,321 : INFO : worker thread finished; awaiting finish of 3 more threads\n",
      "2020-12-20 20:10:49,329 : INFO : worker thread finished; awaiting finish of 2 more threads\n",
      "2020-12-20 20:10:49,337 : INFO : worker thread finished; awaiting finish of 1 more threads\n",
      "2020-12-20 20:10:49,338 : INFO : worker thread finished; awaiting finish of 0 more threads\n",
      "2020-12-20 20:10:49,339 : INFO : EPOCH - 12 : training on 9227204 raw words (8222443 effective words) took 8.8s, 932029 effective words/s\n",
      "2020-12-20 20:10:50,357 : INFO : EPOCH 13 - PROGRESS: at 11.40% examples, 931981 words/s, in_qsize 15, out_qsize 0\n",
      "2020-12-20 20:10:51,365 : INFO : EPOCH 13 - PROGRESS: at 22.87% examples, 934324 words/s, in_qsize 13, out_qsize 2\n",
      "2020-12-20 20:10:52,365 : INFO : EPOCH 13 - PROGRESS: at 34.78% examples, 949300 words/s, in_qsize 15, out_qsize 0\n",
      "2020-12-20 20:10:53,369 : INFO : EPOCH 13 - PROGRESS: at 46.67% examples, 956041 words/s, in_qsize 15, out_qsize 0\n",
      "2020-12-20 20:10:54,386 : INFO : EPOCH 13 - PROGRESS: at 59.44% examples, 971905 words/s, in_qsize 14, out_qsize 1\n",
      "2020-12-20 20:10:55,390 : INFO : EPOCH 13 - PROGRESS: at 71.24% examples, 971086 words/s, in_qsize 15, out_qsize 0\n",
      "2020-12-20 20:10:56,391 : INFO : EPOCH 13 - PROGRESS: at 82.20% examples, 960638 words/s, in_qsize 14, out_qsize 1\n",
      "2020-12-20 20:10:57,396 : INFO : EPOCH 13 - PROGRESS: at 94.25% examples, 963624 words/s, in_qsize 14, out_qsize 1\n",
      "2020-12-20 20:10:57,827 : INFO : worker thread finished; awaiting finish of 7 more threads\n",
      "2020-12-20 20:10:57,838 : INFO : worker thread finished; awaiting finish of 6 more threads\n",
      "2020-12-20 20:10:57,842 : INFO : worker thread finished; awaiting finish of 5 more threads\n",
      "2020-12-20 20:10:57,846 : INFO : worker thread finished; awaiting finish of 4 more threads\n",
      "2020-12-20 20:10:57,850 : INFO : worker thread finished; awaiting finish of 3 more threads\n",
      "2020-12-20 20:10:57,853 : INFO : worker thread finished; awaiting finish of 2 more threads\n",
      "2020-12-20 20:10:57,864 : INFO : worker thread finished; awaiting finish of 1 more threads\n",
      "2020-12-20 20:10:57,869 : INFO : worker thread finished; awaiting finish of 0 more threads\n",
      "2020-12-20 20:10:57,870 : INFO : EPOCH - 13 : training on 9227204 raw words (8223079 effective words) took 8.5s, 965459 effective words/s\n",
      "2020-12-20 20:10:58,886 : INFO : EPOCH 14 - PROGRESS: at 9.77% examples, 801301 words/s, in_qsize 15, out_qsize 0\n",
      "2020-12-20 20:10:59,890 : INFO : EPOCH 14 - PROGRESS: at 19.94% examples, 817473 words/s, in_qsize 15, out_qsize 0\n",
      "2020-12-20 20:11:00,901 : INFO : EPOCH 14 - PROGRESS: at 31.32% examples, 853424 words/s, in_qsize 14, out_qsize 1\n",
      "2020-12-20 20:11:01,903 : INFO : EPOCH 14 - PROGRESS: at 43.75% examples, 895749 words/s, in_qsize 15, out_qsize 0\n",
      "2020-12-20 20:11:02,903 : INFO : EPOCH 14 - PROGRESS: at 53.92% examples, 884017 words/s, in_qsize 15, out_qsize 0\n"
     ]
    },
    {
     "name": "stderr",
     "output_type": "stream",
     "text": [
      "2020-12-20 20:11:03,911 : INFO : EPOCH 14 - PROGRESS: at 64.30% examples, 878020 words/s, in_qsize 14, out_qsize 1\n",
      "2020-12-20 20:11:04,923 : INFO : EPOCH 14 - PROGRESS: at 77.53% examples, 906124 words/s, in_qsize 14, out_qsize 1\n",
      "2020-12-20 20:11:05,933 : INFO : EPOCH 14 - PROGRESS: at 89.34% examples, 913045 words/s, in_qsize 13, out_qsize 2\n",
      "2020-12-20 20:11:06,715 : INFO : worker thread finished; awaiting finish of 7 more threads\n",
      "2020-12-20 20:11:06,717 : INFO : worker thread finished; awaiting finish of 6 more threads\n",
      "2020-12-20 20:11:06,721 : INFO : worker thread finished; awaiting finish of 5 more threads\n",
      "2020-12-20 20:11:06,727 : INFO : worker thread finished; awaiting finish of 4 more threads\n",
      "2020-12-20 20:11:06,729 : INFO : worker thread finished; awaiting finish of 3 more threads\n",
      "2020-12-20 20:11:06,748 : INFO : worker thread finished; awaiting finish of 2 more threads\n",
      "2020-12-20 20:11:06,749 : INFO : worker thread finished; awaiting finish of 1 more threads\n",
      "2020-12-20 20:11:06,755 : INFO : worker thread finished; awaiting finish of 0 more threads\n",
      "2020-12-20 20:11:06,756 : INFO : EPOCH - 14 : training on 9227204 raw words (8222110 effective words) took 8.9s, 926898 effective words/s\n",
      "2020-12-20 20:11:07,780 : INFO : EPOCH 15 - PROGRESS: at 12.06% examples, 980156 words/s, in_qsize 15, out_qsize 0\n",
      "2020-12-20 20:11:08,788 : INFO : EPOCH 15 - PROGRESS: at 23.41% examples, 953845 words/s, in_qsize 14, out_qsize 1\n",
      "2020-12-20 20:11:09,788 : INFO : EPOCH 15 - PROGRESS: at 35.43% examples, 965240 words/s, in_qsize 15, out_qsize 0\n",
      "2020-12-20 20:11:10,796 : INFO : EPOCH 15 - PROGRESS: at 47.86% examples, 978285 words/s, in_qsize 15, out_qsize 0\n",
      "2020-12-20 20:11:11,797 : INFO : EPOCH 15 - PROGRESS: at 59.55% examples, 974805 words/s, in_qsize 14, out_qsize 1\n",
      "2020-12-20 20:11:12,807 : INFO : EPOCH 15 - PROGRESS: at 71.45% examples, 974029 words/s, in_qsize 15, out_qsize 0\n",
      "2020-12-20 20:11:13,818 : INFO : EPOCH 15 - PROGRESS: at 83.72% examples, 977232 words/s, in_qsize 14, out_qsize 1\n",
      "2020-12-20 20:11:14,830 : INFO : EPOCH 15 - PROGRESS: at 93.92% examples, 958259 words/s, in_qsize 14, out_qsize 1\n",
      "2020-12-20 20:11:15,362 : INFO : worker thread finished; awaiting finish of 7 more threads\n",
      "2020-12-20 20:11:15,370 : INFO : worker thread finished; awaiting finish of 6 more threads\n",
      "2020-12-20 20:11:15,371 : INFO : worker thread finished; awaiting finish of 5 more threads\n",
      "2020-12-20 20:11:15,375 : INFO : worker thread finished; awaiting finish of 4 more threads\n",
      "2020-12-20 20:11:15,384 : INFO : worker thread finished; awaiting finish of 3 more threads\n",
      "2020-12-20 20:11:15,391 : INFO : worker thread finished; awaiting finish of 2 more threads\n",
      "2020-12-20 20:11:15,405 : INFO : worker thread finished; awaiting finish of 1 more threads\n",
      "2020-12-20 20:11:15,406 : INFO : worker thread finished; awaiting finish of 0 more threads\n",
      "2020-12-20 20:11:15,407 : INFO : EPOCH - 15 : training on 9227204 raw words (8222383 effective words) took 8.6s, 952052 effective words/s\n",
      "2020-12-20 20:11:16,435 : INFO : EPOCH 16 - PROGRESS: at 10.42% examples, 845909 words/s, in_qsize 14, out_qsize 1\n",
      "2020-12-20 20:11:17,436 : INFO : EPOCH 16 - PROGRESS: at 21.79% examples, 889637 words/s, in_qsize 15, out_qsize 0\n",
      "2020-12-20 20:11:18,461 : INFO : EPOCH 16 - PROGRESS: at 34.89% examples, 944445 words/s, in_qsize 15, out_qsize 0\n",
      "2020-12-20 20:11:19,470 : INFO : EPOCH 16 - PROGRESS: at 47.65% examples, 968767 words/s, in_qsize 16, out_qsize 0\n",
      "2020-12-20 20:11:20,480 : INFO : EPOCH 16 - PROGRESS: at 59.77% examples, 972677 words/s, in_qsize 14, out_qsize 1\n",
      "2020-12-20 20:11:21,482 : INFO : EPOCH 16 - PROGRESS: at 71.56% examples, 971965 words/s, in_qsize 14, out_qsize 1\n",
      "2020-12-20 20:11:22,482 : INFO : EPOCH 16 - PROGRESS: at 83.62% examples, 974265 words/s, in_qsize 13, out_qsize 2\n",
      "2020-12-20 20:11:23,491 : INFO : EPOCH 16 - PROGRESS: at 95.99% examples, 978332 words/s, in_qsize 15, out_qsize 0\n",
      "2020-12-20 20:11:23,782 : INFO : worker thread finished; awaiting finish of 7 more threads\n",
      "2020-12-20 20:11:23,788 : INFO : worker thread finished; awaiting finish of 6 more threads\n",
      "2020-12-20 20:11:23,791 : INFO : worker thread finished; awaiting finish of 5 more threads\n",
      "2020-12-20 20:11:23,793 : INFO : worker thread finished; awaiting finish of 4 more threads\n",
      "2020-12-20 20:11:23,793 : INFO : worker thread finished; awaiting finish of 3 more threads\n",
      "2020-12-20 20:11:23,805 : INFO : worker thread finished; awaiting finish of 2 more threads\n",
      "2020-12-20 20:11:23,820 : INFO : worker thread finished; awaiting finish of 1 more threads\n",
      "2020-12-20 20:11:23,821 : INFO : worker thread finished; awaiting finish of 0 more threads\n",
      "2020-12-20 20:11:23,822 : INFO : EPOCH - 16 : training on 9227204 raw words (8222374 effective words) took 8.4s, 979103 effective words/s\n",
      "2020-12-20 20:11:24,838 : INFO : EPOCH 17 - PROGRESS: at 11.51% examples, 942950 words/s, in_qsize 15, out_qsize 0\n",
      "2020-12-20 20:11:25,847 : INFO : EPOCH 17 - PROGRESS: at 23.52% examples, 961287 words/s, in_qsize 14, out_qsize 1\n",
      "2020-12-20 20:11:26,856 : INFO : EPOCH 17 - PROGRESS: at 34.89% examples, 950115 words/s, in_qsize 16, out_qsize 1\n",
      "2020-12-20 20:11:27,883 : INFO : EPOCH 17 - PROGRESS: at 45.81% examples, 931386 words/s, in_qsize 15, out_qsize 0\n",
      "2020-12-20 20:11:28,896 : INFO : EPOCH 17 - PROGRESS: at 57.48% examples, 935019 words/s, in_qsize 15, out_qsize 0\n",
      "2020-12-20 20:11:29,902 : INFO : EPOCH 17 - PROGRESS: at 69.72% examples, 945973 words/s, in_qsize 15, out_qsize 0\n",
      "2020-12-20 20:11:30,921 : INFO : EPOCH 17 - PROGRESS: at 81.45% examples, 945599 words/s, in_qsize 16, out_qsize 1\n",
      "2020-12-20 20:11:31,930 : INFO : EPOCH 17 - PROGRESS: at 92.72% examples, 942099 words/s, in_qsize 14, out_qsize 1\n",
      "2020-12-20 20:11:32,474 : INFO : worker thread finished; awaiting finish of 7 more threads\n",
      "2020-12-20 20:11:32,478 : INFO : worker thread finished; awaiting finish of 6 more threads\n",
      "2020-12-20 20:11:32,482 : INFO : worker thread finished; awaiting finish of 5 more threads\n",
      "2020-12-20 20:11:32,484 : INFO : worker thread finished; awaiting finish of 4 more threads\n",
      "2020-12-20 20:11:32,486 : INFO : worker thread finished; awaiting finish of 3 more threads\n",
      "2020-12-20 20:11:32,495 : INFO : worker thread finished; awaiting finish of 2 more threads\n",
      "2020-12-20 20:11:32,503 : INFO : worker thread finished; awaiting finish of 1 more threads\n",
      "2020-12-20 20:11:32,508 : INFO : worker thread finished; awaiting finish of 0 more threads\n",
      "2020-12-20 20:11:32,509 : INFO : EPOCH - 17 : training on 9227204 raw words (8223023 effective words) took 8.7s, 948222 effective words/s\n",
      "2020-12-20 20:11:33,530 : INFO : EPOCH 18 - PROGRESS: at 11.08% examples, 903011 words/s, in_qsize 15, out_qsize 0\n",
      "2020-12-20 20:11:34,542 : INFO : EPOCH 18 - PROGRESS: at 23.63% examples, 962212 words/s, in_qsize 15, out_qsize 0\n",
      "2020-12-20 20:11:35,548 : INFO : EPOCH 18 - PROGRESS: at 35.54% examples, 965953 words/s, in_qsize 12, out_qsize 3\n",
      "2020-12-20 20:11:36,559 : INFO : EPOCH 18 - PROGRESS: at 48.51% examples, 989108 words/s, in_qsize 15, out_qsize 0\n",
      "2020-12-20 20:11:37,562 : INFO : EPOCH 18 - PROGRESS: at 61.28% examples, 1000826 words/s, in_qsize 14, out_qsize 1\n",
      "2020-12-20 20:11:38,575 : INFO : EPOCH 18 - PROGRESS: at 73.41% examples, 998036 words/s, in_qsize 14, out_qsize 1\n",
      "2020-12-20 20:11:39,581 : INFO : EPOCH 18 - PROGRESS: at 85.77% examples, 999721 words/s, in_qsize 15, out_qsize 0\n",
      "2020-12-20 20:11:40,594 : INFO : EPOCH 18 - PROGRESS: at 97.93% examples, 997778 words/s, in_qsize 15, out_qsize 0\n",
      "2020-12-20 20:11:40,706 : INFO : worker thread finished; awaiting finish of 7 more threads\n",
      "2020-12-20 20:11:40,718 : INFO : worker thread finished; awaiting finish of 6 more threads\n",
      "2020-12-20 20:11:40,721 : INFO : worker thread finished; awaiting finish of 5 more threads\n",
      "2020-12-20 20:11:40,723 : INFO : worker thread finished; awaiting finish of 4 more threads\n",
      "2020-12-20 20:11:40,743 : INFO : worker thread finished; awaiting finish of 3 more threads\n",
      "2020-12-20 20:11:40,751 : INFO : worker thread finished; awaiting finish of 2 more threads\n",
      "2020-12-20 20:11:40,756 : INFO : worker thread finished; awaiting finish of 1 more threads\n",
      "2020-12-20 20:11:40,758 : INFO : worker thread finished; awaiting finish of 0 more threads\n"
     ]
    },
    {
     "name": "stderr",
     "output_type": "stream",
     "text": [
      "2020-12-20 20:11:40,758 : INFO : EPOCH - 18 : training on 9227204 raw words (8222444 effective words) took 8.2s, 998640 effective words/s\n",
      "2020-12-20 20:11:41,774 : INFO : EPOCH 19 - PROGRESS: at 12.06% examples, 986336 words/s, in_qsize 16, out_qsize 0\n",
      "2020-12-20 20:11:42,776 : INFO : EPOCH 19 - PROGRESS: at 25.04% examples, 1026498 words/s, in_qsize 14, out_qsize 1\n",
      "2020-12-20 20:11:43,779 : INFO : EPOCH 19 - PROGRESS: at 37.59% examples, 1028014 words/s, in_qsize 15, out_qsize 1\n",
      "2020-12-20 20:11:44,789 : INFO : EPOCH 19 - PROGRESS: at 50.24% examples, 1029105 words/s, in_qsize 13, out_qsize 2\n",
      "2020-12-20 20:11:45,804 : INFO : EPOCH 19 - PROGRESS: at 62.58% examples, 1023317 words/s, in_qsize 15, out_qsize 0\n",
      "2020-12-20 20:11:46,824 : INFO : EPOCH 19 - PROGRESS: at 74.92% examples, 1018646 words/s, in_qsize 14, out_qsize 1\n",
      "2020-12-20 20:11:47,835 : INFO : EPOCH 19 - PROGRESS: at 84.91% examples, 988908 words/s, in_qsize 15, out_qsize 0\n",
      "2020-12-20 20:11:48,838 : INFO : EPOCH 19 - PROGRESS: at 96.85% examples, 987286 words/s, in_qsize 13, out_qsize 2\n",
      "2020-12-20 20:11:49,033 : INFO : worker thread finished; awaiting finish of 7 more threads\n",
      "2020-12-20 20:11:49,035 : INFO : worker thread finished; awaiting finish of 6 more threads\n",
      "2020-12-20 20:11:49,039 : INFO : worker thread finished; awaiting finish of 5 more threads\n",
      "2020-12-20 20:11:49,046 : INFO : worker thread finished; awaiting finish of 4 more threads\n",
      "2020-12-20 20:11:49,050 : INFO : worker thread finished; awaiting finish of 3 more threads\n",
      "2020-12-20 20:11:49,053 : INFO : worker thread finished; awaiting finish of 2 more threads\n",
      "2020-12-20 20:11:49,062 : INFO : worker thread finished; awaiting finish of 1 more threads\n",
      "2020-12-20 20:11:49,067 : INFO : worker thread finished; awaiting finish of 0 more threads\n",
      "2020-12-20 20:11:49,068 : INFO : EPOCH - 19 : training on 9227204 raw words (8223092 effective words) took 8.3s, 991122 effective words/s\n",
      "2020-12-20 20:11:50,084 : INFO : EPOCH 20 - PROGRESS: at 11.19% examples, 916881 words/s, in_qsize 16, out_qsize 1\n",
      "2020-12-20 20:11:51,087 : INFO : EPOCH 20 - PROGRESS: at 23.20% examples, 950990 words/s, in_qsize 15, out_qsize 0\n",
      "2020-12-20 20:11:52,106 : INFO : EPOCH 20 - PROGRESS: at 35.64% examples, 969302 words/s, in_qsize 15, out_qsize 2\n",
      "2020-12-20 20:11:53,109 : INFO : EPOCH 20 - PROGRESS: at 48.19% examples, 984590 words/s, in_qsize 14, out_qsize 1\n",
      "2020-12-20 20:11:54,119 : INFO : EPOCH 20 - PROGRESS: at 61.17% examples, 999533 words/s, in_qsize 15, out_qsize 0\n",
      "2020-12-20 20:11:55,144 : INFO : EPOCH 20 - PROGRESS: at 73.19% examples, 993486 words/s, in_qsize 15, out_qsize 0\n",
      "2020-12-20 20:11:56,155 : INFO : EPOCH 20 - PROGRESS: at 83.29% examples, 968603 words/s, in_qsize 15, out_qsize 0\n",
      "2020-12-20 20:11:57,170 : INFO : EPOCH 20 - PROGRESS: at 95.34% examples, 969300 words/s, in_qsize 16, out_qsize 0\n",
      "2020-12-20 20:11:57,517 : INFO : worker thread finished; awaiting finish of 7 more threads\n",
      "2020-12-20 20:11:57,521 : INFO : worker thread finished; awaiting finish of 6 more threads\n",
      "2020-12-20 20:11:57,525 : INFO : worker thread finished; awaiting finish of 5 more threads\n",
      "2020-12-20 20:11:57,529 : INFO : worker thread finished; awaiting finish of 4 more threads\n",
      "2020-12-20 20:11:57,532 : INFO : worker thread finished; awaiting finish of 3 more threads\n",
      "2020-12-20 20:11:57,539 : INFO : worker thread finished; awaiting finish of 2 more threads\n",
      "2020-12-20 20:11:57,550 : INFO : worker thread finished; awaiting finish of 1 more threads\n",
      "2020-12-20 20:11:57,558 : INFO : worker thread finished; awaiting finish of 0 more threads\n",
      "2020-12-20 20:11:57,559 : INFO : EPOCH - 20 : training on 9227204 raw words (8222797 effective words) took 8.5s, 970050 effective words/s\n",
      "2020-12-20 20:11:58,577 : INFO : EPOCH 21 - PROGRESS: at 10.86% examples, 888755 words/s, in_qsize 15, out_qsize 0\n",
      "2020-12-20 20:11:59,587 : INFO : EPOCH 21 - PROGRESS: at 22.33% examples, 911441 words/s, in_qsize 16, out_qsize 0\n",
      "2020-12-20 20:12:00,613 : INFO : EPOCH 21 - PROGRESS: at 33.16% examples, 896937 words/s, in_qsize 14, out_qsize 1\n",
      "2020-12-20 20:12:01,615 : INFO : EPOCH 21 - PROGRESS: at 45.27% examples, 921723 words/s, in_qsize 15, out_qsize 0\n",
      "2020-12-20 20:12:02,625 : INFO : EPOCH 21 - PROGRESS: at 57.92% examples, 943834 words/s, in_qsize 15, out_qsize 0\n",
      "2020-12-20 20:12:03,673 : INFO : EPOCH 21 - PROGRESS: at 70.37% examples, 949373 words/s, in_qsize 15, out_qsize 1\n",
      "2020-12-20 20:12:04,677 : INFO : EPOCH 21 - PROGRESS: at 82.85% examples, 959539 words/s, in_qsize 15, out_qsize 0\n",
      "2020-12-20 20:12:05,695 : INFO : EPOCH 21 - PROGRESS: at 94.91% examples, 960881 words/s, in_qsize 15, out_qsize 0\n",
      "2020-12-20 20:12:06,029 : INFO : worker thread finished; awaiting finish of 7 more threads\n",
      "2020-12-20 20:12:06,041 : INFO : worker thread finished; awaiting finish of 6 more threads\n",
      "2020-12-20 20:12:06,042 : INFO : worker thread finished; awaiting finish of 5 more threads\n",
      "2020-12-20 20:12:06,043 : INFO : worker thread finished; awaiting finish of 4 more threads\n",
      "2020-12-20 20:12:06,046 : INFO : worker thread finished; awaiting finish of 3 more threads\n",
      "2020-12-20 20:12:06,067 : INFO : worker thread finished; awaiting finish of 2 more threads\n",
      "2020-12-20 20:12:06,068 : INFO : worker thread finished; awaiting finish of 1 more threads\n",
      "2020-12-20 20:12:06,073 : INFO : worker thread finished; awaiting finish of 0 more threads\n",
      "2020-12-20 20:12:06,074 : INFO : EPOCH - 21 : training on 9227204 raw words (8222082 effective words) took 8.5s, 967357 effective words/s\n",
      "2020-12-20 20:12:07,098 : INFO : EPOCH 22 - PROGRESS: at 12.17% examples, 988106 words/s, in_qsize 14, out_qsize 1\n",
      "2020-12-20 20:12:08,111 : INFO : EPOCH 22 - PROGRESS: at 24.94% examples, 1012624 words/s, in_qsize 16, out_qsize 1\n",
      "2020-12-20 20:12:09,117 : INFO : EPOCH 22 - PROGRESS: at 37.37% examples, 1014920 words/s, in_qsize 15, out_qsize 0\n",
      "2020-12-20 20:12:10,130 : INFO : EPOCH 22 - PROGRESS: at 50.35% examples, 1024851 words/s, in_qsize 14, out_qsize 1\n",
      "2020-12-20 20:12:11,144 : INFO : EPOCH 22 - PROGRESS: at 63.33% examples, 1030691 words/s, in_qsize 15, out_qsize 0\n",
      "2020-12-20 20:12:12,161 : INFO : EPOCH 22 - PROGRESS: at 75.89% examples, 1028369 words/s, in_qsize 14, out_qsize 1\n",
      "2020-12-20 20:12:13,163 : INFO : EPOCH 22 - PROGRESS: at 88.91% examples, 1033705 words/s, in_qsize 15, out_qsize 0\n",
      "2020-12-20 20:12:13,967 : INFO : worker thread finished; awaiting finish of 7 more threads\n",
      "2020-12-20 20:12:13,973 : INFO : worker thread finished; awaiting finish of 6 more threads\n",
      "2020-12-20 20:12:13,977 : INFO : worker thread finished; awaiting finish of 5 more threads\n",
      "2020-12-20 20:12:13,979 : INFO : worker thread finished; awaiting finish of 4 more threads\n",
      "2020-12-20 20:12:13,982 : INFO : worker thread finished; awaiting finish of 3 more threads\n",
      "2020-12-20 20:12:13,988 : INFO : worker thread finished; awaiting finish of 2 more threads\n",
      "2020-12-20 20:12:14,001 : INFO : worker thread finished; awaiting finish of 1 more threads\n",
      "2020-12-20 20:12:14,003 : INFO : worker thread finished; awaiting finish of 0 more threads\n",
      "2020-12-20 20:12:14,004 : INFO : EPOCH - 22 : training on 9227204 raw words (8221320 effective words) took 7.9s, 1038719 effective words/s\n",
      "2020-12-20 20:12:15,023 : INFO : EPOCH 23 - PROGRESS: at 12.39% examples, 1010469 words/s, in_qsize 14, out_qsize 1\n",
      "2020-12-20 20:12:16,042 : INFO : EPOCH 23 - PROGRESS: at 25.26% examples, 1025425 words/s, in_qsize 15, out_qsize 0\n",
      "2020-12-20 20:12:17,047 : INFO : EPOCH 23 - PROGRESS: at 38.14% examples, 1034999 words/s, in_qsize 15, out_qsize 0\n",
      "2020-12-20 20:12:18,061 : INFO : EPOCH 23 - PROGRESS: at 50.78% examples, 1033373 words/s, in_qsize 14, out_qsize 1\n",
      "2020-12-20 20:12:19,086 : INFO : EPOCH 23 - PROGRESS: at 63.87% examples, 1037046 words/s, in_qsize 14, out_qsize 1\n",
      "2020-12-20 20:12:20,100 : INFO : EPOCH 23 - PROGRESS: at 76.33% examples, 1032467 words/s, in_qsize 15, out_qsize 0\n",
      "2020-12-20 20:12:21,107 : INFO : EPOCH 23 - PROGRESS: at 88.91% examples, 1031603 words/s, in_qsize 16, out_qsize 2\n",
      "2020-12-20 20:12:21,914 : INFO : worker thread finished; awaiting finish of 7 more threads\n",
      "2020-12-20 20:12:21,917 : INFO : worker thread finished; awaiting finish of 6 more threads\n",
      "2020-12-20 20:12:21,919 : INFO : worker thread finished; awaiting finish of 5 more threads\n"
     ]
    },
    {
     "name": "stderr",
     "output_type": "stream",
     "text": [
      "2020-12-20 20:12:21,919 : INFO : worker thread finished; awaiting finish of 4 more threads\n",
      "2020-12-20 20:12:21,921 : INFO : worker thread finished; awaiting finish of 3 more threads\n",
      "2020-12-20 20:12:21,932 : INFO : worker thread finished; awaiting finish of 2 more threads\n",
      "2020-12-20 20:12:21,940 : INFO : worker thread finished; awaiting finish of 1 more threads\n",
      "2020-12-20 20:12:21,943 : INFO : worker thread finished; awaiting finish of 0 more threads\n",
      "2020-12-20 20:12:21,944 : INFO : EPOCH - 23 : training on 9227204 raw words (8222399 effective words) took 7.9s, 1037239 effective words/s\n",
      "2020-12-20 20:12:22,962 : INFO : EPOCH 24 - PROGRESS: at 12.49% examples, 1021750 words/s, in_qsize 15, out_qsize 0\n",
      "2020-12-20 20:12:23,965 : INFO : EPOCH 24 - PROGRESS: at 24.94% examples, 1021245 words/s, in_qsize 15, out_qsize 0\n",
      "2020-12-20 20:12:24,983 : INFO : EPOCH 24 - PROGRESS: at 37.92% examples, 1030784 words/s, in_qsize 14, out_qsize 1\n",
      "2020-12-20 20:12:25,999 : INFO : EPOCH 24 - PROGRESS: at 50.78% examples, 1034092 words/s, in_qsize 14, out_qsize 1\n",
      "2020-12-20 20:12:26,999 : INFO : EPOCH 24 - PROGRESS: at 63.64% examples, 1039153 words/s, in_qsize 15, out_qsize 0\n",
      "2020-12-20 20:12:28,022 : INFO : EPOCH 24 - PROGRESS: at 76.55% examples, 1038604 words/s, in_qsize 14, out_qsize 1\n",
      "2020-12-20 20:12:29,035 : INFO : EPOCH 24 - PROGRESS: at 89.67% examples, 1042116 words/s, in_qsize 15, out_qsize 0\n",
      "2020-12-20 20:12:29,858 : INFO : worker thread finished; awaiting finish of 7 more threads\n",
      "2020-12-20 20:12:29,861 : INFO : worker thread finished; awaiting finish of 6 more threads\n",
      "2020-12-20 20:12:29,866 : INFO : worker thread finished; awaiting finish of 5 more threads\n",
      "2020-12-20 20:12:29,867 : INFO : worker thread finished; awaiting finish of 4 more threads\n",
      "2020-12-20 20:12:29,873 : INFO : worker thread finished; awaiting finish of 3 more threads\n",
      "2020-12-20 20:12:29,880 : INFO : worker thread finished; awaiting finish of 2 more threads\n",
      "2020-12-20 20:12:29,885 : INFO : worker thread finished; awaiting finish of 1 more threads\n",
      "2020-12-20 20:12:29,889 : INFO : worker thread finished; awaiting finish of 0 more threads\n",
      "2020-12-20 20:12:29,890 : INFO : EPOCH - 24 : training on 9227204 raw words (8222521 effective words) took 7.9s, 1036673 effective words/s\n",
      "2020-12-20 20:12:30,914 : INFO : EPOCH 25 - PROGRESS: at 11.41% examples, 925556 words/s, in_qsize 13, out_qsize 2\n",
      "2020-12-20 20:12:31,917 : INFO : EPOCH 25 - PROGRESS: at 24.17% examples, 987077 words/s, in_qsize 14, out_qsize 1\n",
      "2020-12-20 20:12:32,930 : INFO : EPOCH 25 - PROGRESS: at 37.16% examples, 1009465 words/s, in_qsize 13, out_qsize 2\n",
      "2020-12-20 20:12:33,942 : INFO : EPOCH 25 - PROGRESS: at 50.02% examples, 1019100 words/s, in_qsize 15, out_qsize 0\n",
      "2020-12-20 20:12:34,957 : INFO : EPOCH 25 - PROGRESS: at 63.11% examples, 1027995 words/s, in_qsize 15, out_qsize 0\n",
      "2020-12-20 20:12:35,959 : INFO : EPOCH 25 - PROGRESS: at 75.67% examples, 1028378 words/s, in_qsize 15, out_qsize 0\n",
      "2020-12-20 20:12:36,969 : INFO : EPOCH 25 - PROGRESS: at 88.48% examples, 1030136 words/s, in_qsize 15, out_qsize 0\n",
      "2020-12-20 20:12:37,803 : INFO : worker thread finished; awaiting finish of 7 more threads\n",
      "2020-12-20 20:12:37,805 : INFO : worker thread finished; awaiting finish of 6 more threads\n",
      "2020-12-20 20:12:37,806 : INFO : worker thread finished; awaiting finish of 5 more threads\n",
      "2020-12-20 20:12:37,812 : INFO : worker thread finished; awaiting finish of 4 more threads\n",
      "2020-12-20 20:12:37,822 : INFO : worker thread finished; awaiting finish of 3 more threads\n",
      "2020-12-20 20:12:37,827 : INFO : worker thread finished; awaiting finish of 2 more threads\n",
      "2020-12-20 20:12:37,831 : INFO : worker thread finished; awaiting finish of 1 more threads\n",
      "2020-12-20 20:12:37,833 : INFO : worker thread finished; awaiting finish of 0 more threads\n",
      "2020-12-20 20:12:37,833 : INFO : EPOCH - 25 : training on 9227204 raw words (8222980 effective words) took 7.9s, 1036988 effective words/s\n",
      "2020-12-20 20:12:38,857 : INFO : EPOCH 26 - PROGRESS: at 12.39% examples, 1007542 words/s, in_qsize 16, out_qsize 1\n",
      "2020-12-20 20:12:39,869 : INFO : EPOCH 26 - PROGRESS: at 25.37% examples, 1031510 words/s, in_qsize 15, out_qsize 0\n",
      "2020-12-20 20:12:40,882 : INFO : EPOCH 26 - PROGRESS: at 37.81% examples, 1024970 words/s, in_qsize 15, out_qsize 0\n",
      "2020-12-20 20:12:41,903 : INFO : EPOCH 26 - PROGRESS: at 50.67% examples, 1028323 words/s, in_qsize 13, out_qsize 2\n",
      "2020-12-20 20:12:42,909 : INFO : EPOCH 26 - PROGRESS: at 63.32% examples, 1030029 words/s, in_qsize 15, out_qsize 0\n",
      "2020-12-20 20:12:43,940 : INFO : EPOCH 26 - PROGRESS: at 76.33% examples, 1031143 words/s, in_qsize 14, out_qsize 1\n",
      "2020-12-20 20:12:44,948 : INFO : EPOCH 26 - PROGRESS: at 89.45% examples, 1036457 words/s, in_qsize 15, out_qsize 0\n",
      "2020-12-20 20:12:45,691 : INFO : worker thread finished; awaiting finish of 7 more threads\n",
      "2020-12-20 20:12:45,703 : INFO : worker thread finished; awaiting finish of 6 more threads\n",
      "2020-12-20 20:12:45,709 : INFO : worker thread finished; awaiting finish of 5 more threads\n",
      "2020-12-20 20:12:45,711 : INFO : worker thread finished; awaiting finish of 4 more threads\n",
      "2020-12-20 20:12:45,717 : INFO : worker thread finished; awaiting finish of 3 more threads\n",
      "2020-12-20 20:12:45,726 : INFO : worker thread finished; awaiting finish of 2 more threads\n",
      "2020-12-20 20:12:45,727 : INFO : worker thread finished; awaiting finish of 1 more threads\n",
      "2020-12-20 20:12:45,735 : INFO : worker thread finished; awaiting finish of 0 more threads\n",
      "2020-12-20 20:12:45,736 : INFO : EPOCH - 26 : training on 9227204 raw words (8222623 effective words) took 7.9s, 1042550 effective words/s\n",
      "2020-12-20 20:12:46,756 : INFO : EPOCH 27 - PROGRESS: at 12.49% examples, 1018811 words/s, in_qsize 15, out_qsize 0\n",
      "2020-12-20 20:12:47,756 : INFO : EPOCH 27 - PROGRESS: at 24.94% examples, 1021099 words/s, in_qsize 13, out_qsize 2\n",
      "2020-12-20 20:12:48,779 : INFO : EPOCH 27 - PROGRESS: at 38.02% examples, 1032546 words/s, in_qsize 15, out_qsize 0\n",
      "2020-12-20 20:12:49,787 : INFO : EPOCH 27 - PROGRESS: at 50.57% examples, 1030642 words/s, in_qsize 16, out_qsize 0\n",
      "2020-12-20 20:12:50,789 : INFO : EPOCH 27 - PROGRESS: at 63.11% examples, 1030937 words/s, in_qsize 15, out_qsize 0\n",
      "2020-12-20 20:12:51,793 : INFO : EPOCH 27 - PROGRESS: at 75.57% examples, 1029155 words/s, in_qsize 12, out_qsize 3\n",
      "2020-12-20 20:12:52,809 : INFO : EPOCH 27 - PROGRESS: at 88.81% examples, 1035032 words/s, in_qsize 14, out_qsize 1\n",
      "2020-12-20 20:12:53,602 : INFO : worker thread finished; awaiting finish of 7 more threads\n",
      "2020-12-20 20:12:53,606 : INFO : worker thread finished; awaiting finish of 6 more threads\n",
      "2020-12-20 20:12:53,609 : INFO : worker thread finished; awaiting finish of 5 more threads\n",
      "2020-12-20 20:12:53,616 : INFO : worker thread finished; awaiting finish of 4 more threads\n",
      "2020-12-20 20:12:53,624 : INFO : worker thread finished; awaiting finish of 3 more threads\n",
      "2020-12-20 20:12:53,628 : INFO : worker thread finished; awaiting finish of 2 more threads\n",
      "2020-12-20 20:12:53,630 : INFO : worker thread finished; awaiting finish of 1 more threads\n",
      "2020-12-20 20:12:53,636 : INFO : worker thread finished; awaiting finish of 0 more threads\n",
      "2020-12-20 20:12:53,637 : INFO : EPOCH - 27 : training on 9227204 raw words (8223620 effective words) took 7.9s, 1042691 effective words/s\n",
      "2020-12-20 20:12:54,671 : INFO : EPOCH 28 - PROGRESS: at 12.39% examples, 997258 words/s, in_qsize 16, out_qsize 0\n",
      "2020-12-20 20:12:55,672 : INFO : EPOCH 28 - PROGRESS: at 24.83% examples, 1010214 words/s, in_qsize 15, out_qsize 0\n",
      "2020-12-20 20:12:56,684 : INFO : EPOCH 28 - PROGRESS: at 37.37% examples, 1013547 words/s, in_qsize 15, out_qsize 0\n",
      "2020-12-20 20:12:57,685 : INFO : EPOCH 28 - PROGRESS: at 50.35% examples, 1027303 words/s, in_qsize 15, out_qsize 0\n",
      "2020-12-20 20:12:58,699 : INFO : EPOCH 28 - PROGRESS: at 63.11% examples, 1029340 words/s, in_qsize 15, out_qsize 0\n",
      "2020-12-20 20:12:59,705 : INFO : EPOCH 28 - PROGRESS: at 75.67% examples, 1028853 words/s, in_qsize 16, out_qsize 0\n",
      "2020-12-20 20:13:00,708 : INFO : EPOCH 28 - PROGRESS: at 88.37% examples, 1030460 words/s, in_qsize 16, out_qsize 0\n",
      "2020-12-20 20:13:01,595 : INFO : worker thread finished; awaiting finish of 7 more threads\n"
     ]
    },
    {
     "name": "stderr",
     "output_type": "stream",
     "text": [
      "2020-12-20 20:13:01,601 : INFO : worker thread finished; awaiting finish of 6 more threads\n",
      "2020-12-20 20:13:01,605 : INFO : worker thread finished; awaiting finish of 5 more threads\n",
      "2020-12-20 20:13:01,607 : INFO : worker thread finished; awaiting finish of 4 more threads\n",
      "2020-12-20 20:13:01,612 : INFO : worker thread finished; awaiting finish of 3 more threads\n",
      "2020-12-20 20:13:01,628 : INFO : worker thread finished; awaiting finish of 2 more threads\n",
      "2020-12-20 20:13:01,633 : INFO : worker thread finished; awaiting finish of 1 more threads\n",
      "2020-12-20 20:13:01,638 : INFO : worker thread finished; awaiting finish of 0 more threads\n",
      "2020-12-20 20:13:01,639 : INFO : EPOCH - 28 : training on 9227204 raw words (8223369 effective words) took 8.0s, 1029655 effective words/s\n",
      "2020-12-20 20:13:02,661 : INFO : EPOCH 29 - PROGRESS: at 12.06% examples, 982289 words/s, in_qsize 14, out_qsize 1\n",
      "2020-12-20 20:13:03,668 : INFO : EPOCH 29 - PROGRESS: at 24.61% examples, 1004428 words/s, in_qsize 15, out_qsize 0\n",
      "2020-12-20 20:13:04,700 : INFO : EPOCH 29 - PROGRESS: at 37.81% examples, 1021112 words/s, in_qsize 15, out_qsize 0\n",
      "2020-12-20 20:13:05,717 : INFO : EPOCH 29 - PROGRESS: at 50.67% examples, 1026399 words/s, in_qsize 15, out_qsize 0\n",
      "2020-12-20 20:13:06,735 : INFO : EPOCH 29 - PROGRESS: at 63.43% examples, 1027891 words/s, in_qsize 15, out_qsize 0\n",
      "2020-12-20 20:13:07,743 : INFO : EPOCH 29 - PROGRESS: at 75.89% examples, 1025757 words/s, in_qsize 16, out_qsize 1\n",
      "2020-12-20 20:13:08,749 : INFO : EPOCH 29 - PROGRESS: at 89.23% examples, 1034666 words/s, in_qsize 14, out_qsize 1\n",
      "2020-12-20 20:13:09,548 : INFO : worker thread finished; awaiting finish of 7 more threads\n",
      "2020-12-20 20:13:09,555 : INFO : worker thread finished; awaiting finish of 6 more threads\n",
      "2020-12-20 20:13:09,558 : INFO : worker thread finished; awaiting finish of 5 more threads\n",
      "2020-12-20 20:13:09,559 : INFO : worker thread finished; awaiting finish of 4 more threads\n",
      "2020-12-20 20:13:09,560 : INFO : worker thread finished; awaiting finish of 3 more threads\n",
      "2020-12-20 20:13:09,571 : INFO : worker thread finished; awaiting finish of 2 more threads\n",
      "2020-12-20 20:13:09,575 : INFO : worker thread finished; awaiting finish of 1 more threads\n",
      "2020-12-20 20:13:09,580 : INFO : worker thread finished; awaiting finish of 0 more threads\n",
      "2020-12-20 20:13:09,581 : INFO : EPOCH - 29 : training on 9227204 raw words (8223527 effective words) took 7.9s, 1037506 effective words/s\n",
      "2020-12-20 20:13:10,595 : INFO : EPOCH 30 - PROGRESS: at 12.39% examples, 1014827 words/s, in_qsize 16, out_qsize 0\n",
      "2020-12-20 20:13:11,608 : INFO : EPOCH 30 - PROGRESS: at 24.72% examples, 1008502 words/s, in_qsize 15, out_qsize 0\n",
      "2020-12-20 20:13:12,613 : INFO : EPOCH 30 - PROGRESS: at 37.81% examples, 1030039 words/s, in_qsize 15, out_qsize 0\n",
      "2020-12-20 20:13:13,617 : INFO : EPOCH 30 - PROGRESS: at 50.35% examples, 1029811 words/s, in_qsize 15, out_qsize 0\n",
      "2020-12-20 20:13:14,637 : INFO : EPOCH 30 - PROGRESS: at 63.43% examples, 1035401 words/s, in_qsize 13, out_qsize 2\n",
      "2020-12-20 20:13:15,647 : INFO : EPOCH 30 - PROGRESS: at 76.33% examples, 1037850 words/s, in_qsize 13, out_qsize 2\n",
      "2020-12-20 20:13:16,661 : INFO : EPOCH 30 - PROGRESS: at 89.34% examples, 1040119 words/s, in_qsize 14, out_qsize 1\n",
      "2020-12-20 20:13:17,406 : INFO : worker thread finished; awaiting finish of 7 more threads\n",
      "2020-12-20 20:13:17,422 : INFO : worker thread finished; awaiting finish of 6 more threads\n",
      "2020-12-20 20:13:17,424 : INFO : worker thread finished; awaiting finish of 5 more threads\n",
      "2020-12-20 20:13:17,427 : INFO : worker thread finished; awaiting finish of 4 more threads\n",
      "2020-12-20 20:13:17,429 : INFO : worker thread finished; awaiting finish of 3 more threads\n",
      "2020-12-20 20:13:17,436 : INFO : worker thread finished; awaiting finish of 2 more threads\n",
      "2020-12-20 20:13:17,441 : INFO : worker thread finished; awaiting finish of 1 more threads\n",
      "2020-12-20 20:13:17,451 : INFO : worker thread finished; awaiting finish of 0 more threads\n",
      "2020-12-20 20:13:17,452 : INFO : EPOCH - 30 : training on 9227204 raw words (8222955 effective words) took 7.9s, 1046616 effective words/s\n",
      "2020-12-20 20:13:18,472 : INFO : EPOCH 31 - PROGRESS: at 12.17% examples, 991916 words/s, in_qsize 13, out_qsize 2\n",
      "2020-12-20 20:13:19,478 : INFO : EPOCH 31 - PROGRESS: at 25.15% examples, 1026975 words/s, in_qsize 15, out_qsize 0\n",
      "2020-12-20 20:13:20,486 : INFO : EPOCH 31 - PROGRESS: at 38.14% examples, 1038321 words/s, in_qsize 14, out_qsize 1\n",
      "2020-12-20 20:13:21,501 : INFO : EPOCH 31 - PROGRESS: at 50.89% examples, 1037759 words/s, in_qsize 14, out_qsize 1\n",
      "2020-12-20 20:13:22,514 : INFO : EPOCH 31 - PROGRESS: at 63.87% examples, 1041055 words/s, in_qsize 13, out_qsize 2\n",
      "2020-12-20 20:13:23,518 : INFO : EPOCH 31 - PROGRESS: at 76.66% examples, 1042125 words/s, in_qsize 15, out_qsize 0\n",
      "2020-12-20 20:13:24,520 : INFO : EPOCH 31 - PROGRESS: at 89.56% examples, 1044404 words/s, in_qsize 14, out_qsize 1\n",
      "2020-12-20 20:13:25,267 : INFO : worker thread finished; awaiting finish of 7 more threads\n",
      "2020-12-20 20:13:25,270 : INFO : worker thread finished; awaiting finish of 6 more threads\n",
      "2020-12-20 20:13:25,273 : INFO : worker thread finished; awaiting finish of 5 more threads\n",
      "2020-12-20 20:13:25,281 : INFO : worker thread finished; awaiting finish of 4 more threads\n",
      "2020-12-20 20:13:25,287 : INFO : worker thread finished; awaiting finish of 3 more threads\n",
      "2020-12-20 20:13:25,289 : INFO : worker thread finished; awaiting finish of 2 more threads\n",
      "2020-12-20 20:13:25,297 : INFO : worker thread finished; awaiting finish of 1 more threads\n",
      "2020-12-20 20:13:25,300 : INFO : worker thread finished; awaiting finish of 0 more threads\n",
      "2020-12-20 20:13:25,301 : INFO : EPOCH - 31 : training on 9227204 raw words (8222112 effective words) took 7.8s, 1049472 effective words/s\n",
      "2020-12-20 20:13:26,318 : INFO : EPOCH 32 - PROGRESS: at 12.60% examples, 1029367 words/s, in_qsize 14, out_qsize 1\n",
      "2020-12-20 20:13:27,336 : INFO : EPOCH 32 - PROGRESS: at 24.94% examples, 1013294 words/s, in_qsize 15, out_qsize 0\n",
      "2020-12-20 20:13:28,343 : INFO : EPOCH 32 - PROGRESS: at 37.37% examples, 1014755 words/s, in_qsize 14, out_qsize 1\n",
      "2020-12-20 20:13:29,345 : INFO : EPOCH 32 - PROGRESS: at 50.13% examples, 1023365 words/s, in_qsize 15, out_qsize 0\n",
      "2020-12-20 20:13:30,351 : INFO : EPOCH 32 - PROGRESS: at 62.90% examples, 1027562 words/s, in_qsize 14, out_qsize 1\n",
      "2020-12-20 20:13:31,367 : INFO : EPOCH 32 - PROGRESS: at 75.78% examples, 1030335 words/s, in_qsize 15, out_qsize 0\n",
      "2020-12-20 20:13:32,383 : INFO : EPOCH 32 - PROGRESS: at 88.16% examples, 1025791 words/s, in_qsize 16, out_qsize 0\n",
      "2020-12-20 20:13:33,233 : INFO : worker thread finished; awaiting finish of 7 more threads\n",
      "2020-12-20 20:13:33,247 : INFO : worker thread finished; awaiting finish of 6 more threads\n",
      "2020-12-20 20:13:33,249 : INFO : worker thread finished; awaiting finish of 5 more threads\n",
      "2020-12-20 20:13:33,261 : INFO : worker thread finished; awaiting finish of 4 more threads\n",
      "2020-12-20 20:13:33,263 : INFO : worker thread finished; awaiting finish of 3 more threads\n",
      "2020-12-20 20:13:33,270 : INFO : worker thread finished; awaiting finish of 2 more threads\n",
      "2020-12-20 20:13:33,275 : INFO : worker thread finished; awaiting finish of 1 more threads\n",
      "2020-12-20 20:13:33,277 : INFO : worker thread finished; awaiting finish of 0 more threads\n",
      "2020-12-20 20:13:33,278 : INFO : EPOCH - 32 : training on 9227204 raw words (8222117 effective words) took 8.0s, 1032606 effective words/s\n",
      "2020-12-20 20:13:33,278 : INFO : training on a 295270528 raw words (263125754 effective words) took 276.0s, 953402 effective words/s\n"
     ]
    },
    {
     "name": "stdout",
     "output_type": "stream",
     "text": [
      "Wall time: 4min 35s\n"
     ]
    },
    {
     "data": {
      "text/plain": [
       "(263125754, 295270528)"
      ]
     },
     "execution_count": 26,
     "metadata": {},
     "output_type": "execute_result"
    }
   ],
   "source": [
    "%%time\n",
    "w2v_model.train(documents, total_examples=len(documents), epochs=W2V_EPOCH)"
   ]
  },
  {
   "cell_type": "code",
   "execution_count": 27,
   "metadata": {},
   "outputs": [
    {
     "name": "stderr",
     "output_type": "stream",
     "text": [
      "C:\\Users\\adity\\Anaconda3\\lib\\site-packages\\ipykernel_launcher.py:1: DeprecationWarning: Call to deprecated `most_similar` (Method will be removed in 4.0.0, use self.wv.most_similar() instead).\n",
      "  \"\"\"Entry point for launching an IPython kernel.\n",
      "2020-12-20 20:13:33,288 : INFO : precomputing L2-norms of word weight vectors\n"
     ]
    },
    {
     "data": {
      "text/plain": [
       "[('luv', 0.5760317444801331),\n",
       " ('loves', 0.5526248216629028),\n",
       " ('loved', 0.5433290004730225),\n",
       " ('adore', 0.5357129573822021),\n",
       " ('amazing', 0.4979192912578583),\n",
       " ('looove', 0.4843333959579468),\n",
       " ('awesome', 0.47363802790641785),\n",
       " ('loveee', 0.4496980309486389),\n",
       " ('lovee', 0.44459018111228943),\n",
       " ('loooove', 0.43962717056274414)]"
      ]
     },
     "execution_count": 27,
     "metadata": {},
     "output_type": "execute_result"
    }
   ],
   "source": [
    "w2v_model.most_similar(\"love\")"
   ]
  },
  {
   "cell_type": "code",
   "execution_count": 28,
   "metadata": {},
   "outputs": [],
   "source": [
    "# Tokenize Text"
   ]
  },
  {
   "cell_type": "code",
   "execution_count": 29,
   "metadata": {},
   "outputs": [
    {
     "name": "stdout",
     "output_type": "stream",
     "text": [
      "Total words 290419\n",
      "Wall time: 16 s\n"
     ]
    }
   ],
   "source": [
    "%%time\n",
    "tokenizer = Tokenizer()\n",
    "tokenizer.fit_on_texts(df_train.text)\n",
    "\n",
    "vocab_size = len(tokenizer.word_index) + 1\n",
    "print(\"Total words\", vocab_size)"
   ]
  },
  {
   "cell_type": "code",
   "execution_count": 30,
   "metadata": {},
   "outputs": [
    {
     "name": "stdout",
     "output_type": "stream",
     "text": [
      "Wall time: 26.8 s\n"
     ]
    }
   ],
   "source": [
    "%%time\n",
    "x_train = pad_sequences(tokenizer.texts_to_sequences(df_train.text), maxlen=SEQUENCE_LENGTH)\n",
    "x_test = pad_sequences(tokenizer.texts_to_sequences(df_test.text), maxlen=SEQUENCE_LENGTH)"
   ]
  },
  {
   "cell_type": "code",
   "execution_count": 31,
   "metadata": {},
   "outputs": [],
   "source": [
    "# Label Encoder"
   ]
  },
  {
   "cell_type": "code",
   "execution_count": 32,
   "metadata": {},
   "outputs": [
    {
     "data": {
      "text/plain": [
       "['POSITIVE', 'NEGATIVE', 'NEUTRAL']"
      ]
     },
     "execution_count": 32,
     "metadata": {},
     "output_type": "execute_result"
    }
   ],
   "source": [
    "labels = df_train.target.unique().tolist()\n",
    "labels.append(NEUTRAL)\n",
    "labels"
   ]
  },
  {
   "cell_type": "code",
   "execution_count": 33,
   "metadata": {},
   "outputs": [
    {
     "name": "stdout",
     "output_type": "stream",
     "text": [
      "y_train (1280000, 1)\n",
      "y_test (320000, 1)\n"
     ]
    }
   ],
   "source": [
    "encoder = LabelEncoder()\n",
    "encoder.fit(df_train.target.tolist())\n",
    "\n",
    "y_train = encoder.transform(df_train.target.tolist())\n",
    "y_test = encoder.transform(df_test.target.tolist())\n",
    "\n",
    "y_train = y_train.reshape(-1,1)\n",
    "y_test = y_test.reshape(-1,1)\n",
    "\n",
    "print(\"y_train\",y_train.shape)\n",
    "print(\"y_test\",y_test.shape)"
   ]
  },
  {
   "cell_type": "code",
   "execution_count": 34,
   "metadata": {},
   "outputs": [
    {
     "name": "stdout",
     "output_type": "stream",
     "text": [
      "x_train (1280000, 300)\n",
      "y_train (1280000, 1)\n",
      "\n",
      "x_test (320000, 300)\n",
      "y_test (320000, 1)\n"
     ]
    }
   ],
   "source": [
    "print(\"x_train\", x_train.shape)\n",
    "print(\"y_train\", y_train.shape)\n",
    "print()\n",
    "print(\"x_test\", x_test.shape)\n",
    "print(\"y_test\", y_test.shape)"
   ]
  },
  {
   "cell_type": "code",
   "execution_count": 35,
   "metadata": {},
   "outputs": [
    {
     "data": {
      "text/plain": [
       "array([[1],\n",
       "       [1],\n",
       "       [1],\n",
       "       [0],\n",
       "       [1],\n",
       "       [1],\n",
       "       [1],\n",
       "       [1],\n",
       "       [1],\n",
       "       [1]], dtype=int64)"
      ]
     },
     "execution_count": 35,
     "metadata": {},
     "output_type": "execute_result"
    }
   ],
   "source": [
    "y_train[:10]"
   ]
  },
  {
   "cell_type": "code",
   "execution_count": 36,
   "metadata": {},
   "outputs": [],
   "source": [
    "# Embedding layer"
   ]
  },
  {
   "cell_type": "code",
   "execution_count": 37,
   "metadata": {},
   "outputs": [
    {
     "name": "stdout",
     "output_type": "stream",
     "text": [
      "(290419, 300)\n"
     ]
    }
   ],
   "source": [
    "embedding_matrix = np.zeros((vocab_size, W2V_SIZE))\n",
    "for word, i in tokenizer.word_index.items():\n",
    "  if word in w2v_model.wv:\n",
    "    embedding_matrix[i] = w2v_model.wv[word]\n",
    "print(embedding_matrix.shape)"
   ]
  },
  {
   "cell_type": "code",
   "execution_count": 38,
   "metadata": {},
   "outputs": [],
   "source": [
    "embedding_layer = Embedding(vocab_size, W2V_SIZE, weights=[embedding_matrix], input_length=SEQUENCE_LENGTH, trainable=False)"
   ]
  },
  {
   "cell_type": "code",
   "execution_count": 39,
   "metadata": {},
   "outputs": [],
   "source": [
    "# Bulding model"
   ]
  },
  {
   "cell_type": "code",
   "execution_count": 40,
   "metadata": {},
   "outputs": [
    {
     "name": "stdout",
     "output_type": "stream",
     "text": [
      "Model: \"sequential\"\n",
      "_________________________________________________________________\n",
      "Layer (type)                 Output Shape              Param #   \n",
      "=================================================================\n",
      "embedding (Embedding)        (None, 300, 300)          87125700  \n",
      "_________________________________________________________________\n",
      "dropout (Dropout)            (None, 300, 300)          0         \n",
      "_________________________________________________________________\n",
      "lstm (LSTM)                  (None, 100)               160400    \n",
      "_________________________________________________________________\n",
      "dense (Dense)                (None, 1)                 101       \n",
      "=================================================================\n",
      "Total params: 87,286,201\n",
      "Trainable params: 160,501\n",
      "Non-trainable params: 87,125,700\n",
      "_________________________________________________________________\n"
     ]
    }
   ],
   "source": [
    "model = Sequential()\n",
    "model.add(embedding_layer)\n",
    "model.add(Dropout(0.5))\n",
    "model.add(LSTM(100, dropout=0.2, recurrent_dropout=0.2))\n",
    "model.add(Dense(1, activation='sigmoid'))\n",
    "\n",
    "model.summary()"
   ]
  },
  {
   "cell_type": "code",
   "execution_count": 41,
   "metadata": {},
   "outputs": [],
   "source": [
    "# Compile model"
   ]
  },
  {
   "cell_type": "code",
   "execution_count": 42,
   "metadata": {},
   "outputs": [],
   "source": [
    "model.compile(loss='binary_crossentropy',\n",
    "              optimizer=\"adam\",\n",
    "              metrics=['accuracy'])"
   ]
  },
  {
   "cell_type": "code",
   "execution_count": 43,
   "metadata": {},
   "outputs": [],
   "source": [
    "# Callbacks"
   ]
  },
  {
   "cell_type": "code",
   "execution_count": 44,
   "metadata": {},
   "outputs": [],
   "source": [
    "callbacks = [ ReduceLROnPlateau(monitor='val_loss', patience=5, cooldown=0),\n",
    "              EarlyStopping(monitor='val_acc', min_delta=1e-4, patience=5)]"
   ]
  },
  {
   "cell_type": "code",
   "execution_count": 45,
   "metadata": {},
   "outputs": [],
   "source": [
    "# Train"
   ]
  },
  {
   "cell_type": "code",
   "execution_count": null,
   "metadata": {},
   "outputs": [
    {
     "name": "stdout",
     "output_type": "stream",
     "text": [
      "Epoch 1/8\n",
      "   4/1125 [..............................] - ETA: 1:52:50 - loss: 0.6930 - accuracy: 0.5400"
     ]
    }
   ],
   "source": [
    "%%time\n",
    "history = model.fit(x_train, y_train,\n",
    "                    batch_size=BATCH_SIZE,\n",
    "                    epochs=EPOCHS,\n",
    "                    validation_split=0.1,\n",
    "                    verbose=1,\n",
    "                    callbacks=callbacks)"
   ]
  },
  {
   "cell_type": "code",
   "execution_count": null,
   "metadata": {},
   "outputs": [],
   "source": [
    "# Evaluate"
   ]
  },
  {
   "cell_type": "code",
   "execution_count": null,
   "metadata": {},
   "outputs": [],
   "source": [
    "%%time\n",
    "score = model.evaluate(x_test, y_test, batch_size=BATCH_SIZE)\n",
    "print()\n",
    "print(\"ACCURACY:\",score[1])\n",
    "print(\"LOSS:\",score[0])"
   ]
  },
  {
   "cell_type": "code",
   "execution_count": null,
   "metadata": {},
   "outputs": [],
   "source": [
    "acc = history.history['acc']\n",
    "val_acc = history.history['val_acc']\n",
    "loss = history.history['loss']\n",
    "val_loss = history.history['val_loss']\n",
    " \n",
    "epochs = range(len(acc))\n",
    " \n",
    "plt.plot(epochs, acc, 'b', label='Training acc')\n",
    "plt.plot(epochs, val_acc, 'r', label='Validation acc')\n",
    "plt.title('Training and validation accuracy')\n",
    "plt.legend()\n",
    " \n",
    "plt.figure()\n",
    " \n",
    "plt.plot(epochs, loss, 'b', label='Training loss')\n",
    "plt.plot(epochs, val_loss, 'r', label='Validation loss')\n",
    "plt.title('Training and validation loss')\n",
    "plt.legend()\n",
    " \n",
    "plt.show()"
   ]
  },
  {
   "cell_type": "code",
   "execution_count": null,
   "metadata": {},
   "outputs": [],
   "source": []
  },
  {
   "cell_type": "code",
   "execution_count": null,
   "metadata": {},
   "outputs": [],
   "source": []
  },
  {
   "cell_type": "code",
   "execution_count": null,
   "metadata": {},
   "outputs": [],
   "source": []
  },
  {
   "cell_type": "code",
   "execution_count": null,
   "metadata": {},
   "outputs": [],
   "source": []
  }
 ],
 "metadata": {
  "kernelspec": {
   "display_name": "Python 3",
   "language": "python",
   "name": "python3"
  },
  "language_info": {
   "codemirror_mode": {
    "name": "ipython",
    "version": 3
   },
   "file_extension": ".py",
   "mimetype": "text/x-python",
   "name": "python",
   "nbconvert_exporter": "python",
   "pygments_lexer": "ipython3",
   "version": "3.7.4"
  }
 },
 "nbformat": 4,
 "nbformat_minor": 2
}
